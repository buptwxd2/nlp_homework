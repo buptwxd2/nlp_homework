{
 "cells": [
  {
   "cell_type": "code",
   "execution_count": 18,
   "metadata": {},
   "outputs": [],
   "source": [
    "data_folder = \"./data/zhwiki/text\""
   ]
  },
  {
   "cell_type": "code",
   "execution_count": 19,
   "metadata": {},
   "outputs": [],
   "source": [
    "import os"
   ]
  },
  {
   "cell_type": "code",
   "execution_count": 20,
   "metadata": {
    "scrolled": true
   },
   "outputs": [
    {
     "data": {
      "text/plain": [
       "True"
      ]
     },
     "execution_count": 20,
     "metadata": {},
     "output_type": "execute_result"
    }
   ],
   "source": [
    "os.path.exists(data_folder)"
   ]
  },
  {
   "cell_type": "code",
   "execution_count": 21,
   "metadata": {},
   "outputs": [],
   "source": [
    "# recursively get all the files under one directory\n",
    "def iterate_over_dir(dir_name):\n",
    "    all_files = []\n",
    "    \n",
    "    for file in os.listdir(dir_name):\n",
    "        file_full_path = dir_name + '/' + file\n",
    "        if os.path.isdir(file_full_path):\n",
    "            all_files += iterate_over_dir(file_full_path)\n",
    "        else:\n",
    "            all_files += [file_full_path]\n",
    "    \n",
    "    return all_files"
   ]
  },
  {
   "cell_type": "code",
   "execution_count": 22,
   "metadata": {},
   "outputs": [
    {
     "data": {
      "text/plain": [
       "1298"
      ]
     },
     "execution_count": 22,
     "metadata": {},
     "output_type": "execute_result"
    }
   ],
   "source": [
    "len(iterate_over_dir(data_folder))"
   ]
  },
  {
   "cell_type": "code",
   "execution_count": 23,
   "metadata": {},
   "outputs": [],
   "source": [
    "all_wiki_file_paths = iterate_over_dir(data_folder)"
   ]
  },
  {
   "cell_type": "code",
   "execution_count": 24,
   "metadata": {},
   "outputs": [],
   "source": [
    "# dir to store simplified chinese version\n",
    "dir_after_parse = './data/zhwiki/clean'"
   ]
  },
  {
   "cell_type": "code",
   "execution_count": 8,
   "metadata": {},
   "outputs": [],
   "source": [
    "# 繁体转化为简体\n",
    "from langconv import *\n",
    "\n",
    "def convert_to_simplified(wiki_file_path):\n",
    "    contents = \"\"\n",
    "    \n",
    "    file_name = ''.join(wiki_file_path.split(\"/\")[-2:])\n",
    "    new_file_path = dir_after_parse + \"/\" + file_name\n",
    "    new_file_obj = open(new_file_path, \"w+\", encoding='utf8')\n",
    "    \n",
    "    with open(wiki_file_path, 'r', encoding=\"utf8\") as f:\n",
    "        for line in f:\n",
    "            if line.startswith(\"<doc\") or line.startswith(\"</doc>\"): continue\n",
    "            if not line.strip(): continue\n",
    "            simplified_line = Converter('zh-hans').convert(line)\n",
    "            contents += simplified_line\n",
    "        \n",
    "    new_file_obj.write(contents)\n",
    "        \n",
    "    new_file_obj.close()\n",
    "\n",
    "\n",
    "def convert_all_to_simplified():\n",
    "    i = 0\n",
    "    \n",
    "    for file_path in all_wiki_file_paths:\n",
    "        convert_to_simplified(file_path)\n",
    "        i += 1\n",
    "        if i % 10 == 0:\n",
    "            print (i)"
   ]
  },
  {
   "cell_type": "code",
   "execution_count": 9,
   "metadata": {},
   "outputs": [
    {
     "data": {
      "text/plain": [
       "'AAwiki_00'"
      ]
     },
     "execution_count": 9,
     "metadata": {},
     "output_type": "execute_result"
    }
   ],
   "source": [
    "''.join(all_wiki_file_paths[0].split(\"/\")[-2:])"
   ]
  },
  {
   "cell_type": "code",
   "execution_count": 10,
   "metadata": {
    "scrolled": true
   },
   "outputs": [
    {
     "name": "stdout",
     "output_type": "stream",
     "text": [
      "10\n",
      "20\n",
      "30\n",
      "40\n",
      "50\n",
      "60\n",
      "70\n",
      "80\n",
      "90\n",
      "100\n",
      "110\n",
      "120\n",
      "130\n",
      "140\n",
      "150\n",
      "160\n",
      "170\n",
      "180\n",
      "190\n",
      "200\n",
      "210\n",
      "220\n",
      "230\n",
      "240\n",
      "250\n",
      "260\n",
      "270\n",
      "280\n",
      "290\n",
      "300\n",
      "310\n",
      "320\n",
      "330\n",
      "340\n",
      "350\n",
      "360\n",
      "370\n",
      "380\n",
      "390\n",
      "400\n",
      "410\n",
      "420\n",
      "430\n",
      "440\n",
      "450\n",
      "460\n",
      "470\n",
      "480\n",
      "490\n",
      "500\n",
      "510\n",
      "520\n",
      "530\n",
      "540\n",
      "550\n",
      "560\n",
      "570\n",
      "580\n",
      "590\n",
      "600\n",
      "610\n",
      "620\n",
      "630\n",
      "640\n",
      "650\n",
      "660\n",
      "670\n",
      "680\n",
      "690\n",
      "700\n",
      "710\n",
      "720\n",
      "730\n",
      "740\n",
      "750\n",
      "760\n",
      "770\n",
      "780\n",
      "790\n",
      "800\n",
      "810\n",
      "820\n",
      "830\n",
      "840\n",
      "850\n",
      "860\n",
      "870\n",
      "880\n",
      "890\n",
      "900\n",
      "910\n",
      "920\n",
      "930\n",
      "940\n",
      "950\n",
      "960\n",
      "970\n",
      "980\n",
      "990\n",
      "1000\n",
      "1010\n",
      "1020\n",
      "1030\n",
      "1040\n",
      "1050\n",
      "1060\n",
      "1070\n",
      "1080\n",
      "1090\n",
      "1100\n",
      "1110\n",
      "1120\n",
      "1130\n",
      "1140\n",
      "1150\n",
      "1160\n",
      "1170\n",
      "1180\n",
      "1190\n",
      "1200\n",
      "1210\n",
      "1220\n",
      "1230\n",
      "1240\n",
      "1250\n",
      "1260\n",
      "1270\n",
      "1280\n",
      "1290\n"
     ]
    }
   ],
   "source": [
    "convert_all_to_simplified()"
   ]
  },
  {
   "cell_type": "code",
   "execution_count": 25,
   "metadata": {},
   "outputs": [],
   "source": [
    "cut_words_file = \"./data/cut_words.txt\""
   ]
  },
  {
   "cell_type": "code",
   "execution_count": 26,
   "metadata": {},
   "outputs": [],
   "source": [
    "import jieba\n",
    "\n",
    "def cut_to_words(file_path):\n",
    "    \n",
    "    cut_words_file_obj = open(cut_words_file, \"a+\", encoding=\"utf8\")\n",
    "    \n",
    "    with open(file_path, \"r\", encoding=\"utf8\") as f:\n",
    "        cut_words_str = \"\"\n",
    "        \n",
    "        for line in f:\n",
    "            words = list(jieba.cut(line))\n",
    "            if words:\n",
    "                cut_words_str = cut_words_str + (\" \".join(words))\n",
    "    \n",
    "    \n",
    "    cut_words_file_obj.write(cut_words_str)\n",
    "    cut_words_file_obj.close()"
   ]
  },
  {
   "cell_type": "code",
   "execution_count": 18,
   "metadata": {},
   "outputs": [],
   "source": [
    "def cut_all_to_words():\n",
    "    all_clean_files = iterate_over_dir(dir_after_parse)\n",
    "    \n",
    "    i = 0\n",
    "    for file_path in all_clean_files:\n",
    "        cut_to_words(file_path)\n",
    "        i += 1\n",
    "        if i % 10 == 0:\n",
    "            print(i)"
   ]
  },
  {
   "cell_type": "code",
   "execution_count": 19,
   "metadata": {},
   "outputs": [
    {
     "name": "stdout",
     "output_type": "stream",
     "text": [
      "10\n",
      "20\n",
      "30\n",
      "40\n",
      "50\n",
      "60\n",
      "70\n",
      "80\n",
      "90\n",
      "100\n",
      "110\n",
      "120\n",
      "130\n",
      "140\n",
      "150\n",
      "160\n",
      "170\n",
      "180\n",
      "190\n",
      "200\n",
      "210\n",
      "220\n",
      "230\n",
      "240\n",
      "250\n",
      "260\n",
      "270\n",
      "280\n",
      "290\n",
      "300\n",
      "310\n",
      "320\n",
      "330\n",
      "340\n",
      "350\n",
      "360\n",
      "370\n",
      "380\n",
      "390\n",
      "400\n",
      "410\n",
      "420\n",
      "430\n",
      "440\n",
      "450\n",
      "460\n",
      "470\n",
      "480\n",
      "490\n",
      "500\n",
      "510\n",
      "520\n",
      "530\n",
      "540\n",
      "550\n",
      "560\n",
      "570\n",
      "580\n",
      "590\n",
      "600\n",
      "610\n",
      "620\n",
      "630\n",
      "640\n",
      "650\n",
      "660\n",
      "670\n",
      "680\n",
      "690\n",
      "700\n",
      "710\n",
      "720\n",
      "730\n",
      "740\n",
      "750\n",
      "760\n",
      "770\n",
      "780\n",
      "790\n",
      "800\n",
      "810\n",
      "820\n",
      "830\n",
      "840\n",
      "850\n",
      "860\n",
      "870\n",
      "880\n",
      "890\n",
      "900\n",
      "910\n",
      "920\n",
      "930\n",
      "940\n",
      "950\n",
      "960\n",
      "970\n",
      "980\n",
      "990\n",
      "1000\n",
      "1010\n",
      "1020\n",
      "1030\n",
      "1040\n",
      "1050\n",
      "1060\n",
      "1070\n",
      "1080\n",
      "1090\n",
      "1100\n",
      "1110\n",
      "1120\n",
      "1130\n",
      "1140\n",
      "1150\n",
      "1160\n",
      "1170\n",
      "1180\n",
      "1190\n",
      "1200\n",
      "1210\n",
      "1220\n",
      "1230\n",
      "1240\n",
      "1250\n",
      "1260\n",
      "1270\n",
      "1280\n",
      "1290\n"
     ]
    }
   ],
   "source": [
    "cut_all_to_words()"
   ]
  },
  {
   "cell_type": "code",
   "execution_count": 2,
   "metadata": {},
   "outputs": [],
   "source": [
    "from gensim.models import word2vec"
   ]
  },
  {
   "cell_type": "code",
   "execution_count": 4,
   "metadata": {},
   "outputs": [
    {
     "ename": "NameError",
     "evalue": "name 'cut_words_file' is not defined",
     "output_type": "error",
     "traceback": [
      "\u001b[1;31m---------------------------------------------------------------------------\u001b[0m",
      "\u001b[1;31mNameError\u001b[0m                                 Traceback (most recent call last)",
      "\u001b[1;32m<ipython-input-4-196bf1ff135a>\u001b[0m in \u001b[0;36m<module>\u001b[1;34m()\u001b[0m\n\u001b[1;32m----> 1\u001b[1;33m \u001b[0msentences\u001b[0m \u001b[1;33m=\u001b[0m \u001b[0mword2vec\u001b[0m\u001b[1;33m.\u001b[0m\u001b[0mLineSentence\u001b[0m\u001b[1;33m(\u001b[0m\u001b[0mcut_words_file\u001b[0m\u001b[1;33m)\u001b[0m\u001b[1;33m\u001b[0m\u001b[0m\n\u001b[0m\u001b[0;32m      2\u001b[0m \u001b[0mmodel\u001b[0m \u001b[1;33m=\u001b[0m \u001b[0mword2vec\u001b[0m\u001b[1;33m.\u001b[0m\u001b[0mWord2Vec\u001b[0m\u001b[1;33m(\u001b[0m\u001b[0msentences\u001b[0m\u001b[1;33m=\u001b[0m\u001b[0msentences\u001b[0m\u001b[1;33m,\u001b[0m \u001b[0msize\u001b[0m\u001b[1;33m=\u001b[0m\u001b[1;36m100\u001b[0m\u001b[1;33m,\u001b[0m \u001b[0mwindow\u001b[0m\u001b[1;33m=\u001b[0m\u001b[1;36m5\u001b[0m\u001b[1;33m,\u001b[0m \u001b[0mmin_count\u001b[0m\u001b[1;33m=\u001b[0m\u001b[1;36m5\u001b[0m\u001b[1;33m,\u001b[0m \u001b[0mworkers\u001b[0m\u001b[1;33m=\u001b[0m\u001b[1;36m4\u001b[0m\u001b[1;33m)\u001b[0m\u001b[1;33m\u001b[0m\u001b[0m\n",
      "\u001b[1;31mNameError\u001b[0m: name 'cut_words_file' is not defined"
     ]
    }
   ],
   "source": [
    "sentences = word2vec.LineSentence(cut_words_file)\n",
    "model = word2vec.Word2Vec(sentences=sentences, size=100, window=5, min_count=5, workers=4)"
   ]
  },
  {
   "cell_type": "code",
   "execution_count": 4,
   "metadata": {},
   "outputs": [
    {
     "ename": "NameError",
     "evalue": "name 'model' is not defined",
     "output_type": "error",
     "traceback": [
      "\u001b[1;31m---------------------------------------------------------------------------\u001b[0m",
      "\u001b[1;31mNameError\u001b[0m                                 Traceback (most recent call last)",
      "\u001b[1;32m<ipython-input-4-547afca9fad1>\u001b[0m in \u001b[0;36m<module>\u001b[1;34m()\u001b[0m\n\u001b[0;32m      1\u001b[0m \u001b[1;31m# save the model for later use\u001b[0m\u001b[1;33m\u001b[0m\u001b[1;33m\u001b[0m\u001b[0m\n\u001b[1;32m----> 2\u001b[1;33m \u001b[0mmodel\u001b[0m\u001b[1;33m.\u001b[0m\u001b[0msave\u001b[0m\u001b[1;33m(\u001b[0m\u001b[1;34m\"./data/word2vec.model\"\u001b[0m\u001b[1;33m)\u001b[0m\u001b[1;33m\u001b[0m\u001b[0m\n\u001b[0m",
      "\u001b[1;31mNameError\u001b[0m: name 'model' is not defined"
     ]
    }
   ],
   "source": [
    "# save the model for later use\n",
    "model.save(\"./data/word2vec.model\")"
   ]
  },
  {
   "cell_type": "code",
   "execution_count": 3,
   "metadata": {},
   "outputs": [],
   "source": [
    "model = word2vec.Word2Vec.load(\"./data/word2vec.model\")"
   ]
  },
  {
   "cell_type": "code",
   "execution_count": 4,
   "metadata": {},
   "outputs": [
    {
     "data": {
      "text/plain": [
       "array([ 0.01484486, -0.8072568 , -0.2822899 , -4.70669   , -0.4845129 ,\n",
       "        0.7017362 , -0.85114235, -1.1780807 , -5.24441   , -1.6772665 ,\n",
       "       -0.2615523 , -2.4427776 ,  1.5934801 ,  1.6727566 ,  2.999995  ,\n",
       "       -0.01217941,  0.09348573, -0.6646273 , -1.0876671 ,  2.41148   ,\n",
       "       -0.40708038,  2.988559  ,  1.5656604 ,  3.2017305 , -1.675182  ,\n",
       "       -1.2288843 ,  1.8236387 ,  2.7249444 , -1.7799258 ,  2.0163193 ,\n",
       "       -1.0311694 , -3.0657086 ,  4.5485563 ,  3.002686  , -0.693612  ,\n",
       "       -3.5972    , -2.8837633 ,  0.15148057, -3.1729004 , -2.1548698 ,\n",
       "        0.96196115,  2.346864  , -0.15316902, -2.73824   ,  1.4881155 ,\n",
       "        0.02809573,  2.0515625 ,  0.38744634, -1.6321605 ,  0.36581916,\n",
       "       -1.8086996 , -0.68288136, -3.6792645 ,  1.9731126 , -0.14114796,\n",
       "       -3.9601338 ,  1.7320317 ,  0.22155571,  1.0957778 , -3.4647195 ,\n",
       "       -0.3458811 ,  1.4069607 ,  2.1545537 , -2.617418  ,  1.2700566 ,\n",
       "        3.224807  ,  0.46936953, -0.08890346,  5.566728  , -2.0950625 ,\n",
       "        1.7205955 , -1.9158041 ,  2.4531999 , -0.37715545,  1.3285326 ,\n",
       "       -0.25294864,  0.10191358, -2.0004785 ,  2.8208995 ,  0.67481077,\n",
       "       -1.9735824 ,  1.0720048 ,  0.05380768, -0.05694338,  2.3956683 ,\n",
       "       -4.3778105 ,  1.4486215 ,  0.77076036, -1.4362522 ,  0.5750829 ,\n",
       "        1.6105297 , -2.3912458 , -0.76903844,  2.3998806 , -1.5476904 ,\n",
       "       -1.5136153 ,  0.48833326, -2.4428325 , -3.467275  , -2.6310892 ],\n",
       "      dtype=float32)"
      ]
     },
     "execution_count": 4,
     "metadata": {},
     "output_type": "execute_result"
    }
   ],
   "source": [
    "model.wv['数学']"
   ]
  },
  {
   "cell_type": "code",
   "execution_count": 5,
   "metadata": {},
   "outputs": [
    {
     "data": {
      "text/plain": [
       "(100,)"
      ]
     },
     "execution_count": 5,
     "metadata": {},
     "output_type": "execute_result"
    }
   ],
   "source": [
    "model.wv['数学'].shape"
   ]
  },
  {
   "cell_type": "code",
   "execution_count": 6,
   "metadata": {},
   "outputs": [
    {
     "data": {
      "text/plain": [
       "[('微积分', 0.8532705903053284),\n",
       " ('概率论', 0.8267503976821899),\n",
       " ('数学分析', 0.8265663981437683),\n",
       " ('逻辑学', 0.819031298160553),\n",
       " ('数理逻辑', 0.8073157072067261),\n",
       " ('拓扑学', 0.7957483530044556),\n",
       " ('计算机科学', 0.794941782951355),\n",
       " ('语言学', 0.7934921979904175),\n",
       " ('理论物理学', 0.786392092704773),\n",
       " ('数论', 0.7831383347511292)]"
      ]
     },
     "execution_count": 6,
     "metadata": {},
     "output_type": "execute_result"
    }
   ],
   "source": [
    "model.wv.most_similar(\"数学\")"
   ]
  },
  {
   "cell_type": "code",
   "execution_count": 7,
   "metadata": {},
   "outputs": [
    {
     "data": {
      "text/plain": [
       "[('人工智慧', 0.8709152936935425),\n",
       " ('AI', 0.8583074808120728),\n",
       " ('智能', 0.7521029710769653),\n",
       " ('计算机', 0.7476472854614258),\n",
       " ('机器人学', 0.7470070719718933),\n",
       " ('虚拟现实', 0.7416224479675293),\n",
       " ('软件开发', 0.7306064367294312),\n",
       " ('机器人', 0.7303838729858398),\n",
       " ('计算机技术', 0.7194675207138062),\n",
       " ('编程', 0.7188045978546143)]"
      ]
     },
     "execution_count": 7,
     "metadata": {},
     "output_type": "execute_result"
    }
   ],
   "source": [
    "model.wv.most_similar(\"人工智能\")"
   ]
  },
  {
   "cell_type": "code",
   "execution_count": 8,
   "metadata": {},
   "outputs": [
    {
     "data": {
      "text/plain": [
       "0.74739397"
      ]
     },
     "execution_count": 8,
     "metadata": {},
     "output_type": "execute_result"
    }
   ],
   "source": [
    "model.wv.similarity(\"四川\", \"成都\")"
   ]
  },
  {
   "cell_type": "code",
   "execution_count": 29,
   "metadata": {},
   "outputs": [
    {
     "data": {
      "text/plain": [
       "-0.09244228"
      ]
     },
     "execution_count": 29,
     "metadata": {},
     "output_type": "execute_result"
    }
   ],
   "source": [
    "model.wv.similarity(\"四川\", \"数学\")"
   ]
  },
  {
   "cell_type": "code",
   "execution_count": 11,
   "metadata": {},
   "outputs": [],
   "source": [
    "# Visualize using T-SNE\n",
    "from sklearn.manifold import TSNE\n",
    "import matplotlib.pyplot as plt\n",
    "%matplotlib inline\n",
    "plt.rcParams['font.sans-serif'] = ['SimHei']\n",
    "plt.rcParams['font.family']='sans-serif'\n",
    "plt.rcParams['axes.unicode_minus'] = False"
   ]
  },
  {
   "cell_type": "code",
   "execution_count": 14,
   "metadata": {},
   "outputs": [
    {
     "data": {
      "text/plain": [
       "679123"
      ]
     },
     "execution_count": 14,
     "metadata": {},
     "output_type": "execute_result"
    }
   ],
   "source": [
    "len(model.wv.vocab)"
   ]
  },
  {
   "cell_type": "code",
   "execution_count": 15,
   "metadata": {},
   "outputs": [
    {
     "name": "stderr",
     "output_type": "stream",
     "text": [
      "C:\\Users\\wanga26\\AppData\\Local\\Continuum\\anaconda3\\envs\\cs231n\\lib\\site-packages\\ipykernel\\__main__.py:1: DeprecationWarning: Call to deprecated `__getitem__` (Method will be removed in 4.0.0, use self.wv.__getitem__() instead).\n",
      "  if __name__ == '__main__':\n"
     ]
    },
    {
     "data": {
      "text/plain": [
       "array([ 0.01484486, -0.8072568 , -0.2822899 , -4.70669   , -0.4845129 ,\n",
       "        0.7017362 , -0.85114235, -1.1780807 , -5.24441   , -1.6772665 ,\n",
       "       -0.2615523 , -2.4427776 ,  1.5934801 ,  1.6727566 ,  2.999995  ,\n",
       "       -0.01217941,  0.09348573, -0.6646273 , -1.0876671 ,  2.41148   ,\n",
       "       -0.40708038,  2.988559  ,  1.5656604 ,  3.2017305 , -1.675182  ,\n",
       "       -1.2288843 ,  1.8236387 ,  2.7249444 , -1.7799258 ,  2.0163193 ,\n",
       "       -1.0311694 , -3.0657086 ,  4.5485563 ,  3.002686  , -0.693612  ,\n",
       "       -3.5972    , -2.8837633 ,  0.15148057, -3.1729004 , -2.1548698 ,\n",
       "        0.96196115,  2.346864  , -0.15316902, -2.73824   ,  1.4881155 ,\n",
       "        0.02809573,  2.0515625 ,  0.38744634, -1.6321605 ,  0.36581916,\n",
       "       -1.8086996 , -0.68288136, -3.6792645 ,  1.9731126 , -0.14114796,\n",
       "       -3.9601338 ,  1.7320317 ,  0.22155571,  1.0957778 , -3.4647195 ,\n",
       "       -0.3458811 ,  1.4069607 ,  2.1545537 , -2.617418  ,  1.2700566 ,\n",
       "        3.224807  ,  0.46936953, -0.08890346,  5.566728  , -2.0950625 ,\n",
       "        1.7205955 , -1.9158041 ,  2.4531999 , -0.37715545,  1.3285326 ,\n",
       "       -0.25294864,  0.10191358, -2.0004785 ,  2.8208995 ,  0.67481077,\n",
       "       -1.9735824 ,  1.0720048 ,  0.05380768, -0.05694338,  2.3956683 ,\n",
       "       -4.3778105 ,  1.4486215 ,  0.77076036, -1.4362522 ,  0.5750829 ,\n",
       "        1.6105297 , -2.3912458 , -0.76903844,  2.3998806 , -1.5476904 ,\n",
       "       -1.5136153 ,  0.48833326, -2.4428325 , -3.467275  , -2.6310892 ],\n",
       "      dtype=float32)"
      ]
     },
     "execution_count": 15,
     "metadata": {},
     "output_type": "execute_result"
    }
   ],
   "source": [
    "model['数学']"
   ]
  },
  {
   "cell_type": "code",
   "execution_count": 16,
   "metadata": {},
   "outputs": [],
   "source": [
    "def tsne_plot(model):\n",
    "    \"Creates and TSNE model and plots it\"\n",
    "    labels = []\n",
    "    tokens = []\n",
    "    \n",
    "    # since there are too many words in the vocabulary, here just pick some words to visualize\n",
    "    words = [\"数学\", \"中国\", \"人工智能\", \"键盘\", \"水杯\", \"微软\"]\n",
    "    for word in words:\n",
    "        labels.append(word)\n",
    "        tokens.append(model[word])\n",
    "        for sim, _ in model.wv.most_similar(word, topn=10):\n",
    "            labels.append(sim)\n",
    "            tokens.append(model[sim])\n",
    "    \n",
    "    tsne_model = TSNE(perplexity=40, n_components=2, init='pca', n_iter=2500, random_state=23)\n",
    "    new_values = tsne_model.fit_transform(tokens)\n",
    "\n",
    "    x = []\n",
    "    y = []\n",
    "    for value in new_values:\n",
    "        x.append(value[0])\n",
    "        y.append(value[1])\n",
    "        \n",
    "    plt.figure(figsize=(16, 16)) \n",
    "    for i in range(len(x)):\n",
    "        plt.scatter(x[i],y[i])\n",
    "        plt.annotate(labels[i],\n",
    "                     xy=(x[i], y[i]),\n",
    "                     xytext=(5, 2),\n",
    "                     textcoords='offset points',\n",
    "                     ha='right',\n",
    "                     va='bottom')\n",
    "    plt.show()"
   ]
  },
  {
   "cell_type": "code",
   "execution_count": 17,
   "metadata": {
    "scrolled": true
   },
   "outputs": [
    {
     "name": "stderr",
     "output_type": "stream",
     "text": [
      "C:\\Users\\wanga26\\AppData\\Local\\Continuum\\anaconda3\\envs\\cs231n\\lib\\site-packages\\ipykernel\\__main__.py:10: DeprecationWarning: Call to deprecated `__getitem__` (Method will be removed in 4.0.0, use self.wv.__getitem__() instead).\n",
      "C:\\Users\\wanga26\\AppData\\Local\\Continuum\\anaconda3\\envs\\cs231n\\lib\\site-packages\\ipykernel\\__main__.py:13: DeprecationWarning: Call to deprecated `__getitem__` (Method will be removed in 4.0.0, use self.wv.__getitem__() instead).\n"
     ]
    },
    {
     "data": {
      "image/png": "[encoded data removed]",
      "text/plain": [
       "<Figure size 1152x1152 with 1 Axes>"
      ]
     },
     "metadata": {},
     "output_type": "display_data"
    }
   ],
   "source": [
    "tsne_plot(model)"
   ]
  },
  {
   "cell_type": "code",
   "execution_count": 11,
   "metadata": {},
   "outputs": [
    {
     "name": "stdout",
     "output_type": "stream",
     "text": [
      "['C:\\\\Users\\\\wanga26\\\\AppData\\\\Local\\\\Continuum\\\\anaconda3\\\\envs\\\\cs231n\\\\lib\\\\site-packages\\\\matplotlib']\n"
     ]
    }
   ],
   "source": [
    "import matplotlib\n",
    "print(matplotlib.__path__)"
   ]
  }
 ],
 "metadata": {
  "kernelspec": {
   "display_name": "Python [conda env:cs231n]",
   "language": "python",
   "name": "conda-env-cs231n-py"
  },
  "language_info": {
   "codemirror_mode": {
    "name": "ipython",
    "version": 3
   },
   "file_extension": ".py",
   "mimetype": "text/x-python",
   "name": "python",
   "nbconvert_exporter": "python",
   "pygments_lexer": "ipython3",
   "version": "3.6.5"
  }
 },
 "nbformat": 4,
 "nbformat_minor": 2
}
