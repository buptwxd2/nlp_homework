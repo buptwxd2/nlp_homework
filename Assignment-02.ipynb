{
 "cells": [
  {
   "cell_type": "markdown",
   "metadata": {},
   "source": [
    "## Assignments for Week-02"
   ]
  },
  {
   "cell_type": "markdown",
   "metadata": {},
   "source": [
    "In this course, we learnt what's the search problem and what's the machine leanring. In this assignment, we need you do some more practice."
   ]
  },
  {
   "cell_type": "markdown",
   "metadata": {},
   "source": [
    "### 1. Re-code the house price machine learning\n",
    "\n",
    "###### 1. Random Choose Method to get optimal *k* and *b*\n",
    "###### 2.Supervised Direction to get optimal *k* and *b*\n",
    "###### 3.Gradient Descent to get optimal *k* and *b*\n",
    "###### 4. Try different Loss function and learning rate. \n",
    "\n",
    "For example, you can change the loss function: $Loss = \\frac{1}{n} sum({y_i - \\hat{y_i}})^2$ to $Loss = \\frac{1}{n} sum(|{y_i - \\hat{y_i}}|)$\n",
    "\n",
    "And you can change the learning rate and observe the performance."
   ]
  },
  {
   "cell_type": "markdown",
   "metadata": {},
   "source": [
    "![](https://timgsa.baidu.com/timg?image&quality=80&size=b9999_10000&sec=1562414412237&di=8377c38d7b50c6f8d45b92ccc78dc1e7&imgtype=0&src=http%3A%2F%2Fmmbiz.qpic.cn%2Fmmbiz_jpg%2FlSyiavfm6wPgQDuDYa42IMgSkLOcPJU91RbkMibGy7VHLrhhNVLibTYk1iaLcmXKTdHc4icTDVia59QFXwqpW8cLflaw%2F640%3Fwx_fmt%3Djpeg)"
   ]
  },
  {
   "cell_type": "markdown",
   "metadata": {},
   "source": [
    "## 2. Answer following questions:\n",
    "\n",
    "\n",
    "###### 1. Why do we need machine learning methods instead of creating a complicated formula?\n"
   ]
  },
  {
   "cell_type": "markdown",
   "metadata": {},
   "source": [
    "Ans: Because machine learning could fit the existing dataset and find a reasonable formula/curve for it. Manually creatding a formula is too difficlut and more ofen in reality, maybe the relationshiop between X and Y could be be expressed using a math formula."
   ]
  },
  {
   "cell_type": "markdown",
   "metadata": {},
   "source": [
    "###### 2.  Wha't's the disadvantages of `the 1st Random Choosen` methods in our course? "
   ]
  },
  {
   "cell_type": "markdown",
   "metadata": {},
   "source": [
    "Ans: It's totally random and of course it's not efficient. It just tries a large number of random weights(k,b) and pcik the one which lead to smallest loss."
   ]
  },
  {
   "cell_type": "markdown",
   "metadata": {},
   "source": [
    "###### 3. Is the `2nd method supervised direction` better than 1st one?  What's the disadvantages of `the 2nd supversied directin` method? "
   ]
  },
  {
   "cell_type": "markdown",
   "metadata": {},
   "source": [
    "Ans:Yes. Ofen in reality, there are hundreds of paramerters, or thousands of, or even more. So there would be two many combination of directions, which leads to the algorithm is still not efficient enough."
   ]
  },
  {
   "cell_type": "markdown",
   "metadata": {},
   "source": [
    "###### 4. Why do we use `Derivative / Gredient` to fit a target function? "
   ]
  },
  {
   "cell_type": "markdown",
   "metadata": {},
   "source": [
    "Ans: Because the gradient represents the largest/maximimu direction in which the target increases. So along with the inververse direction, we could find the minmum of the target function most efficiently."
   ]
  },
  {
   "cell_type": "markdown",
   "metadata": {},
   "source": [
    "###### 5. In the words 'Gredient Descent', what's the `Gredient` and what's the `Descent`?"
   ]
  },
  {
   "cell_type": "markdown",
   "metadata": {},
   "source": [
    "Ans: The gradient is a vector(ine one dimension, it's a scalar), with that direction, the target function increases most quickly. Descent means the inverse direction of the gradient, in which direction, the target funcion decreases most quickly. So we use this method to iteratively find the minimum of one function"
   ]
  },
  {
   "cell_type": "markdown",
   "metadata": {},
   "source": [
    "###### 6. What's the advantages of `the 3rd gradient descent method` compared to the previous methods?"
   ]
  },
  {
   "cell_type": "markdown",
   "metadata": {},
   "source": [
    "Ans: It's the most efficient way to find the minmimum of the target function"
   ]
  },
  {
   "cell_type": "markdown",
   "metadata": {},
   "source": [
    "###### 7. Using the simple words to describe: What's the machine leanring."
   ]
  },
  {
   "cell_type": "markdown",
   "metadata": {},
   "source": [
    "Ans: Given a dataset, define a loss function, assume the relationship between X and Y, using the Gradient Descent to find the optimal parameters to minimize the defined loss function."
   ]
  },
  {
   "cell_type": "markdown",
   "metadata": {},
   "source": [
    "## 3. Finish the search problem"
   ]
  },
  {
   "cell_type": "markdown",
   "metadata": {},
   "source": [
    "Please using the search policy to implement an agent. This agent receives two input, one is @param start station and the other is @param destination. Your agent should give the optimal route based on Beijing Subway system. "
   ]
  },
  {
   "cell_type": "markdown",
   "metadata": {},
   "source": [
    "> Deadline: 2019-July-13\n",
    "\n",
    ">Submit: Submit the source code and result to github. \n",
    "\n"
   ]
  },
  {
   "cell_type": "markdown",
   "metadata": {},
   "source": [
    "![](https://timgsa.baidu.com/timg?image&quality=80&size=b9999_10000&sec=1562414356407&di=b57814aafd215bb8b8d9d8cd37c573d6&imgtype=0&src=http%3A%2F%2Fcli.clewm.net%2Ffile%2F2015%2F03%2F24%2F174ed60082b8422ac0636cfd3efb9e7f.jpg)"
   ]
  },
  {
   "cell_type": "markdown",
   "metadata": {},
   "source": [
    "#### Dataflow: "
   ]
  },
  {
   "cell_type": "markdown",
   "metadata": {},
   "source": [
    "##### 1.\tGet data from web page.\n",
    "\n",
    "> a.\tGet web page source from: https://baike.baidu.com/item/%E5%8C%97%E4%BA%AC%E5%9C%B0%E9%93%81/408485\n",
    "\n",
    "> b.\tYou may need @package **requests**[https://2.python-requests.org/en/master/] page to get the response via url\n",
    "\n",
    "> c.\tYou may need save the page source to file system.\n",
    "\n",
    "> d.\tThe target of this step is to get station information of all the subway lines;\n",
    "\n",
    "> e.\tYou may need install @package beautiful soup[https://www.crummy.com/software/BeautifulSoup/bs4/doc/]  to get the url information, or just use > Regular Expression to get the url.  Our recommendation is that using the Regular Expression and BeautiflSoup both. \n",
    "\n",
    "> f.\tYou may need BFS to get all the related page url from one url. \n",
    "Question: Why do we use BFS to traverse web page (or someone said, build a web spider)?  Can DFS do this job? which is better? "
   ]
  },
  {
   "cell_type": "markdown",
   "metadata": {},
   "source": [
    "##### 2.\tPreprocessing data from page source.\n",
    "\n",
    "> a.\tBased on the page source gotten from url. You may need some more preprocessing of the page. \n",
    "\n",
    "> b.\tthe Regular Expression you may need to process the text information.\n",
    "\n",
    "> c.\tYou may need @package networkx, @package matplotlib to visualize data. \n",
    "\n",
    "> d.\tYou should build a dictionary or graph which could represent the connection information of Beijing subway routes. \n",
    "\n",
    "> e.\tYou may need the defaultdict, set data structures to implement this procedure. "
   ]
  },
  {
   "cell_type": "markdown",
   "metadata": {},
   "source": [
    "##### 3. Build the search agent\n",
    "\n",
    "> Build the search agent based on the graph we build.\n",
    "\n",
    "for example, when you run: \n",
    "\n",
    "```python\n",
    ">>> search('奥体中心', '天安门') \n",
    "```\n",
    "you need get the result: \n",
    "\n",
    "奥体中心-> A -> B -> C -> ... -> 天安门\n",
    "\n"
   ]
  },
  {
   "cell_type": "code",
   "execution_count": 2,
   "metadata": {},
   "outputs": [],
   "source": [
    "# 考虑到爬虫本地有点繁琐，这里我将先写出DFS和BFS,以及路径搜索算法，并用老师给出的地图数据进行验证；\n",
    "# 待之后有时间之后，再去爬本市的地铁图，并应用写好的路径搜索算法"
   ]
  },
  {
   "cell_type": "code",
   "execution_count": 4,
   "metadata": {},
   "outputs": [],
   "source": [
    "# bfs algorithm\n",
    "def bfs_search(graph, start):\n",
    "    # we need a queue for bfs search\n",
    "    visited = [start]\n",
    "    \n",
    "    for node in visited:\n",
    "        adjacent_nodes_list = graph[node]\n",
    "        for adjacent_node in adjacent_nodes_list:\n",
    "            if adjacent_node not in visited:\n",
    "                visited.append(adjacent_node)\n",
    "    \n",
    "    return visited"
   ]
  },
  {
   "cell_type": "code",
   "execution_count": 5,
   "metadata": {},
   "outputs": [],
   "source": [
    "number_dict = {\n",
    "    1: [2, 3],\n",
    "    2: [1, 4], \n",
    "    3: [1, 5],\n",
    "    4: [2, 6], \n",
    "    5: [3, 7],\n",
    "    7: [5, 8]\n",
    "}"
   ]
  },
  {
   "cell_type": "code",
   "execution_count": 15,
   "metadata": {},
   "outputs": [],
   "source": [
    "from collections import defaultdict\n",
    "import networkx as nx\n",
    "number_graph = defaultdict(list)\n",
    "\n",
    "number_graph.update(number_dict)"
   ]
  },
  {
   "cell_type": "code",
   "execution_count": 13,
   "metadata": {},
   "outputs": [
    {
     "data": {
      "image/png": "[encoded data removed]",
      "text/plain": [
       "<Figure size 432x288 with 1 Axes>"
      ]
     },
     "metadata": {},
     "output_type": "display_data"
    }
   ],
   "source": [
    "graph = nx.Graph(number_graph)\n",
    "%matplotlib inline\n",
    "import matplotlib.pyplot as plt\n",
    "\n",
    "nx.draw(graph, with_labels=True)"
   ]
  },
  {
   "cell_type": "code",
   "execution_count": 17,
   "metadata": {},
   "outputs": [
    {
     "data": {
      "text/plain": [
       "[1, 2, 3, 4, 5, 6, 7, 8]"
      ]
     },
     "execution_count": 17,
     "metadata": {},
     "output_type": "execute_result"
    }
   ],
   "source": [
    "bfs_search(number_graph, 1)"
   ]
  },
  {
   "cell_type": "code",
   "execution_count": 18,
   "metadata": {},
   "outputs": [],
   "source": [
    "# non recursive version\n",
    "def non_recur_dfs_search(graph, node):\n",
    "    visited = [node]\n",
    "    # we need a stack for dfs search\n",
    "    stack = [node]\n",
    "    \n",
    "    while stack:\n",
    "        node = stack[-1]\n",
    "        if node not in visited:\n",
    "            visited.append(node)\n",
    "        \n",
    "        remove_from_stack = True\n",
    "        for next_n in graph[node]:\n",
    "            if next_n not in visited:\n",
    "                stack.append(next_n)\n",
    "                remove_from_stack = False\n",
    "        \n",
    "        if remove_from_stack:\n",
    "            stack.pop()\n",
    "            \n",
    "    return visited"
   ]
  },
  {
   "cell_type": "code",
   "execution_count": 19,
   "metadata": {},
   "outputs": [
    {
     "data": {
      "text/plain": [
       "[1, 3, 5, 7, 8, 2, 4, 6]"
      ]
     },
     "execution_count": 19,
     "metadata": {},
     "output_type": "execute_result"
    }
   ],
   "source": [
    "non_recur_dfs_search(number_graph, 1)"
   ]
  },
  {
   "cell_type": "code",
   "execution_count": 20,
   "metadata": {},
   "outputs": [],
   "source": [
    "# recursive version\n",
    "def recur_dfs_search(graph, node, visited):\n",
    "    if node not in visited:\n",
    "        visited.append(node)\n",
    "        for next_node in graph[node]:\n",
    "            recur_dfs_search(graph, next_node, visited)\n",
    "    \n",
    "    return visited"
   ]
  },
  {
   "cell_type": "code",
   "execution_count": 21,
   "metadata": {},
   "outputs": [
    {
     "data": {
      "text/plain": [
       "[1, 2, 4, 6, 3, 5, 7, 8]"
      ]
     },
     "execution_count": 21,
     "metadata": {},
     "output_type": "execute_result"
    }
   ],
   "source": [
    "recur_dfs_search(number_graph, 1, [])"
   ]
  },
  {
   "cell_type": "code",
   "execution_count": 71,
   "metadata": {},
   "outputs": [],
   "source": [
    "# search path\n",
    "def move_one_step_forward(path, dest, graph_dict):\n",
    "    tail = path[-1]\n",
    "\n",
    "    stop = False\n",
    "    if not graph_dict[tail]:\n",
    "        stop=True\n",
    "        return [path], stop\n",
    "\n",
    "    if tail == dest:\n",
    "        stop=True\n",
    "        return [path], stop\n",
    "\n",
    "    new_paths = []\n",
    "    for next_n in graph_dict[tail]:\n",
    "        new_path = path.copy()\n",
    "        if next_n not in new_path:\n",
    "            new_path.append(next_n)\n",
    "            new_paths.append(new_path)\n",
    "    \n",
    "    # edge node; need to stop\n",
    "    if not new_paths:\n",
    "        new_paths = [path]\n",
    "        stop = True\n",
    "\n",
    "    return new_paths, stop\n",
    "\n",
    "\n",
    "def search_path(source, dest, graph_dict, sort_candidate=(lambda x: x)):\n",
    "    initial_path = [source]\n",
    "    list_of_path, stop = move_one_step_forward(initial_path, dest, graph_dict)\n",
    "    if stop:\n",
    "        return list_of_path\n",
    "    \n",
    "    all_paths = []\n",
    "    \n",
    "    paths_to_explore = list_of_path\n",
    "    while paths_to_explore:\n",
    "        new_paths_to_explore = []\n",
    "        for path in paths_to_explore:\n",
    "            list_of_path, stop = move_one_step_forward(path, dest, graph_dict)\n",
    "            if stop:\n",
    "                all_paths.extend(list_of_path)\n",
    "            else:\n",
    "                new_paths_to_explore.extend(list_of_path)\n",
    "                \n",
    "        paths_to_explore = new_paths_to_explore\n",
    "    \n",
    "    # print(\"Starting from {}, all paths are {}\".format(source, all_paths))\n",
    "    \n",
    "    all_path_to_dest = [path for path in all_paths if path[-1] == dest]\n",
    "    # print(\"Starting from {} and end at {}, all paths are {}\".format(source, dest, all_path_to_dest))\n",
    "    \n",
    "    # dedupe the same element\n",
    "    final_all_path_to_dest = []\n",
    "    [final_all_path_to_dest.append(path) for path in all_path_to_dest if path not in final_all_path_to_dest]\n",
    "    \n",
    "    \n",
    "    return sort_candidate(final_all_path_to_dest)"
   ]
  },
  {
   "cell_type": "code",
   "execution_count": 72,
   "metadata": {
    "scrolled": true
   },
   "outputs": [
    {
     "data": {
      "text/plain": [
       "[[1, 2, 4, 6]]"
      ]
     },
     "execution_count": 72,
     "metadata": {},
     "output_type": "execute_result"
    }
   ],
   "source": [
    "search_path(1, 6, number_graph)"
   ]
  },
  {
   "cell_type": "code",
   "execution_count": 73,
   "metadata": {},
   "outputs": [],
   "source": [
    "# Verify the functio using the data from the course\n",
    "simple_connection_info_src = {\n",
    "    '北京': ['太原', '沈阳'],\n",
    "    '太原': ['北京', '西安', '郑州'],\n",
    "    '兰州': ['西安'],\n",
    "    '郑州': ['太原'],\n",
    "    '西安': ['兰州', '长沙'],\n",
    "    '长沙': ['福州', '南宁'],\n",
    "    '沈阳': ['北京']\n",
    "}\n",
    "\n",
    "simple_connection_info = defaultdict(list)\n",
    "simple_connection_info.update(simple_connection_info_src)"
   ]
  },
  {
   "cell_type": "code",
   "execution_count": 74,
   "metadata": {},
   "outputs": [
    {
     "data": {
      "text/plain": [
       "defaultdict(list,\n",
       "            {'北京': ['太原', '沈阳'],\n",
       "             '太原': ['北京', '西安', '郑州'],\n",
       "             '兰州': ['西安'],\n",
       "             '郑州': ['太原'],\n",
       "             '西安': ['兰州', '长沙'],\n",
       "             '长沙': ['福州', '南宁'],\n",
       "             '沈阳': ['北京']})"
      ]
     },
     "execution_count": 74,
     "metadata": {},
     "output_type": "execute_result"
    }
   ],
   "source": [
    "simple_connection_info"
   ]
  },
  {
   "cell_type": "code",
   "execution_count": 75,
   "metadata": {},
   "outputs": [
    {
     "data": {
      "text/plain": [
       "[['兰州', '西安', '长沙', '福州']]"
      ]
     },
     "execution_count": 75,
     "metadata": {},
     "output_type": "execute_result"
    }
   ],
   "source": [
    "search_path('兰州', '福州', simple_connection_info)"
   ]
  },
  {
   "cell_type": "code",
   "execution_count": 76,
   "metadata": {},
   "outputs": [
    {
     "data": {
      "text/plain": [
       "[['北京', '太原', '西安', '长沙', '福州']]"
      ]
     },
     "execution_count": 76,
     "metadata": {},
     "output_type": "execute_result"
    }
   ],
   "source": [
    "search_path('北京', '福州', simple_connection_info)"
   ]
  },
  {
   "cell_type": "code",
   "execution_count": 77,
   "metadata": {},
   "outputs": [],
   "source": [
    "# Using the formal map to test the function\n",
    "import re\n",
    "pattern = re.compile(r\"name:'(\\w+)',\\s+geoCoord:\\[(\\d+.\\d+),\\s(\\d+.\\d+)\\]\")\n",
    "coordination_source = \"\"\"\n",
    "{name:'兰州', geoCoord:[103.73, 36.03]},\n",
    "{name:'嘉峪关', geoCoord:[98.17, 39.47]},\n",
    "{name:'西宁', geoCoord:[101.74, 36.56]},\n",
    "{name:'成都', geoCoord:[104.06, 30.67]},\n",
    "{name:'石家庄', geoCoord:[114.48, 38.03]},\n",
    "{name:'拉萨', geoCoord:[102.73, 25.04]},\n",
    "{name:'贵阳', geoCoord:[106.71, 26.57]},\n",
    "{name:'武汉', geoCoord:[114.31, 30.52]},\n",
    "{name:'郑州', geoCoord:[113.65, 34.76]},\n",
    "{name:'济南', geoCoord:[117, 36.65]},\n",
    "{name:'南京', geoCoord:[118.78, 32.04]},\n",
    "{name:'合肥', geoCoord:[117.27, 31.86]},\n",
    "{name:'杭州', geoCoord:[120.19, 30.26]},\n",
    "{name:'南昌', geoCoord:[115.89, 28.68]},\n",
    "{name:'福州', geoCoord:[119.3, 26.08]},\n",
    "{name:'广州', geoCoord:[113.23, 23.16]},\n",
    "{name:'长沙', geoCoord:[113, 28.21]},\n",
    "//{name:'海口', geoCoord:[110.35, 20.02]},\n",
    "{name:'沈阳', geoCoord:[123.38, 41.8]},\n",
    "{name:'长春', geoCoord:[125.35, 43.88]},\n",
    "{name:'哈尔滨', geoCoord:[126.63, 45.75]},\n",
    "{name:'太原', geoCoord:[112.53, 37.87]},\n",
    "{name:'西安', geoCoord:[108.95, 34.27]},\n",
    "//{name:'台湾', geoCoord:[121.30, 25.03]},\n",
    "{name:'北京', geoCoord:[116.46, 39.92]},\n",
    "{name:'上海', geoCoord:[121.48, 31.22]},\n",
    "{name:'重庆', geoCoord:[106.54, 29.59]},\n",
    "{name:'天津', geoCoord:[117.2, 39.13]},\n",
    "{name:'呼和浩特', geoCoord:[111.65, 40.82]},\n",
    "{name:'南宁', geoCoord:[108.33, 22.84]},\n",
    "//{name:'西藏', geoCoord:[91.11, 29.97]},\n",
    "{name:'银川', geoCoord:[106.27, 38.47]},\n",
    "{name:'乌鲁木齐', geoCoord:[87.68, 43.77]},\n",
    "{name:'香港', geoCoord:[114.17, 22.28]},\n",
    "{name:'澳门', geoCoord:[113.54, 22.19]}\n",
    "\"\"\"\n",
    "\n",
    "city_location = {}\n",
    "\n",
    "for line in coordination_source.split('\\n'):\n",
    "    city_info = pattern.findall(line)\n",
    "    if not city_info: continue\n",
    "    \n",
    "    # following: we find the city info\n",
    "    \n",
    "    city, long, lat = city_info[0]\n",
    "    \n",
    "    long, lat = float(long), float(lat)\n",
    "    \n",
    "    city_location[city] = (long, lat)"
   ]
  },
  {
   "cell_type": "code",
   "execution_count": 78,
   "metadata": {},
   "outputs": [
    {
     "data": {
      "text/plain": [
       "{'兰州': (103.73, 36.03),\n",
       " '嘉峪关': (98.17, 39.47),\n",
       " '西宁': (101.74, 36.56),\n",
       " '成都': (104.06, 30.67),\n",
       " '石家庄': (114.48, 38.03),\n",
       " '拉萨': (102.73, 25.04),\n",
       " '贵阳': (106.71, 26.57),\n",
       " '武汉': (114.31, 30.52),\n",
       " '郑州': (113.65, 34.76),\n",
       " '济南': (117.0, 36.65),\n",
       " '南京': (118.78, 32.04),\n",
       " '合肥': (117.27, 31.86),\n",
       " '杭州': (120.19, 30.26),\n",
       " '南昌': (115.89, 28.68),\n",
       " '福州': (119.3, 26.08),\n",
       " '广州': (113.23, 23.16),\n",
       " '长沙': (113.0, 28.21),\n",
       " '海口': (110.35, 20.02),\n",
       " '沈阳': (123.38, 41.8),\n",
       " '长春': (125.35, 43.88),\n",
       " '哈尔滨': (126.63, 45.75),\n",
       " '太原': (112.53, 37.87),\n",
       " '西安': (108.95, 34.27),\n",
       " '台湾': (121.3, 25.03),\n",
       " '北京': (116.46, 39.92),\n",
       " '上海': (121.48, 31.22),\n",
       " '重庆': (106.54, 29.59),\n",
       " '天津': (117.2, 39.13),\n",
       " '呼和浩特': (111.65, 40.82),\n",
       " '南宁': (108.33, 22.84),\n",
       " '西藏': (91.11, 29.97),\n",
       " '银川': (106.27, 38.47),\n",
       " '乌鲁木齐': (87.68, 43.77),\n",
       " '香港': (114.17, 22.28),\n",
       " '澳门': (113.54, 22.19)}"
      ]
     },
     "execution_count": 78,
     "metadata": {},
     "output_type": "execute_result"
    }
   ],
   "source": [
    "city_location"
   ]
  },
  {
   "cell_type": "code",
   "execution_count": 79,
   "metadata": {},
   "outputs": [],
   "source": [
    "import math\n",
    "def geo_distance(origin, destination):\n",
    "    \"\"\"\n",
    "    Calculate the Haversine distance.\n",
    "\n",
    "    Parameters\n",
    "    ----------\n",
    "    origin : tuple of float\n",
    "        (lat, long)\n",
    "    destination : tuple of float\n",
    "        (lat, long)\n",
    "\n",
    "    Returns\n",
    "    -------\n",
    "    distance_in_km : float\n",
    "\n",
    "    Examples\n",
    "    --------\n",
    "    >>> origin = (48.1372, 11.5756)  # Munich\n",
    "    >>> destination = (52.5186, 13.4083)  # Berlin\n",
    "    >>> round(distance(origin, destination), 1)\n",
    "    504.2\n",
    "    \"\"\"\n",
    "    lat1, lon1 = origin\n",
    "    lat2, lon2 = destination\n",
    "    radius = 6371  # km\n",
    "\n",
    "    dlat = math.radians(lat2 - lat1)\n",
    "    dlon = math.radians(lon2 - lon1)\n",
    "    a = (math.sin(dlat / 2) * math.sin(dlat / 2) +\n",
    "         math.cos(math.radians(lat1)) * math.cos(math.radians(lat2)) *\n",
    "         math.sin(dlon / 2) * math.sin(dlon / 2))\n",
    "    c = 2 * math.atan2(math.sqrt(a), math.sqrt(1 - a))\n",
    "    d = radius * c\n",
    "\n",
    "    return d"
   ]
  },
  {
   "cell_type": "code",
   "execution_count": 80,
   "metadata": {},
   "outputs": [],
   "source": [
    "def get_geo_distance(city1, city2):\n",
    "    return geo_distance(city_location[city1], city_location[city2])"
   ]
  },
  {
   "cell_type": "code",
   "execution_count": 81,
   "metadata": {},
   "outputs": [],
   "source": [
    "city_connection = defaultdict(list)"
   ]
  },
  {
   "cell_type": "code",
   "execution_count": 82,
   "metadata": {},
   "outputs": [],
   "source": [
    "threshold = 300\n",
    "for c1 in city_location:\n",
    "    for c2 in city_location:\n",
    "        if c1 == c2: continue\n",
    "        \n",
    "        distance = get_geo_distance(c1, c2)\n",
    "        \n",
    "        if distance < threshold:\n",
    "            city_connection[c1].append(c2)\n",
    "            city_connection[c2].append(c1)"
   ]
  },
  {
   "cell_type": "code",
   "execution_count": 83,
   "metadata": {},
   "outputs": [
    {
     "data": {
      "text/plain": [
       "defaultdict(list,\n",
       "            {'兰州': ['西宁', '成都', '银川', '西宁', '成都', '银川'],\n",
       "             '西宁': ['兰州', '兰州', '成都', '拉萨', '成都', '拉萨'],\n",
       "             '成都': ['兰州', '西宁', '兰州', '西宁', '拉萨', '重庆', '拉萨', '重庆'],\n",
       "             '银川': ['兰州', '重庆', '兰州', '重庆'],\n",
       "             '拉萨': ['西宁', '成都', '西宁', '成都'],\n",
       "             '重庆': ['成都', '贵阳', '成都', '贵阳', '银川', '银川'],\n",
       "             '石家庄': ['郑州', '济南', '太原', '北京', '郑州', '济南', '太原', '北京'],\n",
       "             '郑州': ['石家庄', '武汉', '石家庄', '武汉', '长沙', '太原', '长沙', '太原'],\n",
       "             '济南': ['石家庄', '石家庄', '合肥', '北京', '天津', '合肥', '北京', '天津'],\n",
       "             '太原': ['石家庄', '郑州', '石家庄', '郑州', '呼和浩特', '呼和浩特'],\n",
       "             '北京': ['石家庄', '济南', '石家庄', '济南', '天津', '天津'],\n",
       "             '贵阳': ['重庆', '南宁', '重庆', '南宁'],\n",
       "             '南宁': ['贵阳', '海口', '贵阳', '海口'],\n",
       "             '武汉': ['郑州', '南昌', '长沙', '郑州', '南昌', '长沙'],\n",
       "             '南昌': ['武汉', '合肥', '武汉', '合肥'],\n",
       "             '长沙': ['武汉',\n",
       "              '郑州',\n",
       "              '广州',\n",
       "              '武汉',\n",
       "              '郑州',\n",
       "              '广州',\n",
       "              '香港',\n",
       "              '澳门',\n",
       "              '香港',\n",
       "              '澳门'],\n",
       "             '合肥': ['济南', '南京', '济南', '南京', '南昌', '南昌'],\n",
       "             '天津': ['济南', '北京', '济南', '北京'],\n",
       "             '南京': ['合肥', '杭州', '合肥', '杭州'],\n",
       "             '杭州': ['南京', '南京', '福州', '上海', '福州', '上海'],\n",
       "             '福州': ['杭州', '杭州', '台湾', '台湾'],\n",
       "             '上海': ['杭州', '杭州'],\n",
       "             '台湾': ['福州', '福州'],\n",
       "             '广州': ['长沙', '香港', '澳门', '长沙', '香港', '澳门'],\n",
       "             '香港': ['广州', '长沙', '广州', '长沙', '澳门', '澳门'],\n",
       "             '澳门': ['广州', '长沙', '香港', '广州', '长沙', '香港'],\n",
       "             '海口': ['南宁', '南宁'],\n",
       "             '沈阳': ['长春', '长春'],\n",
       "             '长春': ['沈阳', '沈阳', '哈尔滨', '哈尔滨'],\n",
       "             '哈尔滨': ['长春', '长春'],\n",
       "             '呼和浩特': ['太原', '太原']})"
      ]
     },
     "execution_count": 83,
     "metadata": {},
     "output_type": "execute_result"
    }
   ],
   "source": [
    "city_connection"
   ]
  },
  {
   "cell_type": "code",
   "execution_count": 89,
   "metadata": {},
   "outputs": [],
   "source": [
    "# Verify the function using city_connection\n",
    "\n",
    "def transfer_stations_first(pathes): \n",
    "    return sorted(pathes, key=len)"
   ]
  },
  {
   "cell_type": "code",
   "execution_count": 90,
   "metadata": {},
   "outputs": [],
   "source": [
    "def transfer_as_much_possible(pathes):\n",
    "    return sorted(pathes, key=len, reverse=True)"
   ]
  },
  {
   "cell_type": "code",
   "execution_count": 91,
   "metadata": {},
   "outputs": [],
   "source": [
    "def shortest_path_first(pathes):\n",
    "    \n",
    "    if len(pathes) <= 1: return pathes\n",
    "    \n",
    "    def get_path_distnace(path):\n",
    "        distance = 0\n",
    "        for station in path[:-1]:\n",
    "            distance += get_geo_distance(station, path[-1])\n",
    "            \n",
    "        return distance\n",
    "\n",
    "    return sorted(pathes, key=get_path_distnace)"
   ]
  },
  {
   "cell_type": "code",
   "execution_count": 92,
   "metadata": {},
   "outputs": [
    {
     "data": {
      "text/plain": [
       "[['北京', '济南', '合肥', '南京'],\n",
       " ['北京', '石家庄', '济南', '合肥', '南京'],\n",
       " ['北京', '天津', '济南', '合肥', '南京'],\n",
       " ['北京', '石家庄', '郑州', '武汉', '南昌', '合肥', '南京'],\n",
       " ['北京', '石家庄', '郑州', '长沙', '武汉', '南昌', '合肥', '南京'],\n",
       " ['北京', '石家庄', '太原', '郑州', '武汉', '南昌', '合肥', '南京'],\n",
       " ['北京', '济南', '石家庄', '郑州', '武汉', '南昌', '合肥', '南京'],\n",
       " ['北京', '石家庄', '太原', '郑州', '长沙', '武汉', '南昌', '合肥', '南京'],\n",
       " ['北京', '济南', '石家庄', '郑州', '长沙', '武汉', '南昌', '合肥', '南京'],\n",
       " ['北京', '济南', '石家庄', '太原', '郑州', '武汉', '南昌', '合肥', '南京'],\n",
       " ['北京', '天津', '济南', '石家庄', '郑州', '武汉', '南昌', '合肥', '南京'],\n",
       " ['北京', '济南', '石家庄', '太原', '郑州', '长沙', '武汉', '南昌', '合肥', '南京'],\n",
       " ['北京', '天津', '济南', '石家庄', '郑州', '长沙', '武汉', '南昌', '合肥', '南京'],\n",
       " ['北京', '天津', '济南', '石家庄', '太原', '郑州', '武汉', '南昌', '合肥', '南京'],\n",
       " ['北京', '天津', '济南', '石家庄', '太原', '郑州', '长沙', '武汉', '南昌', '合肥', '南京']]"
      ]
     },
     "execution_count": 92,
     "metadata": {},
     "output_type": "execute_result"
    }
   ],
   "source": [
    "search_path('北京', '南京', city_connection)"
   ]
  },
  {
   "cell_type": "code",
   "execution_count": 93,
   "metadata": {},
   "outputs": [
    {
     "data": {
      "text/plain": [
       "[['北京', '石家庄', '郑州', '长沙'],\n",
       " ['北京', '石家庄', '郑州', '武汉', '长沙'],\n",
       " ['北京', '石家庄', '太原', '郑州', '长沙'],\n",
       " ['北京', '济南', '石家庄', '郑州', '长沙'],\n",
       " ['北京', '石家庄', '太原', '郑州', '武汉', '长沙'],\n",
       " ['北京', '济南', '石家庄', '郑州', '武汉', '长沙'],\n",
       " ['北京', '济南', '石家庄', '太原', '郑州', '长沙'],\n",
       " ['北京', '济南', '合肥', '南昌', '武汉', '长沙'],\n",
       " ['北京', '天津', '济南', '石家庄', '郑州', '长沙'],\n",
       " ['北京', '石家庄', '济南', '合肥', '南昌', '武汉', '长沙'],\n",
       " ['北京', '济南', '石家庄', '太原', '郑州', '武汉', '长沙'],\n",
       " ['北京', '济南', '合肥', '南昌', '武汉', '郑州', '长沙'],\n",
       " ['北京', '天津', '济南', '石家庄', '郑州', '武汉', '长沙'],\n",
       " ['北京', '天津', '济南', '石家庄', '太原', '郑州', '长沙'],\n",
       " ['北京', '天津', '济南', '合肥', '南昌', '武汉', '长沙'],\n",
       " ['北京', '石家庄', '济南', '合肥', '南昌', '武汉', '郑州', '长沙'],\n",
       " ['北京', '天津', '济南', '石家庄', '太原', '郑州', '武汉', '长沙'],\n",
       " ['北京', '天津', '济南', '合肥', '南昌', '武汉', '郑州', '长沙']]"
      ]
     },
     "execution_count": 93,
     "metadata": {},
     "output_type": "execute_result"
    }
   ],
   "source": [
    "search_path('北京', '长沙', city_connection)"
   ]
  },
  {
   "cell_type": "code",
   "execution_count": 96,
   "metadata": {
    "scrolled": false
   },
   "outputs": [
    {
     "data": {
      "text/plain": [
       "['北京', '石家庄', '郑州', '长沙', '广州']"
      ]
     },
     "execution_count": 96,
     "metadata": {},
     "output_type": "execute_result"
    }
   ],
   "source": [
    "search_path('北京', '广州', city_connection, sort_candidate=transfer_stations_first)[0]"
   ]
  },
  {
   "cell_type": "code",
   "execution_count": 100,
   "metadata": {},
   "outputs": [
    {
     "data": {
      "text/plain": [
       "['北京', '石家庄', '济南', '合肥', '南昌', '武汉', '郑州', '长沙', '香港', '澳门', '广州']"
      ]
     },
     "execution_count": 100,
     "metadata": {},
     "output_type": "execute_result"
    }
   ],
   "source": [
    "search_path('北京', '广州', city_connection, sort_candidate=transfer_as_much_possible)[0]\n",
    "#这个值应该是比课上的结果的准确， 课上给的结果是北京🚗->石家庄🚗->郑州🚗->武汉🚗->长沙🚗->广州"
   ]
  },
  {
   "cell_type": "code",
   "execution_count": 101,
   "metadata": {},
   "outputs": [],
   "source": [
    "#TODo: 爬虫获取当地的地铁网，处理得到想要的地铁图信息，喂给上面的算法"
   ]
  },
  {
   "cell_type": "code",
   "execution_count": 102,
   "metadata": {},
   "outputs": [],
   "source": [
    "# chengdu subway url\n",
    "url = \"http://www.chengdurail.com/index.html\""
   ]
  },
  {
   "cell_type": "code",
   "execution_count": 119,
   "metadata": {},
   "outputs": [],
   "source": [
    "import requests\n",
    "\n",
    "response = requests.get(url)\n",
    "response.encoding='utf-8'\n",
    "text = response.text"
   ]
  },
  {
   "cell_type": "code",
   "execution_count": 120,
   "metadata": {},
   "outputs": [
    {
     "data": {
      "text/plain": [
       "'<!doctype html>\\n<html>\\n<head>\\n<meta charset=\"utf-8\">\\n<meta http-equiv=\"Cache-Control\" content=\"no-cache\">\\n<meta http-equiv=\"X-UA-Compatible\" content=\"IE=edge,chrome=1\">\\n<meta name=\"renderer\" content=\"webkit\">\\n<meta name=\"author\" content=\"http://www.fractal-technology.com/\">\\n<meta name=\"apple-mobile-web-app-capable\" content=\"yes\">\\n<meta name=\"apple-mobile-web-app-status-bar-style\" content=\"black\">\\n<meta name=\"format-detection\" content=\"telephone=no,email=no,adress=no\">\\n<meta name=\"viewport\" content=\"width=device-width, initial-scale=1, maximum-scale=1, user-scalable=no\">\\n<meta name=\"keywords\" content=\"成都轨道集团官方网站\" />\\n<meta name=\"description\" content=\"成都轨道交通集团有限公司(服务热线：028-61638000)，是负责成都市轨道交通投资、建设、运营和资源开发的市属国有重要企业。公司注册资本67亿元。\" />\\n<title>成都地铁，生活一脉！ - 成都轨道集团官方网站</title>\\n<link rel=\"stylesheet\" type=\"text/css\" href=\"/Public/static/themes_ck/css/jquery.mCustomScrollbar.css\">\\n<link rel=\"stylesheet\" type=\"text/css\" href=\"/Public/static/themes_ck/css/mobileSelect.css\">\\n<link rel=\"stylesheet\" type=\"text/css\" href=\"/Public/static/themes_ck/css/animate.css\">\\n<link rel=\"stylesheet\" type=\"text/css\" href=\"/Public/static/themes_ck/css/global.css\">\\n<link rel=\"stylesheet\" type=\"text/css\" href=\"/Public/static/themes_ck/css/page.css\">\\n<script src=\"/Public/static/themes_ck/js/plugs/jquery-1.11.3.min.js\"></script>\\n<script src=\"/Public/static/themes_ck/js/plugs/mobileSelect.js\"></script>\\n<script src=\"/Public/static/themes_ck/js/plugs/jquery.placeholder.min.js\"></script>\\n<script src=\"/Public/static/themes_ck/js/plugs/jquery.touchSwipe.min.js\"></script>\\n<script src=\"/Public/static/themes_ck/js/plugs/jquery.mCustomScrollbar.min.js\"></script>\\n<script src=\"/Public/static/themes_ck/js/plugs/jquery.carouFredSel-6.2.1-packed.js\"></script>\\n<script src=\"/Public/static/themes_ck/js/plugs/iscroll-probe.js\"></script>\\n<script src=\"/Public/static/themes_ck/js/plugs/raphael2.2.0.js\"></script>\\n<script src=\"/Public/static/themes_ck/js/plugs/TweenMax.min.js\"></script>\\n<script src=\"/Public/static/themes_ck/js/global.js\"></script>\\n<script>\\n$.ajaxSetup({\\n\\tdata:{\\n\\t\\t\"ajax\":\"true\"\\n\\t}\\n});\\n</script>\\n<!--[if lt IE 9]>\\n<script src=\"/Public/static/themes_ck/js/plugs/html5shiv.min.js\"></script>\\n<script src=\"/Public/static/themes_ck/js/plugs/respond.min.js\"></script>\\n<![endif]-->\\n</head>\\n<style>\\n#myalert{ display:none; }\\n.recruit .block1{ height: auto}\\n.layer{background:url(/Public/static/themes_ck/image/con_mask.png);;position:fixed;left:0;right: 0;top:0;bottom: 0;width:100%;height:100%;z-index: 1000000;}\\n.layer .myalert{padding:30px;background:#fff;width:240px;position:absolute;margin-top:-100px;top:50%;left:50%;margin-left:-120px;text-align:center; z-index: 100000}\\n.layer .guan{background:url(/Public/static/themes_ck/image/clos.png) no-repeat center; display:block;width:23px;height:23px;position:absolute;top:10px;right:10px;}\\n.layer .text{padding-bottom:15px;font-size:18px;color:#474747;}\\n.layer .button{background:none;border:1px solid #bbbbbb;width:91px;height:29px;font:14px/100% \"Microsoft YaHei\", Arial, Tahoma, Helvetica, sans-serif;color: #707070;}\\n</style>\\n<div id=\"myalert\" class=\"layer\">\\n<div class=\"myalert\">\\n<a href=\"javascript:;\" onclick=\"myalert_hide();\" class=\"guan\"></a>\\n<div class=\"text\">请输入关键字</div>\\n<a><button class=\"button\" id=\"my_ok\" style=\"cursor:pointer ;opacity: 1;transform: translateY(0px);\">OK</button></a>\\n</div>\\n</div>\\n<script>\\nfunction my_alert( title, url) {\\n    $(\\'#myalert\\').show();\\n    $(\\'#myalert .myalert div\\').html(title);\\n    if(url){\\n        $(\\'#my_ok\\').click(function(){\\n            window.location.href=url;\\n        });\\n    }else{\\n        $(\\'#my_ok\\').click(function(){\\n            $(\\'#myalert\\').hide();\\n        });\\n    }\\n}\\nfunction myalert_hide(){\\n    $(\\'#myalert\\').hide();\\n}\\n</script>\\n<body>\\n<style>\\n    .empty-data{ width:100%; font-size:25px; padding-top:8%; padding-bottom:8%; text-align: center;}\\n    </style>\\n<script>\\n        $(function(){\\n           $(\\'#header .widget-area-notice,#header .widget-area-edit-title,#header .widget-area-edit-bg\\').remove();\\n            $(\\'#footer .widget-area-notice,#footer .widget-area-edit-title,#footer .widget-area-edit-bg\\').remove();\\n        });\\n    </script>\\n<div class=\"menu-nav m-show\">\\n<div class=\"menu-overlay\"></div>\\n<div class=\"menu-box\">\\n<span class=\"menu-close\"><i class=\"x\"></i></span>\\n<div class=\"nav-box\"><ul class=\"nav-level1\">\\n<li>\\n<span>\\n<a href=\"/\">首页</a>\\n</span>\\n</li><li>\\n<span>\\n<a href=\"/stroke/Inquire.html\">乘车查询</a>\\n<i class=\"arr\"></i> </span>\\n<ul class=\"nav-level2\">\\n<li>\\n<a href=\"/stroke/Inquire.html#anchor1\">行程查询</a>\\n</li><li>\\n<a href=\"/stroke/Inquire.html#anchor2\">站点及周边</a>\\n</li><li>\\n<a href=\"/stroke/Inquire.html#anchor3\">运营路线</a>\\n</li><li>\\n<a href=\"/stroke/Inquire.html#anchor4\">列车时刻表</a>\\n</li><li>\\n<a href=\"/stroke/Inquire.html#anchor5\">天府通</a>\\n</li> </ul> </li><li>\\n<span>\\n<a href=\"/trailer_ck.html\">运营服务</a>\\n<i class=\"arr\"></i> </span>\\n<ul class=\"nav-level2\">\\n<li>\\n<a href=\"/trailer_ck.html\">运营宣传片</a>\\n</li><li>\\n<a href=\"/trailer_ck.html#operate2\">票务信息</a>\\n</li><li>\\n<a href=\"/trailer_ck.html#operate3\">纪念票卡</a>\\n</li><li>\\n<a href=\"/trailer_ck.html#operate4\">失物招领</a>\\n</li><li>\\n<a href=\"/trailer_ck.html#operate5\">乘客问答</a>\\n</li> </ul> </li><li>\\n<span>\\n<a href=\"/security_ck.html\">地铁安全</a>\\n<i class=\"arr\"></i> </span>\\n<ul class=\"nav-level2\">\\n<li>\\n<a href=\"/security_ck.html\">安全常识</a>\\n</li><li>\\n<a href=\"/security_ck.html#anchor2\">应急处置</a>\\n</li><li>\\n<a href=\"/security_ck.html#anchor3\">安全宣传片</a>\\n</li> </ul> </li><li>\\n<span>\\n<a href=\"/underline.html\">规划建设</a>\\n<i class=\"arr\"></i> </span>\\n<ul class=\"nav-level2\">\\n<li>\\n<a href=\"/underline.html#under2\">线网规划</a>\\n</li><li>\\n<a href=\"/underline.html#under3\">在建线路</a>\\n</li><li>\\n<a href=\"/underline.html#under4\">技术百科</a>\\n</li><li>\\n<a href=\"/underline.html#under5\">文艺地铁</a>\\n</li> </ul> </li><li>\\n<span>\\n<a href=\"/meilcd.html\">成都旅游</a>\\n<i class=\"arr\"></i> </span>\\n<ul class=\"nav-level2\">\\n<li>\\n<a href=\"/meilcd.html\">美丽成都</a>\\n</li><li>\\n<a href=\"/foods_ck.html\">舌尖上的成都</a>\\n</li> </ul> </li><li>\\n<span>\\n<a href=\"/civilized.html\">文明乘车</a>\\n<i class=\"arr\"></i> </span>\\n<ul class=\"nav-level2\">\\n<li>\\n<a href=\"/civilized.html\">地铁法规</a>\\n</li><li>\\n<a href=\"/civilized.html#civ_goout1\">乘客守则</a>\\n</li><li>\\n<a href=\"/civilized.html#civ_goout2\">文明出行倡议</a>\\n</li> </ul> </li>\\n</ul></div>\\n</div>\\n</div>\\n<div id=\"header\" class=\"pos-abs\">\\n<div class=\"wrap clear\">\\n<div class=\"logo\"><a href=\"/\"><img src=\"/Uploads/Picture/2017/08/01/s5980295f02928.png\" title=\"\" alt=\"\"><img src=\"/Uploads/Picture/2017/08/01/s5980296ec1777.png\" title=\"\" alt=\"\"></a></div> <div class=\"nav p-show\"><ul class=\"clear\">\\n<li class=\"\"> \\n<a href=\"/\">首页</a>\\n</li><li class=\"\"> \\n<a href=\"/stroke/Inquire.html\">乘车查询</a>\\n<div class=\"sub-nav\">\\n<a href=\"/stroke/Inquire.html#anchor1\">行程查询</a><a href=\"/stroke/Inquire.html#anchor2\">站点及周边</a><a href=\"/stroke/Inquire.html#anchor3\">运营路线</a><a href=\"/stroke/Inquire.html#anchor4\">列车时刻表</a><a href=\"/stroke/Inquire.html#anchor5\">天府通</a> </div> </li><li class=\"\"> \\n<a href=\"/trailer_ck.html\">运营服务</a>\\n<div class=\"sub-nav\">\\n<a href=\"/trailer_ck.html\">运营宣传片</a><a href=\"/trailer_ck.html#operate2\">票务信息</a><a href=\"/trailer_ck.html#operate3\">纪念票卡</a><a href=\"/trailer_ck.html#operate4\">失物招领</a><a href=\"/trailer_ck.html#operate5\">乘客问答</a> </div> </li><li class=\"\"> \\n<a href=\"/security_ck.html\">地铁安全</a>\\n<div class=\"sub-nav\">\\n<a href=\"/security_ck.html\">安全常识</a><a href=\"/security_ck.html#anchor2\">应急处置</a><a href=\"/security_ck.html#anchor3\">安全宣传片</a> </div> </li><li class=\"\"> \\n<a href=\"/underline.html\">规划建设</a>\\n<div class=\"sub-nav\">\\n<a href=\"/underline.html#under2\">线网规划</a><a href=\"/underline.html#under3\">在建线路</a><a href=\"/underline.html#under4\">技术百科</a><a href=\"/underline.html#under5\">文艺地铁</a> </div> </li><li class=\"\"> \\n<a href=\"/meilcd.html\">成都旅游</a>\\n<div class=\"sub-nav\">\\n<a href=\"/meilcd.html\">美丽成都</a><a href=\"/foods_ck.html\">舌尖上的成都</a> </div> </li><li class=\"\"> \\n<a href=\"/civilized.html\">文明乘车</a>\\n<div class=\"sub-nav\">\\n<a href=\"/civilized.html\">地铁法规</a><a href=\"/civilized.html#civ_goout1\">乘客守则</a><a href=\"/civilized.html#civ_goout2\">文明出行倡议</a> </div> </li>\\n</ul></div> <div class=\"tools p-show\">\\n<div class=\"edition\">\\n<a href=\"/\" class=\"cur\">乘客版</a>\\n<a href=\"/index_sw.html\">商务版</a>\\n</div>\\n<div class=\"handle\"> <a><i class=\"ico\">\\n<img src=\"/Uploads/Picture/2017/08/01/s598033faf28b3.png\" alt=\"\">\\n<img src=\"/Uploads/Picture/2017/08/01/s59803408413d3.png\" alt=\"\"></i><span>028-61638000</span>\\n</a>\\n<a href=\"/index_en\"><i class=\"ico\">\\n<img src=\"/Uploads/Picture/2017/08/01/s59803449c8ad0.png\" alt=\"\">\\n<img src=\"/Uploads/Picture/2017/08/01/s5980345732f5e.png\" alt=\"\"></i>\\n</a></div> </div>\\n<div class=\"nav_wp\">\\n<a href=\"/index_sw.html\" class=\"tab\">商务版</a>\\n<a href=\"/index_en.html\" class=\"lang\">EN</a>\\n<script>\\n                var url = \"/index_en.html\" ; // \"/index_en.html\";\\n                $(\\'.handle a\\').eq(1).attr(\\'href\\', url);\\n            </script>\\n</div>\\n<div class=\"menu-btn m-show\"></div>\\n</div>\\n</div>\\n<div class=\"side-bar\"><ul class=\"list\">\\n<li>\\n<div class=\"pop\">\\n<p class=\"p\">行程查询</p>\\n</div>\\n<a href=\"/stroke/Inquire.html#anchor1\">\\n<div class=\"ico\"><img src=\"/Uploads/Picture/2017/08/08/s5989435128e14.png\" alt=\"\" title=\"\"><img src=\"/Uploads/Picture/2017/08/08/s5989435e213fa.png\" alt=\"\" title=\"\"></div>\\n</a>\\n</li>\\n<li>\\n<div class=\"pop\">\\n<p class=\"p\">线路图</p>\\n</div>\\n<a href=\"/stroke/Inquire.html#anchor3\">\\n<div class=\"ico\"><img src=\"/Uploads/Picture/2017/08/08/s5989437462fd3.png\" alt=\"\" title=\"\"><img src=\"/Uploads/Picture/2017/08/08/s5989437a2685c.png\" alt=\"\" title=\"\">\\n</div>\\n</a>\\n</li>\\n<li>\\n<div class=\"pop\">\\n<p class=\"p\">时刻表</p>\\n</div>\\n<a href=\"/stroke/Inquire.html#anchor4\">\\n<div class=\"ico\"><img src=\"/Uploads/Picture/2017/08/08/s5989438ae9d35.png\" alt=\"\" title=\"\"><img src=\"/Uploads/Picture/2017/08/08/s59894390d3ef7.png\" alt=\"\" title=\"\"></div>\\n</a>\\n</li>\\n<li>\\n<div class=\"pop\">\\n<p class=\"p\"><span>028-61638000</span></p>\\n</div>\\n<a href=\"tel:028-61638000\">\\n<div class=\"ico\"><img src=\"/Uploads/Picture/2017/08/08/s598943a3f0475.png\" alt=\"\" title=\"\"><img src=\"/Uploads/Picture/2017/08/08/s598943aa38c5a.png\" alt=\"\" title=\"\"></div>\\n</a>\\n</li>\\n<li>\\n<div class=\"pop\">\\n<div class=\"code\"><img src=\"/Uploads/Picture/2017/12/04/s5a24c4df50d03.jpg\" alt=\"\" title=\"\"></div>\\n</div>\\n<div class=\"ico\"><img src=\"/Uploads/Picture/2017/08/08/s598943b5052a3.png\" alt=\"\" title=\"\"><img src=\"/Uploads/Picture/2017/08/08/s598943baa75a7.png\" alt=\"\" title=\"\"></div>\\n</li>\\n<li>\\n<div class=\"pop\">\\n<div class=\"code\"><img src=\"/Uploads/Picture/2017/12/04/s5a24c4b525b37.jpg\" alt=\"\" title=\"\"></div>\\n</div>\\n<div class=\"ico\"><img src=\"/Uploads/Picture/2017/08/08/s598943d061d51.png\" alt=\"\" title=\"\"><img src=\"/Uploads/Picture/2017/08/08/s598943d7b6e56.png\" alt=\"\" title=\"\"></div>\\n</li>\\n<li>\\n<div class=\"ico gotop\"><img src=\"/Public/static/themes_ck/image/temp/sico7-1.png\" alt=\"\"><img src=\"/Public/static/themes_ck/image/temp/sico7-2.png\" alt=\"\"></div>\\n</li>\\n</ul></div>\\n<div id=\"container\">\\n<div class=\"focus\" style=\"opacity: 0;\">\\n<div id=\"foc\">\\n<ul class=\"carousel carousel_pc\">\\n<li>\\n<a href=\"javascript:void(0);\">\\n<img title=\"\" alt=\"\" src=\"\" id=\"time_pc\" />\\n</a>\\n<div class=\"banner_mask\"></div>\\n</li>\\n<li>\\n<a href=\"javascript:void(0);\">\\n<img src=\"/Uploads/Picture/2018/01/10/s5a5586c7331a4.jpg\" title=\"\" alt=\"\" />\\n</a>\\n<div class=\"banner_mask\"></div>\\n</li><li>\\n<a href=\"javascript:void(0);\">\\n<img src=\"/Uploads/Picture/2017/11/30/s5a1fb2d69d8da.jpg\" title=\"\" alt=\"\" />\\n</a>\\n<div class=\"banner_mask\"></div>\\n</li><li>\\n<a href=\"javascript:void(0);\">\\n<img src=\"/Uploads/Picture/2017/12/06/s5a27c4f774a07.jpg\" title=\"\" alt=\"\" />\\n</a>\\n<div class=\"banner_mask\"></div>\\n</li></ul>\\n<ul class=\"carousel carousel_phone\">\\n<li>\\n<a href=\"javascript:void(0);\">\\n<img title=\"\" alt=\"\" src=\"\" id=\"time_wap\" />\\n</a>\\n</li>\\n<li><a href=\"javascript:void(0);\"><img src=\"/Uploads/Picture/2018/01/10/s5a557f9bee006.jpg\" title=\"\" alt=\"\"/></a></li><li><a href=\"javascript:void(0);\"><img src=\"/Uploads/Picture/2017/11/13/s5a092da5988fd.jpg\" title=\"\" alt=\"\"/></a></li><li><a href=\"javascript:void(0);\"><img src=\"/Uploads/Picture/2017/11/30/s5a1fb8239b23c.jpg\" title=\"\" alt=\"\"/></a></li></ul>\\n<div class=\"paging\"></div>\\n<ul class=\"info-box\">\\n<li>\\n<p class=\"p p1\"><span>成都</span><b>chengdu</b></p>\\n</li>\\n<li>\\n<p class=\"p p2\"><span class=\"time\"></span><span class=\"weather\"></span></p>\\n</li>\\n</ul>\\n<script>\\n\\n    function bannarImg(time) {\\n        for (var key in bannerInfo) {\\n            if (bannerInfo.hasOwnProperty(key)) {\\n                var item = bannerInfo[key][time];\\n                for (var attr in item) {\\n                    if (item.hasOwnProperty(attr)) {\\n                        var tmpAttr = item[attr] ? item[attr] : \\'\\';\\n                        $(\\'#time_\\' + key).attr(attr, tmpAttr);\\n                    }\\n                }\\n            }\\n        }\\n    }\\n\\n    var bannerInfo = {\\n        pc: {\\n            6: { title: \"早\", alt: \"早\", src: \"/Uploads/Picture/2017/11/30/s5a1faf50e80a4.jpg\" },\\n            12: { title: \"午\", alt: \"午\", src: \"/Uploads/Picture/2017/11/30/s5a1fb17fb5ca5.jpg\" },\\n            18: { title: \"傍晚\", alt: \"傍晚\", src: \"/Uploads/Picture/2017/11/30/s5a1fb1d45dbe6.jpg\" },\\n            22: { title: \"夜晚\", alt: \"夜晚\", src: \"/Uploads/Picture/2017/11/30/s5a1fb22e17c58.jpg\" }\\n        },\\n        wap: {\\n            6: { title: \"\", alt: \"\", src: \"/Uploads/Picture/2017/10/27/s59f293abe5aef_624_780_0_754.jpg\" },\\n            12: { title: \"\", alt: \"\", src: \"/Uploads/Picture/2017/11/13/s5a0902deac40e_518_650_-12_717.jpg\" },\\n            18: { title: \"\", alt: \"\", src: \"/Uploads/Picture/2017/11/13/s5a0902ff47400_630_783_37_582.jpg\" },\\n            22: { title: \"\", alt: \"\", src: \"/Uploads/Picture/2017/11/13/s5a092c75374e8_519_650_-4_423.jpg\" }\\n        }\\n    }\\n\\n    var MyDate = new Date();\\n    var ofh = MyDate.getHours();\\n\\n    if (ofh >= 22) {\\n        bannarImg(22);\\n    } else if (ofh < 6) {\\n        bannarImg(22);\\n    } else if (ofh >= 6 && ofh < 12) {\\n        bannarImg(6);\\n    } else if (ofh >= 12 && ofh < 18) {\\n        bannarImg(12);\\n    } else if (ofh >= 18 && ofh < 22) {\\n        bannarImg(18);\\n    }\\n    $(\\'.focus\\').css({ \\'opacity\\': 1 });\\n</script></div> <div class=\"search-box\">\\n<div class=\"box\">\\n<h1 class=\"h1\">乘车指南-让您的行程畅通无阻</h1>\\n<div class=\"form\">\\n<div class=\"select-warp\">\\n<div class=\"select-bar\">\\n<div id=\"trigger1\" class=\"select-btn\">\\n<span class=\"select-val\"></span>\\n</div>\\n<div class=\"select-txt\">\\n<input class=\"select-input\" type=\"text\" placeholder=\"请选择或输入站点\">\\n</div>\\n</div>\\n<div class=\"select-cont\">\\n<div class=\"select-opts\">\\n<div class=\"select-scroll\">\\n<div class=\"select-grp open\">\\n<div class=\"select-tit\">1号线</div>\\n<ul class=\"select-box data-from\">\\n<li class=\"select-item\" data-code=\"0120\">韦家碾</li><li class=\"select-item\" data-code=\"0121\">升仙湖</li><li class=\"select-item\" data-code=\"0122\">火车北站</li><li class=\"select-item\" data-code=\"0123\">人民北路</li><li class=\"select-item\" data-code=\"0124\">文殊院</li><li class=\"select-item\" data-code=\"0125\">骡马市</li><li class=\"select-item\" data-code=\"0126\">天府广场</li><li class=\"select-item\" data-code=\"0127\">锦江宾馆</li><li class=\"select-item\" data-code=\"0128\">华西坝</li><li class=\"select-item\" data-code=\"0129\">省体育馆</li><li class=\"select-item\" data-code=\"0130\">倪家桥</li><li class=\"select-item\" data-code=\"0131\">桐梓林</li><li class=\"select-item\" data-code=\"0132\">火车南站</li><li class=\"select-item\" data-code=\"0133\">高新</li><li class=\"select-item\" data-code=\"0134\">金融城</li><li class=\"select-item\" data-code=\"0135\">孵化园</li><li class=\"select-item\" data-code=\"0136\">锦城广场</li><li class=\"select-item\" data-code=\"0137\">世纪城</li><li class=\"select-item\" data-code=\"0138\">天府三街</li><li class=\"select-item\" data-code=\"0139\">天府五街</li><li class=\"select-item\" data-code=\"0140\">华府大道</li><li class=\"select-item\" data-code=\"0141\">四河</li><li class=\"select-item\" data-code=\"0142\">广都</li><li class=\"select-item\" data-code=\"0143\">五根松</li><li class=\"select-item\" data-code=\"0144\">华阳</li><li class=\"select-item\" data-code=\"0145\">海昌路</li><li class=\"select-item\" data-code=\"0146\">广福</li><li class=\"select-item\" data-code=\"0147\">红石公园</li><li class=\"select-item\" data-code=\"0148\">麓湖</li><li class=\"select-item\" data-code=\"0149\">武汉路</li><li class=\"select-item\" data-code=\"0150\">天府公园</li><li class=\"select-item\" data-code=\"0151\">西博城</li><li class=\"select-item\" data-code=\"0152\">广州路</li><li class=\"select-item\" data-code=\"0153\">兴隆湖</li><li class=\"select-item\" data-code=\"0154\">科学城</li> </ul>\\n</div><div class=\"select-grp \">\\n<div class=\"select-tit\">2号线</div>\\n<ul class=\"select-box data-from\">\\n<li class=\"select-item\" data-code=\"0221\">犀浦</li><li class=\"select-item\" data-code=\"0222\">天河路</li><li class=\"select-item\" data-code=\"0223\">百草路</li><li class=\"select-item\" data-code=\"0224\">金周路</li><li class=\"select-item\" data-code=\"0225\">金科北路</li><li class=\"select-item\" data-code=\"0226\">迎宾大道</li><li class=\"select-item\" data-code=\"0227\">茶店子客运站</li><li class=\"select-item\" data-code=\"0228\">羊犀立交</li><li class=\"select-item\" data-code=\"0229\">一品天下</li><li class=\"select-item\" data-code=\"0230\">蜀汉路东</li><li class=\"select-item\" data-code=\"0231\">白果林</li><li class=\"select-item\" data-code=\"0232\">中医大省医院</li><li class=\"select-item\" data-code=\"0233\">通惠门</li><li class=\"select-item\" data-code=\"0234\">人民公园</li><li class=\"select-item\" data-code=\"0235\">天府广场</li><li class=\"select-item\" data-code=\"0236\">春熙路</li><li class=\"select-item\" data-code=\"0237\">东门大桥</li><li class=\"select-item\" data-code=\"0238\">牛王庙</li><li class=\"select-item\" data-code=\"0239\">牛市口</li><li class=\"select-item\" data-code=\"0240\">东大路</li><li class=\"select-item\" data-code=\"0241\">塔子山公园</li><li class=\"select-item\" data-code=\"0242\">成都东客站</li><li class=\"select-item\" data-code=\"0243\">成渝立交</li><li class=\"select-item\" data-code=\"0244\">惠王陵</li><li class=\"select-item\" data-code=\"0245\">洪河</li><li class=\"select-item\" data-code=\"0246\">成都行政学院</li><li class=\"select-item\" data-code=\"0247\">大面铺</li><li class=\"select-item\" data-code=\"0248\">连山坡</li><li class=\"select-item\" data-code=\"0249\">界牌</li><li class=\"select-item\" data-code=\"0250\">书房</li><li class=\"select-item\" data-code=\"0251\">龙平路</li><li class=\"select-item\" data-code=\"0252\">龙泉驿</li> </ul>\\n</div><div class=\"select-grp \">\\n<div class=\"select-tit\">3号线</div>\\n<ul class=\"select-box data-from\">\\n<li class=\"select-item\" data-code=\"0312\">成都医学院</li><li class=\"select-item\" data-code=\"0313\">石油大学</li><li class=\"select-item\" data-code=\"0314\">钟楼</li><li class=\"select-item\" data-code=\"0315\">马超西路</li><li class=\"select-item\" data-code=\"0316\">团结新区</li><li class=\"select-item\" data-code=\"0317\">锦水河</li><li class=\"select-item\" data-code=\"0318\">三河场</li><li class=\"select-item\" data-code=\"0319\">金华寺东路</li><li class=\"select-item\" data-code=\"0320\">植物园</li><li class=\"select-item\" data-code=\"0321\">军区总医院</li><li class=\"select-item\" data-code=\"0322\">熊猫大道</li><li class=\"select-item\" data-code=\"0323\">动物园</li><li class=\"select-item\" data-code=\"0324\">昭觉寺南路</li><li class=\"select-item\" data-code=\"0325\">驷马桥</li><li class=\"select-item\" data-code=\"0326\">李家沱</li><li class=\"select-item\" data-code=\"0327\">前锋路</li><li class=\"select-item\" data-code=\"0328\">红星桥</li><li class=\"select-item\" data-code=\"0329\">市二医院</li><li class=\"select-item\" data-code=\"0330\">春熙路</li><li class=\"select-item\" data-code=\"0331\">新南门</li><li class=\"select-item\" data-code=\"0332\">磨子桥</li><li class=\"select-item\" data-code=\"0333\">省体育馆</li><li class=\"select-item\" data-code=\"0334\">衣冠庙</li><li class=\"select-item\" data-code=\"0335\">高升桥</li><li class=\"select-item\" data-code=\"0336\">红牌楼</li><li class=\"select-item\" data-code=\"0337\">太平园</li><li class=\"select-item\" data-code=\"0338\">川藏立交</li><li class=\"select-item\" data-code=\"0339\">武侯立交</li><li class=\"select-item\" data-code=\"0340\">武青南路</li><li class=\"select-item\" data-code=\"0341\">双凤桥</li><li class=\"select-item\" data-code=\"0342\">龙桥路</li><li class=\"select-item\" data-code=\"0343\">航都大街</li><li class=\"select-item\" data-code=\"0344\">迎春桥</li><li class=\"select-item\" data-code=\"0345\">东升</li><li class=\"select-item\" data-code=\"0346\">双流广场</li><li class=\"select-item\" data-code=\"0347\">三里坝</li><li class=\"select-item\" data-code=\"0348\">双流西站</li> </ul>\\n</div><div class=\"select-grp \">\\n<div class=\"select-tit\">4号线</div>\\n<ul class=\"select-box data-from\">\\n<li class=\"select-item\" data-code=\"0413\">万盛</li><li class=\"select-item\" data-code=\"0414\">杨柳河</li><li class=\"select-item\" data-code=\"0415\">凤溪河</li><li class=\"select-item\" data-code=\"0416\">南熏大道</li><li class=\"select-item\" data-code=\"0417\">光华公园</li><li class=\"select-item\" data-code=\"0418\">涌泉</li><li class=\"select-item\" data-code=\"0419\">凤凰大街</li><li class=\"select-item\" data-code=\"0420\">马厂坝</li><li class=\"select-item\" data-code=\"0421\">非遗博览园</li><li class=\"select-item\" data-code=\"0422\">蔡桥</li><li class=\"select-item\" data-code=\"0423\">中坝</li><li class=\"select-item\" data-code=\"0424\">成都西站 </li><li class=\"select-item\" data-code=\"0425\">清江西路</li><li class=\"select-item\" data-code=\"0426\">文化宫</li><li class=\"select-item\" data-code=\"0427\">西南财大</li><li class=\"select-item\" data-code=\"0428\">草堂北路</li><li class=\"select-item\" data-code=\"0429\">中医大省医院</li><li class=\"select-item\" data-code=\"0430\">宽窄巷子</li><li class=\"select-item\" data-code=\"0431\">骡马市</li><li class=\"select-item\" data-code=\"0432\">太升南路</li><li class=\"select-item\" data-code=\"0433\">市二医院</li><li class=\"select-item\" data-code=\"0434\">玉双路</li><li class=\"select-item\" data-code=\"0435\">双桥路</li><li class=\"select-item\" data-code=\"0436\">万年场</li><li class=\"select-item\" data-code=\"0437\">槐树店</li><li class=\"select-item\" data-code=\"0438\">来龙</li><li class=\"select-item\" data-code=\"0439\">十陵</li><li class=\"select-item\" data-code=\"0440\">成都大学</li><li class=\"select-item\" data-code=\"0441\">明蜀王陵</li><li class=\"select-item\" data-code=\"0442\">西河</li> </ul>\\n</div><div class=\"select-grp \">\\n<div class=\"select-tit\">7号线</div>\\n<ul class=\"select-box data-from\">\\n<li class=\"select-item\" data-code=\"0721\">火车北站</li><li class=\"select-item\" data-code=\"0722\">驷马桥</li><li class=\"select-item\" data-code=\"0723\">府青路</li><li class=\"select-item\" data-code=\"0724\">八里庄</li><li class=\"select-item\" data-code=\"0725\">二仙桥</li><li class=\"select-item\" data-code=\"0726\">理工大学</li><li class=\"select-item\" data-code=\"0727\">崔家店</li><li class=\"select-item\" data-code=\"0728\">双店路</li><li class=\"select-item\" data-code=\"0729\">槐树店</li><li class=\"select-item\" data-code=\"0730\">迎晖路</li><li class=\"select-item\" data-code=\"0731\">成都东客站</li><li class=\"select-item\" data-code=\"0732\">大观</li><li class=\"select-item\" data-code=\"0733\">狮子山</li><li class=\"select-item\" data-code=\"0734\">四川师大</li><li class=\"select-item\" data-code=\"0735\">琉璃场</li><li class=\"select-item\" data-code=\"0736\">三瓦窑</li><li class=\"select-item\" data-code=\"0737\">火车南站</li><li class=\"select-item\" data-code=\"0738\">神仙树</li><li class=\"select-item\" data-code=\"0739\">高朋大道</li><li class=\"select-item\" data-code=\"0740\">太平园</li><li class=\"select-item\" data-code=\"0741\">武侯大道</li><li class=\"select-item\" data-code=\"0742\">龙爪堰</li><li class=\"select-item\" data-code=\"0743\">东坡路</li><li class=\"select-item\" data-code=\"0744\">文化宫</li><li class=\"select-item\" data-code=\"0745\">金沙博物馆</li><li class=\"select-item\" data-code=\"0746\">一品天下</li><li class=\"select-item\" data-code=\"0747\">茶店子</li><li class=\"select-item\" data-code=\"0748\">花照壁</li><li class=\"select-item\" data-code=\"0749\">西南交大</li><li class=\"select-item\" data-code=\"0750\">九里堤</li><li class=\"select-item\" data-code=\"0751\">北站西二路</li> </ul>\\n</div><div class=\"select-grp \">\\n<div class=\"select-tit\">10号线</div>\\n<ul class=\"select-box data-from\">\\n<li class=\"select-item\" data-code=\"1021\">太平园</li><li class=\"select-item\" data-code=\"1022\">簇锦</li><li class=\"select-item\" data-code=\"1023\">华兴</li><li class=\"select-item\" data-code=\"1024\">金花</li><li class=\"select-item\" data-code=\"1025\">双流机场1航站楼</li><li class=\"select-item\" data-code=\"1026\">双流机场2航站楼</li> </ul>\\n</div>\\n</div>\\n</div>\\n</div>\\n</div>\\n<div class=\"to\"></div>\\n<div class=\"select-warp\">\\n<div class=\"select-bar\">\\n<div id=\"trigger2\" class=\"select-btn\">\\n<span class=\"select-val\"></span>\\n</div>\\n<div class=\"select-txt\">\\n<input class=\"select-input\" type=\"text\" placeholder=\"请选择或输入站点\">\\n</div>\\n</div>\\n<div class=\"select-cont\">\\n<div class=\"select-opts\">\\n<div class=\"select-scroll\">\\n<div class=\"select-grp open\">\\n<div class=\"select-tit\">1号线</div>\\n<ul class=\"select-box data-to\">\\n<li class=\"select-item\" data-code=\"0120\">韦家碾</li><li class=\"select-item\" data-code=\"0121\">升仙湖</li><li class=\"select-item\" data-code=\"0122\">火车北站</li><li class=\"select-item\" data-code=\"0123\">人民北路</li><li class=\"select-item\" data-code=\"0124\">文殊院</li><li class=\"select-item\" data-code=\"0125\">骡马市</li><li class=\"select-item\" data-code=\"0126\">天府广场</li><li class=\"select-item\" data-code=\"0127\">锦江宾馆</li><li class=\"select-item\" data-code=\"0128\">华西坝</li><li class=\"select-item\" data-code=\"0129\">省体育馆</li><li class=\"select-item\" data-code=\"0130\">倪家桥</li><li class=\"select-item\" data-code=\"0131\">桐梓林</li><li class=\"select-item\" data-code=\"0132\">火车南站</li><li class=\"select-item\" data-code=\"0133\">高新</li><li class=\"select-item\" data-code=\"0134\">金融城</li><li class=\"select-item\" data-code=\"0135\">孵化园</li><li class=\"select-item\" data-code=\"0136\">锦城广场</li><li class=\"select-item\" data-code=\"0137\">世纪城</li><li class=\"select-item\" data-code=\"0138\">天府三街</li><li class=\"select-item\" data-code=\"0139\">天府五街</li><li class=\"select-item\" data-code=\"0140\">华府大道</li><li class=\"select-item\" data-code=\"0141\">四河</li><li class=\"select-item\" data-code=\"0142\">广都</li><li class=\"select-item\" data-code=\"0143\">五根松</li><li class=\"select-item\" data-code=\"0144\">华阳</li><li class=\"select-item\" data-code=\"0145\">海昌路</li><li class=\"select-item\" data-code=\"0146\">广福</li><li class=\"select-item\" data-code=\"0147\">红石公园</li><li class=\"select-item\" data-code=\"0148\">麓湖</li><li class=\"select-item\" data-code=\"0149\">武汉路</li><li class=\"select-item\" data-code=\"0150\">天府公园</li><li class=\"select-item\" data-code=\"0151\">西博城</li><li class=\"select-item\" data-code=\"0152\">广州路</li><li class=\"select-item\" data-code=\"0153\">兴隆湖</li><li class=\"select-item\" data-code=\"0154\">科学城</li> </ul>\\n</div><div class=\"select-grp \">\\n<div class=\"select-tit\">2号线</div>\\n<ul class=\"select-box data-to\">\\n<li class=\"select-item\" data-code=\"0221\">犀浦</li><li class=\"select-item\" data-code=\"0222\">天河路</li><li class=\"select-item\" data-code=\"0223\">百草路</li><li class=\"select-item\" data-code=\"0224\">金周路</li><li class=\"select-item\" data-code=\"0225\">金科北路</li><li class=\"select-item\" data-code=\"0226\">迎宾大道</li><li class=\"select-item\" data-code=\"0227\">茶店子客运站</li><li class=\"select-item\" data-code=\"0228\">羊犀立交</li><li class=\"select-item\" data-code=\"0229\">一品天下</li><li class=\"select-item\" data-code=\"0230\">蜀汉路东</li><li class=\"select-item\" data-code=\"0231\">白果林</li><li class=\"select-item\" data-code=\"0232\">中医大省医院</li><li class=\"select-item\" data-code=\"0233\">通惠门</li><li class=\"select-item\" data-code=\"0234\">人民公园</li><li class=\"select-item\" data-code=\"0235\">天府广场</li><li class=\"select-item\" data-code=\"0236\">春熙路</li><li class=\"select-item\" data-code=\"0237\">东门大桥</li><li class=\"select-item\" data-code=\"0238\">牛王庙</li><li class=\"select-item\" data-code=\"0239\">牛市口</li><li class=\"select-item\" data-code=\"0240\">东大路</li><li class=\"select-item\" data-code=\"0241\">塔子山公园</li><li class=\"select-item\" data-code=\"0242\">成都东客站</li><li class=\"select-item\" data-code=\"0243\">成渝立交</li><li class=\"select-item\" data-code=\"0244\">惠王陵</li><li class=\"select-item\" data-code=\"0245\">洪河</li><li class=\"select-item\" data-code=\"0246\">成都行政学院</li><li class=\"select-item\" data-code=\"0247\">大面铺</li><li class=\"select-item\" data-code=\"0248\">连山坡</li><li class=\"select-item\" data-code=\"0249\">界牌</li><li class=\"select-item\" data-code=\"0250\">书房</li><li class=\"select-item\" data-code=\"0251\">龙平路</li><li class=\"select-item\" data-code=\"0252\">龙泉驿</li> </ul>\\n</div><div class=\"select-grp \">\\n<div class=\"select-tit\">3号线</div>\\n<ul class=\"select-box data-to\">\\n<li class=\"select-item\" data-code=\"0312\">成都医学院</li><li class=\"select-item\" data-code=\"0313\">石油大学</li><li class=\"select-item\" data-code=\"0314\">钟楼</li><li class=\"select-item\" data-code=\"0315\">马超西路</li><li class=\"select-item\" data-code=\"0316\">团结新区</li><li class=\"select-item\" data-code=\"0317\">锦水河</li><li class=\"select-item\" data-code=\"0318\">三河场</li><li class=\"select-item\" data-code=\"0319\">金华寺东路</li><li class=\"select-item\" data-code=\"0320\">植物园</li><li class=\"select-item\" data-code=\"0321\">军区总医院</li><li class=\"select-item\" data-code=\"0322\">熊猫大道</li><li class=\"select-item\" data-code=\"0323\">动物园</li><li class=\"select-item\" data-code=\"0324\">昭觉寺南路</li><li class=\"select-item\" data-code=\"0325\">驷马桥</li><li class=\"select-item\" data-code=\"0326\">李家沱</li><li class=\"select-item\" data-code=\"0327\">前锋路</li><li class=\"select-item\" data-code=\"0328\">红星桥</li><li class=\"select-item\" data-code=\"0329\">市二医院</li><li class=\"select-item\" data-code=\"0330\">春熙路</li><li class=\"select-item\" data-code=\"0331\">新南门</li><li class=\"select-item\" data-code=\"0332\">磨子桥</li><li class=\"select-item\" data-code=\"0333\">省体育馆</li><li class=\"select-item\" data-code=\"0334\">衣冠庙</li><li class=\"select-item\" data-code=\"0335\">高升桥</li><li class=\"select-item\" data-code=\"0336\">红牌楼</li><li class=\"select-item\" data-code=\"0337\">太平园</li><li class=\"select-item\" data-code=\"0338\">川藏立交</li><li class=\"select-item\" data-code=\"0339\">武侯立交</li><li class=\"select-item\" data-code=\"0340\">武青南路</li><li class=\"select-item\" data-code=\"0341\">双凤桥</li><li class=\"select-item\" data-code=\"0342\">龙桥路</li><li class=\"select-item\" data-code=\"0343\">航都大街</li><li class=\"select-item\" data-code=\"0344\">迎春桥</li><li class=\"select-item\" data-code=\"0345\">东升</li><li class=\"select-item\" data-code=\"0346\">双流广场</li><li class=\"select-item\" data-code=\"0347\">三里坝</li><li class=\"select-item\" data-code=\"0348\">双流西站</li> </ul>\\n</div><div class=\"select-grp \">\\n<div class=\"select-tit\">4号线</div>\\n<ul class=\"select-box data-to\">\\n<li class=\"select-item\" data-code=\"0413\">万盛</li><li class=\"select-item\" data-code=\"0414\">杨柳河</li><li class=\"select-item\" data-code=\"0415\">凤溪河</li><li class=\"select-item\" data-code=\"0416\">南熏大道</li><li class=\"select-item\" data-code=\"0417\">光华公园</li><li class=\"select-item\" data-code=\"0418\">涌泉</li><li class=\"select-item\" data-code=\"0419\">凤凰大街</li><li class=\"select-item\" data-code=\"0420\">马厂坝</li><li class=\"select-item\" data-code=\"0421\">非遗博览园</li><li class=\"select-item\" data-code=\"0422\">蔡桥</li><li class=\"select-item\" data-code=\"0423\">中坝</li><li class=\"select-item\" data-code=\"0424\">成都西站 </li><li class=\"select-item\" data-code=\"0425\">清江西路</li><li class=\"select-item\" data-code=\"0426\">文化宫</li><li class=\"select-item\" data-code=\"0427\">西南财大</li><li class=\"select-item\" data-code=\"0428\">草堂北路</li><li class=\"select-item\" data-code=\"0429\">中医大省医院</li><li class=\"select-item\" data-code=\"0430\">宽窄巷子</li><li class=\"select-item\" data-code=\"0431\">骡马市</li><li class=\"select-item\" data-code=\"0432\">太升南路</li><li class=\"select-item\" data-code=\"0433\">市二医院</li><li class=\"select-item\" data-code=\"0434\">玉双路</li><li class=\"select-item\" data-code=\"0435\">双桥路</li><li class=\"select-item\" data-code=\"0436\">万年场</li><li class=\"select-item\" data-code=\"0437\">槐树店</li><li class=\"select-item\" data-code=\"0438\">来龙</li><li class=\"select-item\" data-code=\"0439\">十陵</li><li class=\"select-item\" data-code=\"0440\">成都大学</li><li class=\"select-item\" data-code=\"0441\">明蜀王陵</li><li class=\"select-item\" data-code=\"0442\">西河</li> </ul>\\n</div><div class=\"select-grp \">\\n<div class=\"select-tit\">7号线</div>\\n<ul class=\"select-box data-to\">\\n<li class=\"select-item\" data-code=\"0721\">火车北站</li><li class=\"select-item\" data-code=\"0722\">驷马桥</li><li class=\"select-item\" data-code=\"0723\">府青路</li><li class=\"select-item\" data-code=\"0724\">八里庄</li><li class=\"select-item\" data-code=\"0725\">二仙桥</li><li class=\"select-item\" data-code=\"0726\">理工大学</li><li class=\"select-item\" data-code=\"0727\">崔家店</li><li class=\"select-item\" data-code=\"0728\">双店路</li><li class=\"select-item\" data-code=\"0729\">槐树店</li><li class=\"select-item\" data-code=\"0730\">迎晖路</li><li class=\"select-item\" data-code=\"0731\">成都东客站</li><li class=\"select-item\" data-code=\"0732\">大观</li><li class=\"select-item\" data-code=\"0733\">狮子山</li><li class=\"select-item\" data-code=\"0734\">四川师大</li><li class=\"select-item\" data-code=\"0735\">琉璃场</li><li class=\"select-item\" data-code=\"0736\">三瓦窑</li><li class=\"select-item\" data-code=\"0737\">火车南站</li><li class=\"select-item\" data-code=\"0738\">神仙树</li><li class=\"select-item\" data-code=\"0739\">高朋大道</li><li class=\"select-item\" data-code=\"0740\">太平园</li><li class=\"select-item\" data-code=\"0741\">武侯大道</li><li class=\"select-item\" data-code=\"0742\">龙爪堰</li><li class=\"select-item\" data-code=\"0743\">东坡路</li><li class=\"select-item\" data-code=\"0744\">文化宫</li><li class=\"select-item\" data-code=\"0745\">金沙博物馆</li><li class=\"select-item\" data-code=\"0746\">一品天下</li><li class=\"select-item\" data-code=\"0747\">茶店子</li><li class=\"select-item\" data-code=\"0748\">花照壁</li><li class=\"select-item\" data-code=\"0749\">西南交大</li><li class=\"select-item\" data-code=\"0750\">九里堤</li><li class=\"select-item\" data-code=\"0751\">北站西二路</li> </ul>\\n</div><div class=\"select-grp \">\\n<div class=\"select-tit\">10号线</div>\\n<ul class=\"select-box data-to\">\\n<li class=\"select-item\" data-code=\"1021\">太平园</li><li class=\"select-item\" data-code=\"1022\">簇锦</li><li class=\"select-item\" data-code=\"1023\">华兴</li><li class=\"select-item\" data-code=\"1024\">金花</li><li class=\"select-item\" data-code=\"1025\">双流机场1航站楼</li><li class=\"select-item\" data-code=\"1026\">双流机场2航站楼</li> </ul>\\n</div>\\n</div>\\n</div>\\n</div>\\n</div>\\n<button class=\"submit\" type=\"submit\" id=\"search-stations\">开始查询</button>\\n</div>\\n<p class=\"tip\">温馨提醒：乘车查询时间结果不含换乘时间<i class=\"date\"></i></p>\\n</div>\\n<script>\\n\\n$.ajaxSetup({\\n    data:null\\n});\\n\\nsessionStorage.setItem( \"from\", \\'\\' );\\nsessionStorage.setItem( \"to\", \\'\\' );\\n\\nvar dataInfo = [{\"id\":1,\"value\":\"1号线\",\"childs\":[{\"id\":\"0120\",\"value\":\"韦家碾\"},{\"id\":\"0121\",\"value\":\"升仙湖\"},{\"id\":\"0122\",\"value\":\"火车北站\"},{\"id\":\"0123\",\"value\":\"人民北路\"},{\"id\":\"0124\",\"value\":\"文殊院\"},{\"id\":\"0125\",\"value\":\"骡马市\"},{\"id\":\"0126\",\"value\":\"天府广场\"},{\"id\":\"0127\",\"value\":\"锦江宾馆\"},{\"id\":\"0128\",\"value\":\"华西坝\"},{\"id\":\"0129\",\"value\":\"省体育馆\"},{\"id\":\"0130\",\"value\":\"倪家桥\"},{\"id\":\"0131\",\"value\":\"桐梓林\"},{\"id\":\"0132\",\"value\":\"火车南站\"},{\"id\":\"0133\",\"value\":\"高新\"},{\"id\":\"0134\",\"value\":\"金融城\"},{\"id\":\"0135\",\"value\":\"孵化园\"},{\"id\":\"0136\",\"value\":\"锦城广场\"},{\"id\":\"0137\",\"value\":\"世纪城\"},{\"id\":\"0138\",\"value\":\"天府三街\"},{\"id\":\"0139\",\"value\":\"天府五街\"},{\"id\":\"0140\",\"value\":\"华府大道\"},{\"id\":\"0141\",\"value\":\"四河\"},{\"id\":\"0142\",\"value\":\"广都\"},{\"id\":\"0143\",\"value\":\"五根松\"},{\"id\":\"0144\",\"value\":\"华阳\"},{\"id\":\"0145\",\"value\":\"海昌路\"},{\"id\":\"0146\",\"value\":\"广福\"},{\"id\":\"0147\",\"value\":\"红石公园\"},{\"id\":\"0148\",\"value\":\"麓湖\"},{\"id\":\"0149\",\"value\":\"武汉路\"},{\"id\":\"0150\",\"value\":\"天府公园\"},{\"id\":\"0151\",\"value\":\"西博城\"},{\"id\":\"0152\",\"value\":\"广州路\"},{\"id\":\"0153\",\"value\":\"兴隆湖\"},{\"id\":\"0154\",\"value\":\"科学城\"}]},{\"id\":2,\"value\":\"2号线\",\"childs\":[{\"id\":\"0221\",\"value\":\"犀浦\"},{\"id\":\"0222\",\"value\":\"天河路\"},{\"id\":\"0223\",\"value\":\"百草路\"},{\"id\":\"0224\",\"value\":\"金周路\"},{\"id\":\"0225\",\"value\":\"金科北路\"},{\"id\":\"0226\",\"value\":\"迎宾大道\"},{\"id\":\"0227\",\"value\":\"茶店子客运站\"},{\"id\":\"0228\",\"value\":\"羊犀立交\"},{\"id\":\"0229\",\"value\":\"一品天下\"},{\"id\":\"0230\",\"value\":\"蜀汉路东\"},{\"id\":\"0231\",\"value\":\"白果林\"},{\"id\":\"0232\",\"value\":\"中医大省医院\"},{\"id\":\"0233\",\"value\":\"通惠门\"},{\"id\":\"0234\",\"value\":\"人民公园\"},{\"id\":\"0235\",\"value\":\"天府广场\"},{\"id\":\"0236\",\"value\":\"春熙路\"},{\"id\":\"0237\",\"value\":\"东门大桥\"},{\"id\":\"0238\",\"value\":\"牛王庙\"},{\"id\":\"0239\",\"value\":\"牛市口\"},{\"id\":\"0240\",\"value\":\"东大路\"},{\"id\":\"0241\",\"value\":\"塔子山公园\"},{\"id\":\"0242\",\"value\":\"成都东客站\"},{\"id\":\"0243\",\"value\":\"成渝立交\"},{\"id\":\"0244\",\"value\":\"惠王陵\"},{\"id\":\"0245\",\"value\":\"洪河\"},{\"id\":\"0246\",\"value\":\"成都行政学院\"},{\"id\":\"0247\",\"value\":\"大面铺\"},{\"id\":\"0248\",\"value\":\"连山坡\"},{\"id\":\"0249\",\"value\":\"界牌\"},{\"id\":\"0250\",\"value\":\"书房\"},{\"id\":\"0251\",\"value\":\"龙平路\"},{\"id\":\"0252\",\"value\":\"龙泉驿\"}]},{\"id\":3,\"value\":\"3号线\",\"childs\":[{\"id\":\"0312\",\"value\":\"成都医学院\"},{\"id\":\"0313\",\"value\":\"石油大学\"},{\"id\":\"0314\",\"value\":\"钟楼\"},{\"id\":\"0315\",\"value\":\"马超西路\"},{\"id\":\"0316\",\"value\":\"团结新区\"},{\"id\":\"0317\",\"value\":\"锦水河\"},{\"id\":\"0318\",\"value\":\"三河场\"},{\"id\":\"0319\",\"value\":\"金华寺东路\"},{\"id\":\"0320\",\"value\":\"植物园\"},{\"id\":\"0321\",\"value\":\"军区总医院\"},{\"id\":\"0322\",\"value\":\"熊猫大道\"},{\"id\":\"0323\",\"value\":\"动物园\"},{\"id\":\"0324\",\"value\":\"昭觉寺南路\"},{\"id\":\"0325\",\"value\":\"驷马桥\"},{\"id\":\"0326\",\"value\":\"李家沱\"},{\"id\":\"0327\",\"value\":\"前锋路\"},{\"id\":\"0328\",\"value\":\"红星桥\"},{\"id\":\"0329\",\"value\":\"市二医院\"},{\"id\":\"0330\",\"value\":\"春熙路\"},{\"id\":\"0331\",\"value\":\"新南门\"},{\"id\":\"0332\",\"value\":\"磨子桥\"},{\"id\":\"0333\",\"value\":\"省体育馆\"},{\"id\":\"0334\",\"value\":\"衣冠庙\"},{\"id\":\"0335\",\"value\":\"高升桥\"},{\"id\":\"0336\",\"value\":\"红牌楼\"},{\"id\":\"0337\",\"value\":\"太平园\"},{\"id\":\"0338\",\"value\":\"川藏立交\"},{\"id\":\"0339\",\"value\":\"武侯立交\"},{\"id\":\"0340\",\"value\":\"武青南路\"},{\"id\":\"0341\",\"value\":\"双凤桥\"},{\"id\":\"0342\",\"value\":\"龙桥路\"},{\"id\":\"0343\",\"value\":\"航都大街\"},{\"id\":\"0344\",\"value\":\"迎春桥\"},{\"id\":\"0345\",\"value\":\"东升\"},{\"id\":\"0346\",\"value\":\"双流广场\"},{\"id\":\"0347\",\"value\":\"三里坝\"},{\"id\":\"0348\",\"value\":\"双流西站\"}]},{\"id\":4,\"value\":\"4号线\",\"childs\":[{\"id\":\"0413\",\"value\":\"万盛\"},{\"id\":\"0414\",\"value\":\"杨柳河\"},{\"id\":\"0415\",\"value\":\"凤溪河\"},{\"id\":\"0416\",\"value\":\"南熏大道\"},{\"id\":\"0417\",\"value\":\"光华公园\"},{\"id\":\"0418\",\"value\":\"涌泉\"},{\"id\":\"0419\",\"value\":\"凤凰大街\"},{\"id\":\"0420\",\"value\":\"马厂坝\"},{\"id\":\"0421\",\"value\":\"非遗博览园\"},{\"id\":\"0422\",\"value\":\"蔡桥\"},{\"id\":\"0423\",\"value\":\"中坝\"},{\"id\":\"0424\",\"value\":\"成都西站   \"},{\"id\":\"0425\",\"value\":\"清江西路\"},{\"id\":\"0426\",\"value\":\"文化宫\"},{\"id\":\"0427\",\"value\":\"西南财大\"},{\"id\":\"0428\",\"value\":\"草堂北路\"},{\"id\":\"0429\",\"value\":\"中医大省医院\"},{\"id\":\"0430\",\"value\":\"宽窄巷子\"},{\"id\":\"0431\",\"value\":\"骡马市\"},{\"id\":\"0432\",\"value\":\"太升南路\"},{\"id\":\"0433\",\"value\":\"市二医院\"},{\"id\":\"0434\",\"value\":\"玉双路\"},{\"id\":\"0435\",\"value\":\"双桥路\"},{\"id\":\"0436\",\"value\":\"万年场\"},{\"id\":\"0437\",\"value\":\"槐树店\"},{\"id\":\"0438\",\"value\":\"来龙\"},{\"id\":\"0439\",\"value\":\"十陵\"},{\"id\":\"0440\",\"value\":\"成都大学\"},{\"id\":\"0441\",\"value\":\"明蜀王陵\"},{\"id\":\"0442\",\"value\":\"西河\"}]},{\"id\":7,\"value\":\"7号线\",\"childs\":[{\"id\":\"0721\",\"value\":\"火车北站\"},{\"id\":\"0722\",\"value\":\"驷马桥\"},{\"id\":\"0723\",\"value\":\"府青路\"},{\"id\":\"0724\",\"value\":\"八里庄\"},{\"id\":\"0725\",\"value\":\"二仙桥\"},{\"id\":\"0726\",\"value\":\"理工大学\"},{\"id\":\"0727\",\"value\":\"崔家店\"},{\"id\":\"0728\",\"value\":\"双店路\"},{\"id\":\"0729\",\"value\":\"槐树店\"},{\"id\":\"0730\",\"value\":\"迎晖路\"},{\"id\":\"0731\",\"value\":\"成都东客站\"},{\"id\":\"0732\",\"value\":\"大观\"},{\"id\":\"0733\",\"value\":\"狮子山\"},{\"id\":\"0734\",\"value\":\"四川师大\"},{\"id\":\"0735\",\"value\":\"琉璃场\"},{\"id\":\"0736\",\"value\":\"三瓦窑\"},{\"id\":\"0737\",\"value\":\"火车南站\"},{\"id\":\"0738\",\"value\":\"神仙树\"},{\"id\":\"0739\",\"value\":\"高朋大道\"},{\"id\":\"0740\",\"value\":\"太平园\"},{\"id\":\"0741\",\"value\":\"武侯大道\"},{\"id\":\"0742\",\"value\":\"龙爪堰\"},{\"id\":\"0743\",\"value\":\"东坡路\"},{\"id\":\"0744\",\"value\":\"文化宫\"},{\"id\":\"0745\",\"value\":\"金沙博物馆\"},{\"id\":\"0746\",\"value\":\"一品天下\"},{\"id\":\"0747\",\"value\":\"茶店子\"},{\"id\":\"0748\",\"value\":\"花照壁\"},{\"id\":\"0749\",\"value\":\"西南交大\"},{\"id\":\"0750\",\"value\":\"九里堤\"},{\"id\":\"0751\",\"value\":\"北站西二路\"}]},{\"id\":10,\"value\":\"10号线\",\"childs\":[{\"id\":\"1021\",\"value\":\"太平园\"},{\"id\":\"1022\",\"value\":\"簇锦\"},{\"id\":\"1023\",\"value\":\"华兴\"},{\"id\":\"1024\",\"value\":\"金花\"},{\"id\":\"1025\",\"value\":\"双流机场1航站楼\"},{\"id\":\"1026\",\"value\":\"双流机场2航站楼\"}]}];\\n\\n(function(){\\n\\n    var isPc = isPC();\\n    var data1 = [\\n        {\\n            data:dataInfo\\n        }\\n    ];\\n    var data2 = data1;\\n\\n    if(!isPc){\\n\\n        var mobileSelect1 = new MobileSelect({\\n                trigger: \\'#trigger1\\',\\n                title: \\'请选择站点\\',\\n                wheels: data1,\\n                transitionEnd:function(indexArr, data){\\n//                          console.log(data);\\n                },\\n                callback:function(indexArr, data){\\n\\n                    sessionStorage.setItem( \"from\", data[1].id );\\n//                          console.log(data);\\n//                      $(\\'#trigger1 .select-val\\').text(data[1].value);\\n                    $(\\'#trigger1\\').siblings(\\'.select-txt\\').find(\\'.select-input\\').val(data[0].value+\\' - \\'+data[1].value);\\n                }\\n        });\\n\\n        var mobileSelect2 = new MobileSelect({\\n                trigger: \\'#trigger2\\',\\n                title: \\'请选择站点\\',\\n                wheels: data2,\\n                transitionEnd:function(indexArr, data){\\n//                          console.log(data);\\n                },\\n                callback:function(indexArr, data){\\n\\n                    if ( sessionStorage.getItem( \"from\" ) == data[1].id ) {\\n                        my_alert(\"请选择其他站点\");\\n                        return false;\\n                    }\\n\\n                    sessionStorage.setItem( \"to\", data[1].id );\\n\\n//                          console.log(data);\\n//                      $(\\'#trigger1 .select-val\\').text(data[1].value);\\n                    $(\\'#trigger2\\').siblings(\\'.select-txt\\').find(\\'.select-input\\').val(data[0].value+\\' - \\'+data[1].value);\\n                }\\n        });\\n\\n    }\\n})();\\n\\n\\n\\n// 搜索\\n$(\\'#search-stations\\').click(function(){\\n\\n    var data    = new Object;\\n    data.from   = sessionStorage.getItem( \"from\" ) ;\\n    data.to     = sessionStorage.getItem( \"to\" ) ;\\n    try {\\n        if (!data.from) {\\n\\n            var station1= $(\\'#trigger1\\').siblings(\\'.select-txt\\').find(\\'.select-input\\').val();\\n\\n            if (!station1) {\\n                throw new Error(\"请选择起点站!\");\\n            }\\n\\n            from:\\n            for (var i = 0; i < dataInfo.length; i++) {\\n                for (var ii = 0; ii < dataInfo[i].childs.length; ii++) {\\n                    if ( station1 == dataInfo[i].childs[ii].value ) {\\n                        data.from = dataInfo[i].childs[ii].id ;\\n                        sessionStorage.setItem( \"from\" , data.from ) ;\\n                        //console.log( data.from );\\n                        break from;\\n                    }\\n                }\\n            }\\n            if (!data.from) {\\n                throw new Error(\"未找到`\"+station1+\"`站台!\");\\n            }\\n\\n        }\\n        if (!data.to) {\\n\\n\\n            var station2= $(\\'#trigger2\\').siblings(\\'.select-txt\\').find(\\'.select-input\\').val();\\n\\n            if (!station2) {\\n                throw new Error(\"请选择终点站!\");\\n            }\\n\\n            to:\\n            for (var i = 0; i < dataInfo.length; i++) {\\n                for (var ii = 0; ii < dataInfo[i].childs.length; ii++) {\\n                    if ( station2 == dataInfo[i].childs[ii].value ) {\\n                        data.to = dataInfo[i].childs[ii].id ;\\n                        sessionStorage.setItem( \"to\" , data.to ) ;\\n                        //console.log( data.to );\\n                        break to;\\n                    }\\n                }\\n            }\\n            if (!data.to) {\\n                throw new Error(\"未找到`\"+station2+\"`站台!\");\\n            }\\n\\n        }\\n\\n        if ( data.to == data.from ) {\\n            throw new Error(\"请选择其他站点\");\\n        }\\n\\n    } catch (e) {\\n        my_alert(e.message);\\n        return false;\\n    }\\n\\n    // distance 最短里程\\n    // price 最少票价\\n    // minutes 最短运行时间\\n    $.get(\"/search/station/\"+data.from+\\'/\\'+data.to+\\'.html\\', {} , function(re) {\\n\\n        if ( re.status==1 ) {\\n\\n            sessionStorage.setItem( \"from\", data.from );\\n            sessionStorage.setItem( \"to\",   data.to   );\\n\\n            location.href = \\'/search/result.html\\';\\n        }\\n\\n    }, \\'json\\');\\n\\n})\\n\\n// 选择起终站\\n$(\\'.data-from li\\').click(function(){\\n    sessionStorage.setItem( \"from\", $(this).data(\\'code\\') );\\n})\\n$(\\'.data-to li\\').click(function(){\\n\\n    if ( sessionStorage.getItem( \"from\" ) == $(this).data(\\'code\\') ) {\\n        my_alert(\"请选择其他站点\");\\n        return false;\\n    }\\n\\n    sessionStorage.setItem( \"to\", $(this).data(\\'code\\') );\\n})\\n// //输入起终点\\n// $(\\'#from-name\\').blur(function(){\\n//     data.from   = $(this).val();\\n// })\\n// $(\\'#to-name\\').blur(function(){\\n//     data.to     = $(this).val();\\n// })\\n\\nsetTimeout(function(){\\n    $(\\'.select-input\\').val(\\'\\');\\n}, 1);\\n</script></div> </div>\\n<script type=\"text/javascript\">\\n        $(function(){\\n            setTimeout(function(){$(\\'#foc .widget-area-edit , #foc .widget-area-notice , #foc .widget-area-edit-bg\\').css(\\'max-height\\',\\'430px\\');},0);\\n        });\\n        $(function(){\\n                setTimeout(function(){$(\\' #foc .widget-area-edit, #foc .widget-area-notice\\').css(\\'margin-top\\',\\'100px\\');},0);\\n        });\\n    </script>\\n<div class=\"home1\">\\n<div class=\"wrap\">\\n<div class=\"line-scroll-tab tab-wrap\">\\n<div class=\"tab-bar\">\\n<div class=\"scroll\">\\n<ul class=\"line-list\">\\n<li class=\"tab-term line-0\" style=\"color:#1f4193\">\\n<div class=\"cir\">\\n<div class=\"ico\">\\n<img src=\"/Public/static/themes_ck/image/temp/icon7.png\" alt=\"\">\\n</div>\\n</div>\\n<p class=\"p\">1号线</p>\\n<i class=\"arr\"></i>\\n</li><li class=\"tab-term line-1\" style=\"color:#ee7a33\">\\n<div class=\"cir\">\\n<div class=\"ico\">\\n<img src=\"/Public/static/themes_ck/image/temp/icon7.png\" alt=\"\">\\n</div>\\n</div>\\n<p class=\"p\">2号线</p>\\n<i class=\"arr\"></i>\\n</li><li class=\"tab-term line-2\" style=\"color:#e40082\">\\n<div class=\"cir\">\\n<div class=\"ico\">\\n<img src=\"/Public/static/themes_ck/image/temp/icon7.png\" alt=\"\">\\n</div>\\n</div>\\n<p class=\"p\">3号线</p>\\n<i class=\"arr\"></i>\\n</li><li class=\"tab-term line-3\" style=\"color:#00a14e\">\\n<div class=\"cir\">\\n<div class=\"ico\">\\n<img src=\"/Public/static/themes_ck/image/temp/icon7.png\" alt=\"\">\\n</div>\\n</div>\\n<p class=\"p\">4号线</p>\\n<i class=\"arr\"></i>\\n</li><li class=\"tab-term line-4\" style=\"color:#84c4d0\">\\n<div class=\"cir\">\\n<div class=\"ico\">\\n<img src=\"/Public/static/themes_ck/image/temp/icon7.png\" alt=\"\">\\n</div>\\n</div>\\n<p class=\"p\">7号线</p>\\n<i class=\"arr\"></i>\\n</li><li class=\"tab-term line-5\" style=\"color:#0066b2\">\\n<div class=\"cir\">\\n<div class=\"ico\">\\n<img src=\"/Public/static/themes_ck/image/temp/icon7.png\" alt=\"\">\\n</div>\\n</div>\\n<p class=\"p\">10号线</p>\\n<i class=\"arr\"></i>\\n</li>\\n</ul>\\n</div>\\n<span class=\"prev\"></span>\\n<span class=\"next\"></span>\\n</div>\\n<div class=\"tab-cont\">\\n<div class=\"tab-item line-scroll-box\">\\n<ul class=\"carousel\">\\n<li>\\n<p class=\"p\">韦家碾</p>\\n</li><li>\\n<p class=\"p\">升仙湖</p>\\n</li><li>\\n<p class=\"p\">火车北站</p>\\n</li><li>\\n<p class=\"p\">人民北路</p>\\n</li><li>\\n<p class=\"p\">文殊院</p>\\n</li><li>\\n<p class=\"p\">骡马市</p>\\n</li><li>\\n<p class=\"p\">天府广场</p>\\n</li><li>\\n<p class=\"p\">锦江宾馆</p>\\n</li><li>\\n<p class=\"p\">华西坝</p>\\n</li><li>\\n<p class=\"p\">省体育馆</p>\\n</li><li>\\n<p class=\"p\">倪家桥</p>\\n</li><li>\\n<p class=\"p\">桐梓林</p>\\n</li><li>\\n<p class=\"p\">火车南站</p>\\n</li><li>\\n<p class=\"p\">高新</p>\\n</li><li>\\n<p class=\"p\">金融城</p>\\n</li><li>\\n<p class=\"p\">孵化园</p>\\n</li><li>\\n<p class=\"p\">锦城广场</p>\\n</li><li>\\n<p class=\"p\">世纪城</p>\\n</li><li>\\n<p class=\"p\">天府三街</p>\\n</li><li>\\n<p class=\"p\">天府五街</p>\\n</li><li>\\n<p class=\"p\">华府大道</p>\\n</li><li>\\n<p class=\"p\">四河</p>\\n</li><li>\\n<p class=\"p\">广都</p>\\n</li><li>\\n<p class=\"p\">五根松</p>\\n</li><li>\\n<p class=\"p\">华阳</p>\\n</li><li>\\n<p class=\"p\">海昌路</p>\\n</li><li>\\n<p class=\"p\">广福</p>\\n</li><li>\\n<p class=\"p\">红石公园</p>\\n</li><li>\\n<p class=\"p\">麓湖</p>\\n</li><li>\\n<p class=\"p\">武汉路</p>\\n</li><li>\\n<p class=\"p\">天府公园</p>\\n</li><li>\\n<p class=\"p\">西博城</p>\\n</li><li>\\n<p class=\"p\">广州路</p>\\n</li><li>\\n<p class=\"p\">兴隆湖</p>\\n</li><li>\\n<p class=\"p\">科学城</p>\\n</li>\\n</ul>\\n<span class=\"prev\"><i class=\"arr\"></i></span>\\n<span class=\"next\"><i class=\"arr\"></i></span>\\n</div><div class=\"tab-item line-scroll-box\">\\n<ul class=\"carousel\">\\n<li>\\n<p class=\"p\">犀浦</p>\\n</li><li>\\n<p class=\"p\">天河路</p>\\n</li><li>\\n<p class=\"p\">百草路</p>\\n</li><li>\\n<p class=\"p\">金周路</p>\\n</li><li>\\n<p class=\"p\">金科北路</p>\\n</li><li>\\n<p class=\"p\">迎宾大道</p>\\n</li><li>\\n<p class=\"p\">茶店子客运站</p>\\n</li><li>\\n<p class=\"p\">羊犀立交</p>\\n</li><li>\\n<p class=\"p\">一品天下</p>\\n</li><li>\\n<p class=\"p\">蜀汉路东</p>\\n</li><li>\\n<p class=\"p\">白果林</p>\\n</li><li>\\n<p class=\"p\">中医大省医院</p>\\n</li><li>\\n<p class=\"p\">通惠门</p>\\n</li><li>\\n<p class=\"p\">人民公园</p>\\n</li><li>\\n<p class=\"p\">天府广场</p>\\n</li><li>\\n<p class=\"p\">春熙路</p>\\n</li><li>\\n<p class=\"p\">东门大桥</p>\\n</li><li>\\n<p class=\"p\">牛王庙</p>\\n</li><li>\\n<p class=\"p\">牛市口</p>\\n</li><li>\\n<p class=\"p\">东大路</p>\\n</li><li>\\n<p class=\"p\">塔子山公园</p>\\n</li><li>\\n<p class=\"p\">成都东客站</p>\\n</li><li>\\n<p class=\"p\">成渝立交</p>\\n</li><li>\\n<p class=\"p\">惠王陵</p>\\n</li><li>\\n<p class=\"p\">洪河</p>\\n</li><li>\\n<p class=\"p\">成都行政学院</p>\\n</li><li>\\n<p class=\"p\">大面铺</p>\\n</li><li>\\n<p class=\"p\">连山坡</p>\\n</li><li>\\n<p class=\"p\">界牌</p>\\n</li><li>\\n<p class=\"p\">书房</p>\\n</li><li>\\n<p class=\"p\">龙平路</p>\\n</li><li>\\n<p class=\"p\">龙泉驿</p>\\n</li>\\n</ul>\\n<span class=\"prev\"><i class=\"arr\"></i></span>\\n<span class=\"next\"><i class=\"arr\"></i></span>\\n</div><div class=\"tab-item line-scroll-box\">\\n<ul class=\"carousel\">\\n<li>\\n<p class=\"p\">成都医学院</p>\\n</li><li>\\n<p class=\"p\">石油大学</p>\\n</li><li>\\n<p class=\"p\">钟楼</p>\\n</li><li>\\n<p class=\"p\">马超西路</p>\\n</li><li>\\n<p class=\"p\">团结新区</p>\\n</li><li>\\n<p class=\"p\">锦水河</p>\\n</li><li>\\n<p class=\"p\">三河场</p>\\n</li><li>\\n<p class=\"p\">金华寺东路</p>\\n</li><li>\\n<p class=\"p\">植物园</p>\\n</li><li>\\n<p class=\"p\">军区总医院</p>\\n</li><li>\\n<p class=\"p\">熊猫大道</p>\\n</li><li>\\n<p class=\"p\">动物园</p>\\n</li><li>\\n<p class=\"p\">昭觉寺南路</p>\\n</li><li>\\n<p class=\"p\">驷马桥</p>\\n</li><li>\\n<p class=\"p\">李家沱</p>\\n</li><li>\\n<p class=\"p\">前锋路</p>\\n</li><li>\\n<p class=\"p\">红星桥</p>\\n</li><li>\\n<p class=\"p\">市二医院</p>\\n</li><li>\\n<p class=\"p\">春熙路</p>\\n</li><li>\\n<p class=\"p\">新南门</p>\\n</li><li>\\n<p class=\"p\">磨子桥</p>\\n</li><li>\\n<p class=\"p\">省体育馆</p>\\n</li><li>\\n<p class=\"p\">衣冠庙</p>\\n</li><li>\\n<p class=\"p\">高升桥</p>\\n</li><li>\\n<p class=\"p\">红牌楼</p>\\n</li><li>\\n<p class=\"p\">太平园</p>\\n</li><li>\\n<p class=\"p\">川藏立交</p>\\n</li><li>\\n<p class=\"p\">武侯立交</p>\\n</li><li>\\n<p class=\"p\">武青南路</p>\\n</li><li>\\n<p class=\"p\">双凤桥</p>\\n</li><li>\\n<p class=\"p\">龙桥路</p>\\n</li><li>\\n<p class=\"p\">航都大街</p>\\n</li><li>\\n<p class=\"p\">迎春桥</p>\\n</li><li>\\n<p class=\"p\">东升</p>\\n</li><li>\\n<p class=\"p\">双流广场</p>\\n</li><li>\\n<p class=\"p\">三里坝</p>\\n</li><li>\\n<p class=\"p\">双流西站</p>\\n</li>\\n</ul>\\n<span class=\"prev\"><i class=\"arr\"></i></span>\\n<span class=\"next\"><i class=\"arr\"></i></span>\\n</div><div class=\"tab-item line-scroll-box\">\\n<ul class=\"carousel\">\\n<li>\\n<p class=\"p\">万盛</p>\\n</li><li>\\n<p class=\"p\">杨柳河</p>\\n</li><li>\\n<p class=\"p\">凤溪河</p>\\n</li><li>\\n<p class=\"p\">南熏大道</p>\\n</li><li>\\n<p class=\"p\">光华公园</p>\\n</li><li>\\n<p class=\"p\">涌泉</p>\\n</li><li>\\n<p class=\"p\">凤凰大街</p>\\n</li><li>\\n<p class=\"p\">马厂坝</p>\\n</li><li>\\n<p class=\"p\">非遗博览园</p>\\n</li><li>\\n<p class=\"p\">蔡桥</p>\\n</li><li>\\n<p class=\"p\">中坝</p>\\n</li><li>\\n<p class=\"p\">成都西站 </p>\\n</li><li>\\n<p class=\"p\">清江西路</p>\\n</li><li>\\n<p class=\"p\">文化宫</p>\\n</li><li>\\n<p class=\"p\">西南财大</p>\\n</li><li>\\n<p class=\"p\">草堂北路</p>\\n</li><li>\\n<p class=\"p\">中医大省医院</p>\\n</li><li>\\n<p class=\"p\">宽窄巷子</p>\\n</li><li>\\n<p class=\"p\">骡马市</p>\\n</li><li>\\n<p class=\"p\">太升南路</p>\\n</li><li>\\n<p class=\"p\">市二医院</p>\\n</li><li>\\n<p class=\"p\">玉双路</p>\\n</li><li>\\n<p class=\"p\">双桥路</p>\\n</li><li>\\n<p class=\"p\">万年场</p>\\n</li><li>\\n<p class=\"p\">槐树店</p>\\n</li><li>\\n<p class=\"p\">来龙</p>\\n</li><li>\\n<p class=\"p\">十陵</p>\\n</li><li>\\n<p class=\"p\">成都大学</p>\\n</li><li>\\n<p class=\"p\">明蜀王陵</p>\\n</li><li>\\n<p class=\"p\">西河</p>\\n</li>\\n</ul>\\n<span class=\"prev\"><i class=\"arr\"></i></span>\\n<span class=\"next\"><i class=\"arr\"></i></span>\\n</div><div class=\"tab-item line-scroll-box\">\\n<ul class=\"carousel\">\\n<li>\\n<p class=\"p\">火车北站</p>\\n</li><li>\\n<p class=\"p\">驷马桥</p>\\n</li><li>\\n<p class=\"p\">府青路</p>\\n</li><li>\\n<p class=\"p\">八里庄</p>\\n</li><li>\\n<p class=\"p\">二仙桥</p>\\n</li><li>\\n<p class=\"p\">理工大学</p>\\n</li><li>\\n<p class=\"p\">崔家店</p>\\n</li><li>\\n<p class=\"p\">双店路</p>\\n</li><li>\\n<p class=\"p\">槐树店</p>\\n</li><li>\\n<p class=\"p\">迎晖路</p>\\n</li><li>\\n<p class=\"p\">成都东客站</p>\\n</li><li>\\n<p class=\"p\">大观</p>\\n</li><li>\\n<p class=\"p\">狮子山</p>\\n</li><li>\\n<p class=\"p\">四川师大</p>\\n</li><li>\\n<p class=\"p\">琉璃场</p>\\n</li><li>\\n<p class=\"p\">三瓦窑</p>\\n</li><li>\\n<p class=\"p\">火车南站</p>\\n</li><li>\\n<p class=\"p\">神仙树</p>\\n</li><li>\\n<p class=\"p\">高朋大道</p>\\n</li><li>\\n<p class=\"p\">太平园</p>\\n</li><li>\\n<p class=\"p\">武侯大道</p>\\n</li><li>\\n<p class=\"p\">龙爪堰</p>\\n</li><li>\\n<p class=\"p\">东坡路</p>\\n</li><li>\\n<p class=\"p\">文化宫</p>\\n</li><li>\\n<p class=\"p\">金沙博物馆</p>\\n</li><li>\\n<p class=\"p\">一品天下</p>\\n</li><li>\\n<p class=\"p\">茶店子</p>\\n</li><li>\\n<p class=\"p\">花照壁</p>\\n</li><li>\\n<p class=\"p\">西南交大</p>\\n</li><li>\\n<p class=\"p\">九里堤</p>\\n</li><li>\\n<p class=\"p\">北站西二路</p>\\n</li>\\n</ul>\\n<span class=\"prev\"><i class=\"arr\"></i></span>\\n<span class=\"next\"><i class=\"arr\"></i></span>\\n</div><div class=\"tab-item line-scroll-box\">\\n<ul class=\"carousel\">\\n<li>\\n<p class=\"p\">太平园</p>\\n</li><li>\\n<p class=\"p\">簇锦</p>\\n</li><li>\\n<p class=\"p\">华兴</p>\\n</li><li>\\n<p class=\"p\">金花</p>\\n</li><li>\\n<p class=\"p\">双流机场1航站楼</p>\\n</li><li>\\n<p class=\"p\">双流机场2航站楼</p>\\n</li>\\n</ul>\\n<span class=\"prev\"><i class=\"arr\"></i></span>\\n<span class=\"next\"><i class=\"arr\"></i></span>\\n</div>\\n</div>\\n</div>\\n</div></div> <div class=\"home2\">\\n<div class=\"wrap\">\\n<div class=\"t_head\" edit_params=\"title1Show%3D1%26title1Max%3D20%26title2Show%3D1%26title2Max%3D70\"><h1 class=\"h1\">出行微服务</h1>\\n<p class=\"p\">地铁触动川蜀的微光，保障每一次出行顺畅</p></div> <div class=\"box\"><h2 class=\"h2\">每日客流</h2>\\n<h3 class=\"h3\"><b class=\"score\"></b><span>人</span></h3>\\n<h4 class=\"h4\">2019-7-9</h4>\\n<script type=\"text/javascript\">\\n  $(window).on(\\'scroll\\', function() {\\n        var obj = [\\'.home2\\', \\'.svg1\\', \\'.svg2\\', \\'.svg3\\', \\'.home3\\'];\\n        if (scrollPos($(obj[0]), 0) && !$(obj[0]).hasClass(\\'show\\')) {\\n            $(obj[0]).addClass(\\'show\\');\\n            scoreUpdate(\\'.home2 .score\\', 4388217, 3);\\n        };\\n\\n        if (scrollPos($(obj[1]), 0) && !$(obj[1]).hasClass(\\'svgAnimated\\')) {\\n            $(obj[1]).addClass(\\'svgAnimated\\');\\n            TweenMax.to($(obj[1]).find(\\'path\\'), 1, { \\'stroke-dashoffset\\': 0 });\\n        };\\n\\n        if (scrollPos($(obj[2]), 0) && !$(obj[2]).hasClass(\\'svgAnimated\\')) {\\n            $(obj[2]).addClass(\\'svgAnimated\\');\\n            TweenMax.to($(obj[2]).find(\\'path\\'), 3, { \\'stroke-dashoffset\\': 0 });\\n        };\\n\\n        if (scrollPos($(obj[3]), 0) && !$(obj[3]).hasClass(\\'svgAnimated\\')) {\\n            $(obj[3]).addClass(\\'svgAnimated\\');\\n            TweenMax.to($(obj[3]).find(\\'path\\'), 5, { \\'stroke-dashoffset\\': 0 });\\n        };\\n\\n        if (scrollPos($(obj[4]), 0) && !$(obj[4]).hasClass(\\'show\\')) {\\n            $(obj[4]).addClass(\\'show\\');\\n        };\\n\\n\\n        //scroll//\\n    });\\n</script></div> <div class=\"list\">\\n<ul class=\"clear\">\\n<li edit_params=\"width%3D118%26height%3D118%26title1Show%3D1%26title1Max%3D6%26showLink%3D1%26backgroundColor%3D1\"><a href=\"/stroke/Inquire.html#anchor3\">\\n<span class=\"ico\"><img src=\"/Uploads/Picture/2017/08/09/s598ad8f94ddb1.png\" alt=\"\"></span>\\n<p class=\"p\">列车线路图</p>\\n</a></li> <li edit_params=\"width%3D118%26height%3D118%26title1Show%3D1%26title1Max%3D6%26showLink%3D1%26backgroundColor%3D1\"><a href=\"/stroke/Inquire.html#anchor4\">\\n<span class=\"ico\"><img src=\"/Uploads/Picture/2017/08/10/s598bdadef3aa9.png\" alt=\"\"></span>\\n<p class=\"p\">列车时刻表</p>\\n</a></li> <li edit_params=\"width%3D118%26height%3D118%26title1Show%3D1%26title1Max%3D6%26showLink%3D1%26backgroundColor%3D1\"><a href=\"/found_ck.html\">\\n<span class=\"ico\"><img src=\"/Uploads/Picture/2017/07/27/s5979921904b47.png\" alt=\"\"></span>\\n<p class=\"p\">失物招领</p>\\n</a></li> <li edit_params=\"width%3D118%26height%3D118%26title1Show%3D1%26title1Max%3D6%26showLink%3D1%26backgroundColor%3D1\"><a href=\"/stroke/Inquire.html#anchor5\">\\n<span class=\"ico\"><img src=\"/Uploads/Picture/2017/07/27/s597992257f799.png\" alt=\"\"></span>\\n<p class=\"p\">天府通服务点</p>\\n</a></li> <li edit_params=\"width%3D118%26height%3D118%26title1Show%3D1%26title1Max%3D6%26showLink%3D1%26backgroundColor%3D1\"><a href=\"/trailer_ck.html#operate3\">\\n<span class=\"ico\"><img src=\"/Uploads/Picture/2017/07/27/s5979923f7da72.png\" alt=\"\"></span>\\n<p class=\"p\">纪念票卡购买</p>\\n</a></li> <li edit_params=\"width%3D118%26height%3D118%26title1Show%3D1%26title1Max%3D6%26showLink%3D1%26backgroundColor%3D1\"><a href=\"/security_ck.html#anchor1\">\\n<span class=\"ico\"><img src=\"/Uploads/Picture/2017/07/27/s5979924fcba88.png\" alt=\"\"></span>\\n<p class=\"p\">安全须知</p>\\n</a></li> <li edit_params=\"img2%3D1%26category_id%3D89%26chose_type%3Dradio\"><a href=\"javascript:;\">\\n<span class=\"ico\"><img src=\"/Uploads/Picture/2017/08/09/s598ae2ff81235.png\" alt=\"\"></span>\\n<p class=\"p\">延误证明</p>\\n</a></li> </ul>\\n</div>\\n<ul class=\"svg p-show\">\\n<li class=\"svg1\"></li>\\n<li class=\"svg2\"></li>\\n<li class=\"svg3\"></li>\\n</ul>\\n</div>\\n</div>\\n<div class=\"home3\">\\n<div class=\"wrap\">\\n<div class=\"t_head\" edit_params=\"title1Show%3D1%26title1Max%3D20%26title2Show%3D1%26title2Max%3D70\"><h1 class=\"h1\">等待亦享受</h1>\\n<p class=\"p\">每一处站台，都可以让等待成为一种期待</p></div> <div class=\"img transition translateX_100\" edit_params=\"width%3D571%26height%3D430%26showAlt%3D1\"> <img src=\"/Uploads/Picture/2017/10/24/s59eeb1a649609.jpg\" title=\"\" alt=\"\">\\n</div> <div class=\"box transition translateX-100\">\\n<ul class=\"list\">\\n<li edit_params=\"width%3D102%26height%3D98%26showLink%3D1%26title1Show%3D1%26title1Max%3D8%26backgroundColor%3D1\"><a href=\"/station/interior.html\">\\n<span class=\"ico\"><img src=\"/Uploads/Picture/2017/07/31/s597ef0c0eb8d8.png\" alt=\"\"></span>\\n<p class=\"p\">车站内部信息查询</p>\\n</a></li> <li class=\"xg\" edit_params=\"width%3D102%26height%3D98%26showLink%3D1%26title1Show%3D1%26title1Max%3D8%26backgroundColor%3D1\"><a href=\"/station/around.html\">\\n<span class=\"ico\"><img src=\"/Uploads/Picture/2017/07/31/s597ef138d7be2.png\" alt=\"\"></span>\\n<p class=\"p\">车站周边公共设施</p>\\n</a></li> </ul>\\n</div>\\n</div>\\n</div>\\n<div class=\"home4\" id=\"home4\">\\n<div class=\"wrap\">\\n<div class=\"t_head\" edit_params=\"title1Show%3D1%26title1Max%3D20%26title2Show%3D1%26title2Max%3D70\"><h1 class=\"h1\">即将触碰的极致体验</h1>\\n<p class=\"p\">感受每一条地铁线路的用心与专心</p></div> <div class=\"img\" edit_params=\"width%3D1920%26height%3D883%26showAlt%3D1%26width2%3D625%26height2%3D574%26backgroundColor%3D1\"><style type=\"text/css\">\\n#home4{background-image: url(/Uploads/Picture/2017/07/31/s597ef402ccb58.jpg);}\\n</style>\\n<img src=\"/Uploads/Picture/2018/12/27/s5c24b7813a618.png\" alt=\"\" title=\"\"></div> <div class=\"box tab-wrap\"> <div class=\"tab-cont\">\\n<div class=\"tab-item\">\\n<h1 class=\"h1\">地铁6号线一二期</h1>\\n<p class=\"p\">6号线一、二期工程线路北起郫县望丛祠站，途径高新西区、金牛区、成华区、锦江区南至高新区观东站，整体呈南北走向。线路全长46.8km，全部为地下线,共设车站38座，停车场和车辆段各1座，主变电所3座。</p>\\n<a href=\"/detail/130.html\" class=\"more\" target=\"_blank\">详细内容</a>\\n</div> <div class=\"tab-item\">\\n<h1 class=\"h1\">地铁5号线一二期</h1>\\n<p class=\"p\"> 5号线一、二期工程北起新都区香城大道南侧华桂路站，向南止于回龙站。线路全长49.02公里，共设车站41座，其中地下站36座，高架站5座。全线设车辆段1座、停车场2座、主变电站4座。</p>\\n<a href=\"/detail/131.html\" class=\"more\" target=\"_blank\">详细内容</a>\\n</div> <div class=\"tab-item\">\\n<h1 class=\"h1\">轨道交通8号线一期</h1>\\n<p class=\"p\">8号线一期工程南起莲花站，北至十里店站。线路全长29.1km，设车站25座，其中换乘站14座，设元华车辆段1座，与5号线、9号线共址；设1座主变电站所和1座二级开闭所，控制中心位于崔家店。</p>\\n<a href=\"/detail/461.html\" class=\"more\" target=\"_blank\">详细内容</a>\\n</div> <div class=\"tab-item\">\\n<h1 class=\"h1\">轨道交通10号线二期</h1>\\n<p class=\"p\">10号线二期作为成都市市域快线之一，主要服务于主城与新津组团的快速联系，并兼顾服务双流机场客流。全长27.04km，共设车站10座，其中地下站5座，高架站5座。设板桥车辆段、高大路停车场各一处，主变电所1座，控制中心接入一期新苗控...</p>\\n<a href=\"/detail/462.html\" class=\"more\" target=\"_blank\">详细内容</a>\\n</div> <div class=\"tab-item\">\\n<h1 class=\"h1\">轨道交通6号线三期</h1>\\n<p class=\"p\">6号线三期工程起于观东路站（不含），止于兰家沟站（含），线路全长约21.97km，全地下敷设，设车站18座，其中换乘站9座，设回龙停车场一座，主变电所1座。</p>\\n<a href=\"/detail/463.html\" class=\"more\" target=\"_blank\">详细内容</a>\\n</div> <div class=\"tab-item\">\\n<h1 class=\"h1\">轨道交通9号线一期</h1>\\n<p class=\"p\">9号线一期工程全长22.18km，全线均为地下线。共13座车站、设元华停车场、武青车辆段两座站场。</p>\\n<a href=\"/detail/558.html\" class=\"more\" target=\"_blank\">详细内容</a>\\n</div> <div class=\"tab-item\">\\n<h1 class=\"h1\">有轨电车蓉2号线</h1>\\n<p class=\"p\">有轨电车蓉2号线呈Y型布局，起于成都西站，主线终于郫县西站，长27.4km，支线起于新业路与IT大道交叉口，终于仁和站，长11.9km，线路全长39.3km（其中高架段1.8km，地面段37.5km）。全线共设站47座（含5座预留...</p>\\n<a href=\"/detail/566.html\" class=\"more\" target=\"_blank\">详细内容</a>\\n</div> <div class=\"tab-item\">\\n<h1 class=\"h1\">轨道交通17号线一期</h1>\\n<p class=\"p\">17号线一期工程线路长26.145km，其中高架段长约5.5km，过渡段长约0.5km，地下段长约20.1km，共设车站9座（8座换乘站），其中高架站2座，地下站7座，设永义车辆段及五桐庙停车场。</p>\\n<a href=\"/detail/574.html\" class=\"more\" target=\"_blank\">详细内容</a>\\n</div> <div class=\"tab-item\">\\n<h1 class=\"h1\">轨道交通18号线一二期</h1>\\n<p class=\"p\">18号线一二期为成都新机场线，起于火车南站，止于天府机场1、2号航站楼。线路全长约66.8km，共设置12座车站，是成都市第一条采用PPP模式投资建设的轨道交通项目。</p>\\n<a href=\"/detail/576.html\" class=\"more\" target=\"_blank\">详细内容</a>\\n</div></div>\\n<div class=\"tab-bar\">\\n<div class=\"scroll\">\\n<ul>\\n<li class=\"tab-term\">地铁6号线一二期</li> <li class=\"tab-term\">地铁5号线一二期</li> <li class=\"tab-term\">轨道交通8号线一期</li> <li class=\"tab-term\">轨道交通10号线二期</li> <li class=\"tab-term\">轨道交通6号线三期</li> <li class=\"tab-term\">轨道交通9号线一期</li> <li class=\"tab-term\">有轨电车蓉2号线</li> <li class=\"tab-term\">轨道交通17号线一期</li> <li class=\"tab-term\">轨道交通18号线一二期</li> </ul>\\n</div>\\n<span class=\"prev\"></span>\\n<span class=\"next\"></span>\\n</div></div> <div class=\"guideLine\"></div>\\n</div>\\n</div>\\n<div class=\"home5\">\\n<div class=\"wrap\">\\n<div class=\"t_head\" edit_params=\"title1Show%3D1%26title1Max%3D20%26title2Show%3D1%26title2Max%3D70\"><h1 class=\"h1\">乘坐即旅行</h1>\\n<p class=\"p\">我们致力去提升出行的美好</p></div> <div class=\"list\" edit_params=\"chose_type%3Dcheck\"><div class=\"paging\"></div>\\n<ul class=\"carousel\">\\n<li>\\n<div class=\"img\"><a href=\"/detail/483.html\" target=\\'_balnk\\'><img src=\"/Uploads/Picture/2017/10/13/s59e0684ac0c78.jpg\" alt=\"\" title=\"\"></a></div>\\n<h1 class=\"h1\"><span style=\"color:rgb(0, 161, 78);\">4号线 文化宫站</span><a href=\"/detail/483.html\" target=\\'_balnk\\'>金沙遗址博物馆</a></h1>\\n<p class=\"p\" title=\"金沙遗址博物馆位于成都市西郊，面积超过5万平方公里，是古蜀文明最有代表性的展示场所之一，是四川乃至整个中国考古界继三星堆遗址之后的又一重大发现，它记录了从公元前12世纪至公元前7世纪古蜀王国的都邑——成都的历史。遗址出土的珍贵文物多达千余件。尤其是“太阳神鸟”已被定为中国文化遗产标志。\">金沙遗址博物馆位于成都市西郊，面积超过5万平方公里，是古蜀文明最有代表性的展示场所之一，是四川乃至整个中国考古界继三星堆遗址之后的又一重大发现，它记录了从公元前...</p>\\n</li> <li>\\n<div class=\"img\"><a href=\"/detail/469.html\" target=\\'_balnk\\'><img src=\"/Uploads/Picture/2017/10/13/s59e053a754910.jpg\" alt=\"\" title=\"\"></a></div>\\n<h1 class=\"h1\"><span style=\"color:rgb(228, 0, 130);\">3号线 熊猫大道站</span><a href=\"/detail/469.html\" target=\\'_balnk\\'>大熊猫繁育研究基地</a></h1>\\n<p class=\"p\" title=\"成都大熊猫繁育研究基地是世界自然遗产，位于成都市北郊斧头山，占地106公顷，距市区10公里，现已成为国内开展大熊猫等珍稀濒危野生动物移地保护的主要基地之一。\">成都大熊猫繁育研究基地是世界自然遗产，位于成都市北郊斧头山，占地106公顷，距市区10公里，现已成为国内开展大熊猫等珍稀濒危野生动物移地保护的主要基地之一。</p>\\n</li> <li>\\n<div class=\"img\"><a href=\"/detail/471.html\" target=\\'_balnk\\'><img src=\"/Uploads/Picture/2017/10/13/s59e055c8d3260.jpg\" alt=\"\" title=\"\"></a></div>\\n<h1 class=\"h1\"><span style=\"color:rgb(228, 0, 130);\">3号线 高升桥站</span><a href=\"/detail/471.html\" target=\\'_balnk\\'>锦里</a></h1>\\n<p class=\"p\" title=\"锦里位于武侯祠旁，是一条长约350米的街市。街上明清时代的建筑比比皆是，有捏泥人、摆糖画的手艺人；有让人垂涎的各类四川名小吃；有富有浓郁三国特色和川西民俗的店铺，皮灯影、筷子店，还有茶楼、客栈、酒楼、酒吧等，是一条能够充分体现成都民风民俗之独特魅力的街市。\">锦里位于武侯祠旁，是一条长约350米的街市。街上明清时代的建筑比比皆是，有捏泥人、摆糖画的手艺人；有让人垂涎的各类四川名小吃；有富有浓郁三国特色和川西民俗的店铺...</p>\\n</li> <li>\\n<div class=\"img\"><a href=\"/detail/478.html\" target=\\'_balnk\\'><img src=\"/Uploads/Picture/2017/10/13/s59e066ee4c40d.jpg\" alt=\"\" title=\"\"></a></div>\\n<h1 class=\"h1\"><span style=\"color:rgb(0, 161, 78);\">4号线 草堂北路站</span><a href=\"/detail/478.html\" target=\\'_balnk\\'>杜甫草堂</a></h1>\\n<p class=\"p\" title=\"杜甫草堂位于成都市西门外浣花溪畔，是唐代大诗人杜甫流寓成都时的居所。杜甫草堂既是诗人的故居旧址，又具有纪念祠堂的性质，千古绝唱《茅屋为秋风所破歌》就是在这里创作的。\">杜甫草堂位于成都市西门外浣花溪畔，是唐代大诗人杜甫流寓成都时的居所。杜甫草堂既是诗人的故居旧址，又具有纪念祠堂的性质，千古绝唱《茅屋为秋风所破歌》就是在这里创作...</p>\\n</li> <li>\\n<div class=\"img\"><a href=\"/detail/470.html\" target=\\'_balnk\\'><img src=\"/Uploads/Picture/2017/10/13/s59e0550ee4abd.jpg\" alt=\"\" title=\"\"></a></div>\\n<h1 class=\"h1\"><span style=\"color:rgb(228, 0, 130);\">3号线 高升桥站</span><a href=\"/detail/470.html\" target=\\'_balnk\\'>武侯祠</a></h1>\\n<p class=\"p\" title=\"武侯祠位于成都市武侯区武侯祠大街，是中国唯一的君臣合祀祠庙和最负盛名的诸葛亮、刘备及蜀汉英雄纪念地，也是世界影响最大的三国遗迹博物馆，体现了儒家文化与兵家文化高度结合的主题思想，是海内外公认的三国圣地。\">武侯祠位于成都市武侯区武侯祠大街，是中国唯一的君臣合祀祠庙和最负盛名的诸葛亮、刘备及蜀汉英雄纪念地，也是世界影响最大的三国遗迹博物馆，体现了儒家文化与兵家文化高...</p>\\n</li> <li>\\n<div class=\"img\"><a href=\"/detail/472.html\" target=\\'_balnk\\'><img src=\"/Uploads/Picture/2017/10/13/s59e05ac569f2f.jpg\" alt=\"\" title=\"\"></a></div>\\n<h1 class=\"h1\"><span style=\"color:rgb(0, 161, 78);\">4号线 宽窄巷子站</span><a href=\"/detail/472.html\" target=\\'_balnk\\'>宽窄巷子</a></h1>\\n<p class=\"p\" title=\"宽窄巷子位于成都市青羊区长顺街附近，分为宽巷子、窄巷子、井巷子，由它们及其之间的四合院群落共同组成了一个成都文化标志——宽窄巷子。宽窄巷子是成都遗留下来的较成规模的清朝古街道，是这个古老又年轻的城市往昔的缩影，一个记忆深处的符号。\">宽窄巷子位于成都市青羊区长顺街附近，分为宽巷子、窄巷子、井巷子，由它们及其之间的四合院群落共同组成了一个成都文化标志——宽窄巷子。宽窄巷子是成都遗留下来的较成规...</p>\\n</li> <li>\\n<div class=\"img\"><a href=\"/detail/443.html\" target=\\'_balnk\\'><img src=\"/Uploads/Picture/2017/10/10/s59dca147ef356.jpg\" alt=\"\" title=\"\"></a></div>\\n<h1 class=\"h1\"><span style=\"color:rgb(238, 122, 51)\\r\\n;\">2号线 龙泉驿站</span><a href=\"/detail/443.html\" target=\\'_balnk\\'>桃花故里</a></h1>\\n<p class=\"p\" title=\"桃花故里位于成都市龙泉驿区，以桃源村为核心景区向四周辐射、延伸，形成了面积约4.5平方公里的景区面积。景区以桃花品种多、花期长、密度高而闻名全国。每逢阳春三月，这里的桃花万树竞放、灿若云霞，十分壮观。\">桃花故里位于成都市龙泉驿区，以桃源村为核心景区向四周辐射、延伸，形成了面积约4.5平方公里的景区面积。景区以桃花品种多、花期长、密度高而闻名全国。每逢阳春三月，...</p>\\n</li> <li>\\n<div class=\"img\"><a href=\"/detail/442.html\" target=\\'_balnk\\'><img src=\"/Uploads/Picture/2017/10/10/s59dc9ff76b629.jpg\" alt=\"\" title=\"\"></a></div>\\n<h1 class=\"h1\"><span style=\"color:rgb(238, 122, 51)\\r\\n;\">2号线 洪河站</span><a href=\"/detail/442.html\" target=\\'_balnk\\'>三圣花乡</a></h1>\\n<p class=\"p\" title=\"“三圣花乡”坐落于素有“中国花木之乡”之称的四川成都市锦江区三圣街道办事处，总面积达15000亩。如今的三圣花乡是一个以观光休闲农业和乡村旅游为主题，集休闲度假、观光旅游、餐饮娱乐、商务会议等于一体的城市近郊生态休闲度假胜地。\">“三圣花乡”坐落于素有“中国花木之乡”之称的四川成都市锦江区三圣街道办事处，总面积达15000亩。如今的三圣花乡是一个以观光休闲农业和乡村旅游为主题，集休闲度假...</p>\\n</li> <li>\\n<div class=\"img\"><a href=\"/detail/440.html\" target=\\'_balnk\\'><img src=\"/Uploads/Picture/2017/10/10/s59dc9c3952bd6.jpg\" alt=\"\" title=\"\"></a></div>\\n<h1 class=\"h1\"><span style=\"color:rgb(238, 122, 51)\\r\\n;\">2、3号线 春熙路站</span><a href=\"/detail/440.html\" target=\\'_balnk\\'>远洋太古里</a></h1>\\n<p class=\"p\" title=\"太古里毗邻历史悠久的大慈寺，接壤人潮涌动的春熙路商业区，是一座开放式、低密度的街区形态购物中心。\">太古里毗邻历史悠久的大慈寺，接壤人潮涌动的春熙路商业区，是一座开放式、低密度的街区形态购物中心。</p>\\n</li> <li>\\n<div class=\"img\"><a href=\"/detail/441.html\" target=\\'_balnk\\'><img src=\"/Uploads/Picture/2017/10/10/s59dc9f13ef6f9.jpg\" alt=\"\" title=\"\"></a></div>\\n<h1 class=\"h1\"><span style=\"color:rgb(238, 122, 51)\\r\\n;\">2、3号线 春熙路</span><a href=\"/detail/441.html\" target=\\'_balnk\\'>IFS国际金融中心</a></h1>\\n<p class=\"p\" title=\"成都国际金融中心项目位于大慈路以南。2014年1月14日，成都国际金融中心商业整体开业，为成都带来更多高端的潮流品牌。整个项目设计由4座塔楼及裙楼组成，包括超五星级酒店、高端写字楼、高档酒店式公寓及高品位住宅等。\">成都国际金融中心项目位于大慈路以南。2014年1月14日，成都国际金融中心商业整体开业，为成都带来更多高端的潮流品牌。整个项目设计由4座塔楼及裙楼组成，包括超五...</p>\\n</li> <li>\\n<div class=\"img\"><a href=\"/detail/492.html\" target=\\'_balnk\\'><img src=\"/Uploads/Picture/2017/10/13/s59e06ce42bb79.jpg\" alt=\"\" title=\"\"></a></div>\\n<h1 class=\"h1\"><span style=\"color:rgb(31, 65, 147);\">1号线 锦江宾馆站</span><a href=\"/detail/492.html\" target=\\'_balnk\\'>钟水饺</a></h1>\\n<p class=\"p\" title=\"钟水饺，始于光绪十九年，因开业之初店址在荔枝巷且调味重红油，故又称为“荔枝巷红油水饺”。钟水饺全用猪肉馅，不加其它鲜菜，上桌时淋上特制的红油。具有皮薄、料精、馅嫩、味鲜的特色，上世纪20年代起即成为蓉城的名小吃\">钟水饺，始于光绪十九年，因开业之初店址在荔枝巷且调味重红油，故又称为“荔枝巷红油水饺”。钟水饺全用猪肉馅，不加其它鲜菜，上桌时淋上特制的红油。具有皮薄、料精、馅...</p>\\n</li> <li>\\n<div class=\"img\"><a href=\"/detail/678.html\" target=\\'_balnk\\'><img src=\"/Uploads/Picture/2017/10/20/s59e98210187e5.jpg\" alt=\"\" title=\"\"></a></div>\\n<h1 class=\"h1\"><span style=\"color:rgb(31, 65, 147);\">1号线 火车南站</span><a href=\"/detail/678.html\" target=\\'_balnk\\'>梵景火锅</a></h1>\\n<p class=\"p\" title=\"不仅环境好，味道更是精致！\\r\\n\">不仅环境好，味道更是精致！\\n</p>\\n</li> <li>\\n<div class=\"img\"><a href=\"/detail/679.html\" target=\\'_balnk\\'><img src=\"/Uploads/Picture/2017/10/20/s59e98203df336.jpg\" alt=\"\" title=\"\"></a></div>\\n<h1 class=\"h1\"><span style=\"color:rgb(228, 0, 130);\">2、3号线春熙路站</span><a href=\"/detail/679.html\" target=\\'_balnk\\'>凤望龙门老火锅</a></h1>\\n<p class=\"p\" title=\"他们家的肥肠结子，烫熟了，一口咬下去，满口流油，回味无穷！\">他们家的肥肠结子，烫熟了，一口咬下去，满口流油，回味无穷！</p>\\n</li> <li>\\n<div class=\"img\"><a href=\"/detail/681.html\" target=\\'_balnk\\'><img src=\"/Uploads/Picture/2017/10/20/s59e981f79e6f6.jpg\" alt=\"\" title=\"\"></a></div>\\n<h1 class=\"h1\"><span style=\"color:rgb(228, 0, 130);\">3号线 红星桥站</span><a href=\"/detail/681.html\" target=\\'_balnk\\'>干海椒抄手</a></h1>\\n<p class=\"p\" title=\"土鸡竹荪鲜虾蟹籽抄手，每一颗抄手里面有鲜虾和蟹籽，鲜虾鲜嫩配上蟹籽的爆破感绝对巴适。\">土鸡竹荪鲜虾蟹籽抄手，每一颗抄手里面有鲜虾和蟹籽，鲜虾鲜嫩配上蟹籽的爆破感绝对巴适。</p>\\n</li> <li>\\n<div class=\"img\"><a href=\"/detail/682.html\" target=\\'_balnk\\'><img src=\"/Uploads/Picture/2017/10/20/s59e981e3847ba.jpg\" alt=\"\" title=\"\"></a></div>\\n<h1 class=\"h1\"><span style=\"color:rgb(31, 65, 147);\">1号线 桐梓林站</span><a href=\"/detail/682.html\" target=\\'_balnk\\'>古巴热浪城堡·特色川菜&...</a></h1>\\n<p class=\"p\" title=\"红酒、雪茄、江湖菜的完美结合。\">红酒、雪茄、江湖菜的完美结合。</p>\\n</li> <li>\\n<div class=\"img\"><a href=\"/detail/687.html\" target=\\'_balnk\\'><img src=\"/Uploads/Picture/2017/10/20/s59e981d560969.jpg\" alt=\"\" title=\"\"></a></div>\\n<h1 class=\"h1\"><span style=\"color:rgb(0, 161, 78);\">4号线 宽窄巷子站</span><a href=\"/detail/687.html\" target=\\'_balnk\\'>贺氏老阿婆鸭肠王火锅</a></h1>\\n<p class=\"p\" title=\"鸭肠论斤卖，新鲜、爽脆、口感好，可以一次吃个够。\">鸭肠论斤卖，新鲜、爽脆、口感好，可以一次吃个够。</p>\\n</li> <li>\\n<div class=\"img\"><a href=\"/detail/688.html\" target=\\'_balnk\\'><img src=\"/Uploads/Picture/2017/10/20/s59e981c79de65.jpg\" alt=\"\" title=\"\"></a></div>\\n<h1 class=\"h1\"><span style=\"color:rgb(228, 0, 130);\">3号线 磨子桥站</span><a href=\"/detail/688.html\" target=\\'_balnk\\'>尽膳口福</a></h1>\\n<p class=\"p\" title=\"大家都需要温暖，尽膳口福的翘脚牛肉。\">大家都需要温暖，尽膳口福的翘脚牛肉。</p>\\n</li> <li>\\n<div class=\"img\"><a href=\"/detail/689.html\" target=\\'_balnk\\'><img src=\"/Uploads/Picture/2017/10/20/s59e98268f1b73.jpg\" alt=\"\" title=\"\"></a></div>\\n<h1 class=\"h1\"><span style=\"color:rgb(0, 161, 78);\">4号线 玉双路站</span><a href=\"/detail/689.html\" target=\\'_balnk\\'>酒食</a></h1>\\n<p class=\"p\" title=\"喝点小酒吃点小吃，听着好听的民谣，和朋友聊着天，感觉都能坐一个晚上。\">喝点小酒吃点小吃，听着好听的民谣，和朋友聊着天，感觉都能坐一个晚上。</p>\\n</li> <li>\\n<div class=\"img\"><a href=\"/detail/690.html\" target=\\'_balnk\\'><img src=\"/Uploads/Picture/2017/10/20/s59e98246701fc.jpg\" alt=\"\" title=\"\"></a></div>\\n<h1 class=\"h1\"><span style=\"color:rgb(238, 122, 51);\">2号线 蜀汉路东站</span><a href=\"/detail/690.html\" target=\\'_balnk\\'>留园渝派老火锅</a></h1>\\n<p class=\"p\" title=\"这个地儿不止有火锅 ，还有美过苏杭的园林风光，重点是还能吃到地道的重庆火锅。\">这个地儿不止有火锅 ，还有美过苏杭的园林风光，重点是还能吃到地道的重庆火锅。</p>\\n</li> <li>\\n<div class=\"img\"><a href=\"/detail/691.html\" target=\\'_balnk\\'><img src=\"/Uploads/Picture/2017/10/20/s59e981904e1e7.jpg\" alt=\"\" title=\"\"></a></div>\\n<h1 class=\"h1\"><span style=\"color:rgb(228, 0, 130);\">2、3号线 春熙路站</span><a href=\"/detail/691.html\" target=\\'_balnk\\'>马旺子</a></h1>\\n<p class=\"p\" title=\"有成都美食界的网红评价它为美食界的珠穆朗玛，试一下？\">有成都美食界的网红评价它为美食界的珠穆朗玛，试一下？</p>\\n</li>\\n</ul></div> <div class=\"guideLine guideLine1\"></div>\\n<div class=\"guideLine guideLine2\"></div>\\n</div>\\n</div>\\n<div class=\"home6\">\\n<div class=\"wrap tab-wrap\"> <div class=\"t_head\">\\n<h1 class=\"h1\">文艺地铁</h1>\\n<p class=\"p\">转瞬间的至美光景尽收眼底</p>\\n</div>\\n<div class=\"tab-bar\">\\n<div class=\"scroll\">\\n<ul>\\n<li class=\"tab-term  cur\">艺术车站</li><li class=\"tab-term  \">主题列车</li><li class=\"tab-term  \">特色车站</li> </ul>\\n</div>\\n<span class=\"prev\"></span>\\n<span class=\"next\"></span>\\n</div>\\n<div class=\"tab-cont\">\\n<div class=\"tab-item act\">\\n<ul class=\"list\">\\n<li class=\"l1 transition translateX-100\"><img src=\"/Uploads/Picture/2017/12/04/s5a24bf511cff5.jpg\" title=\"1\" alt=\"\"></li>\\n<li class=\"l2 transition translateY-100\"><img src=\"/Uploads/Picture/2019/02/26/s5c75146b0a314.jpg\" title=\"2\" alt=\"\"></li>\\n<li class=\"l3 transition translateX_100\"><img src=\"/Uploads/Picture/2019/02/21/s5c6ea2f669fdd.jpg\" title=\"3\" alt=\"\"></li>\\n<li class=\"l4 transition translateY_100\"><img src=\"/Uploads/Picture/2017/12/04/s5a24bfff0ad75.jpg\" title=\"4\" alt=\"\"></li>\\n<li class=\"l5 transition translateX_100\"><img src=\"/Uploads/Picture/2019/02/26/s5c75145bb2176.jpg\" title=\"5\" alt=\"\"></li>\\n<li class=\"l6 transition translateX-100\"><a href=\"/underline/type/29.html#under5\"><img src=\"/Public/static/themes_ck/image/temp/img12.jpg\" alt=\"\"><span class=\"more\">查看更多</span></a></li>\\n</ul>\\n</div><div class=\"tab-item \">\\n<ul class=\"list\">\\n<li class=\"l1 transition translateX-100\"><img src=\"/Uploads/Picture/2017/12/04/s5a24c0968df00.jpg\" title=\"\" alt=\"\"></li>\\n<li class=\"l2 transition translateY-100\"><img src=\"/Uploads/Picture/2017/12/04/s5a24c0af57f0d.jpg\" title=\"\" alt=\"\"></li>\\n<li class=\"l3 transition translateX_100\"><img src=\"/Uploads/Picture/2017/12/04/s5a24c0ddc3453.jpg\" title=\"\" alt=\"\"></li>\\n<li class=\"l4 transition translateY_100\"><img src=\"/Uploads/Picture/2018/03/28/s5abb369983c91.png\" title=\"\" alt=\"\"></li>\\n<li class=\"l5 transition translateX_100\"><img src=\"/Uploads/Picture/2018/03/28/s5abb37111cdf8.jpg\" title=\"\" alt=\"\"></li>\\n<li class=\"l6 transition translateX-100\"><a href=\"/underline/type/30.html#under5\"><img src=\"/Public/static/themes_ck/image/temp/img12.jpg\" alt=\"\"><span class=\"more\">查看更多</span></a></li>\\n</ul>\\n</div><div class=\"tab-item \">\\n<ul class=\"list\">\\n<li class=\"l1 transition translateX-100\"><img src=\"/Uploads/Picture/2017/12/04/s5a24c173bc457.jpg\" title=\"\" alt=\"\"></li>\\n<li class=\"l2 transition translateY-100\"><img src=\"/Uploads/Picture/2017/12/04/s5a24c18c8375b.jpg\" title=\"\" alt=\"\"></li>\\n<li class=\"l3 transition translateX_100\"><img src=\"/Uploads/Picture/2017/12/04/s5a24c1a671fd2.jpg\" title=\"\" alt=\"\"></li>\\n<li class=\"l4 transition translateY_100\"><img src=\"/Uploads/Picture/2017/12/04/s5a24c1bf1f104.jpg\" title=\"\" alt=\"\"></li>\\n<li class=\"l5 transition translateX_100\"><img src=\"/Uploads/Picture/2017/12/04/s5a24c1d81650d.jpg\" title=\"\" alt=\"\"></li>\\n<li class=\"l6 transition translateX-100\"><a href=\"/underline/type/31.html#under5\"><img src=\"/Public/static/themes_ck/image/temp/img12.jpg\" alt=\"\"><span class=\"more\">查看更多</span></a></li>\\n</ul>\\n</div></div></div>\\n</div>\\n</div>\\n<script>\\n$(function () {\\n\\n    $(\\'.select-opts\\').mCustomScrollbar({\\n        mouseWheel: { preventDefault: true },\\n        advanced: { autoExpandHorizontalScroll: true }\\n    });\\n\\n    $(\\'.select-query\\').mCustomScrollbar({\\n        mouseWheel: { preventDefault: true },\\n        advanced: { autoExpandHorizontalScroll: true }\\n    });\\n    (function () {\\n        var isPc = isPC();\\n        //\\t下拉框\\n        $(\\'.select-warp\\').each(function () {\\n            var obj = $(this);\\n            var selectBtn = obj.find(\\'.select-btn\\');\\n            var selectTit = obj.find(\\'.select-tit\\');\\n            var selectOpts = obj.find(\\'.select-opts\\');\\n            var val = obj.find(\\'.select-val\\');\\n            var input = obj.find(\\'.select-input\\');\\n\\n            selectBtn.on(\\'click\\', function () {\\n                if (isPc) {\\n                    if (!obj.hasClass(\\'down\\')) {\\n                        obj.addClass(\\'down\\');\\n                    } else {\\n                        obj.removeClass(\\'down\\');\\n                    }\\n                }\\n            });\\n\\n            selectTit.on(\\'click\\', function () {\\n                var _this = $(this);\\n                var grp = _this.parents(\\'.select-grp\\');\\n                if (!grp.hasClass(\\'open\\')) {\\n                    grp.addClass(\\'open\\').siblings(\\'.select-grp\\').removeClass(\\'open\\');\\n                    selectOpts.mCustomScrollbar(\"scrollTo\", grp, {\\n                        scrollInertia: 0\\n                    });\\n                } else {\\n                    grp.removeClass(\\'open\\');\\n                }\\n            });\\n\\n            obj.on(\\'click\\', \\'.select-item\\', function () {\\n                var _this = $(this);\\n                var text = _this.parent().siblings(\\'.select-tit\\').text() + \\' - \\' + _this.text();\\n\\n                obj.removeClass(\\'down\\');\\n                val.text(text);\\n                input.val(text);\\n            });\\n\\n            obj.on(\\'mouseleave\\', function () {\\n                obj.removeClass(\\'down\\');\\n            });\\n            obj.on(\\'click\\', \\'.squery-item\\', function () {\\n                var _this = $(this);\\n                var text = _this.text();\\n\\n                val.text(text);\\n                input.val(text);\\n                $(\\'.select-query\\').css(\\'display\\', \\'none\\');\\n            });\\n        });\\n    })();\\n\\n    drawSvg(\\'.home2 .svg li\\');\\n    function drawSvg(e) {\\n        var svg1 = \\'M18,33C9.8,33,3,26.2,3,18S9.8,3,18,3S33,9.8,33,18S26.2,33,18,33L18,65\\';\\n        var svg2 = \\'M327,2H102C94.2,2,62.2,3.1,35,28C3.5,56.7,2.6,95.1,2.5,101.5C2.3,107.7,1.9,143.3,30,172C59,201.6,96,201.2,102,201C135.3,201,168.7,201,120,201\\';\\n        var svg3 = \\'M490,3H563C597.3,8.4,625.1,36.2,630.5,70.5C630.5,92,630.5,113.5,630.5,135C627.7,170.8,598.7,200.4,563,204C404.7,204,246.3,204,88,204C51.7,207.5,22,237.2,18.5,273.5C18.5,291.3,18.5,309.2,18.5,327C26.7,327.3,34.1,334,34.1,342.4C34.1,350.7,26.4,356.9,18.5,357C10.5,357.7,2.7,351.2,2.9,343C3.1,335.6,9.4,327.7,17,327\\';\\n        $(e).each(function (i) {\\n            var _this = $(this);\\n            var width = _this.width();\\n            var height = _this.height();\\n\\n            var paper = Raphael(_this[0], width, height);\\n            var line, offset;\\n            switch (i) {\\n                case 0:\\n                    line = paper.path(svg1);\\n                    offset = Math.ceil(Raphael.getTotalLength(svg1));\\n                    break;\\n                case 1:\\n                    line = paper.path(svg2);\\n                    offset = Math.ceil(Raphael.getTotalLength(svg2));\\n                    break;\\n                case 2:\\n                    line = paper.path(svg3);\\n                    offset = Math.ceil(Raphael.getTotalLength(svg3));\\n                    break;\\n            }\\n\\n            line.attr({\\n                stroke: \\'#0075c2\\',\\n                \\'stroke-width\\': 5\\n            });\\n\\n            _this.find(\\'path\\').attr({\\n                \\'stroke-dasharray\\': offset + \\',\\' + offset,\\n                \\'stroke-dashoffset\\': offset\\n            });\\n\\n        });\\n    }\\n\\n    localTime();\\n    getWeather();\\n    fixCover(\\'.focus .carousel_pc li\\', \\'img\\', 1920, 800, 1250, false, true, false);\\n\\n    $(\\'.focus .carousel\\').carouFredSel({\\n        width: \\'100%\\',\\n        items: {\\n            width: \\'100%\\'\\n        },\\n        pagination: \\'.focus .paging\\',\\n        scroll: {\\n            pauseOnHover: true,\\n            fx: \\'crossfade\\',\\n            timeoutDuration: 8000,\\n            onAfter: function (data) {\\n                $(this).trigger(\\'currentPosition\\', function (pos) {\\n                    if (pos > 0) {\\n                        $(this).trigger(\\'configuration\\', [\\'scroll.timeoutDuration\\', 5000]);\\n                    } else {\\n                        $(this).trigger(\\'configuration\\', [\\'scroll.timeoutDuration\\', 8000]);\\n                    }\\n                });\\n            },\\n            onBefore: function (data) {\\n                //\\t\\t\\t\\tdata.items.visible.last().addClass(\\'scale\\').siblings().removeClass(\\'scale\\');\\n                TweenLite.fromTo(data.items.visible.last().find(\\'img\\'), 10, { scale: 1 }, { scale: 1.1, ease: Linear.easeNone });\\n            }\\n        },\\n        onCreate: function (data) {\\n            //\\t\\t\\t$(this).find(\\'li:first\\').addClass(\\'scale\\');\\n            TweenLite.fromTo($(this).find(\\'li:first\\').find(\\'img\\'), 10, { scale: 1 }, { scale: 1.1, ease: Linear.easeNone });\\n        },\\n        swipe: {\\n            onTouch: true,\\n            allowPageScroll: \\'vertical\\'\\n        }\\n    });\\n\\n    $(\\'.home5 .carousel\\').carouFredSel({\\n        width: \\'100%\\',\\n        align: \\'left\\',\\n        //\\t\\titems: 3,\\n        pagination: \\'.home5 .paging\\',\\n        scroll: {\\n            timeoutDuration: 3000,\\n            fx: \\'none\\',\\n            onBefore: function (data) {\\n                data.items.visible.each(function (i) {\\n                    TweenMax.fromTo($(this), 1, { y: \\'100%\\', opacity: 0 }, { y: \\'0%\\', opacity: 1, delay: i / 5 });\\n                });\\n            },\\n            pauseOnHover: true\\n        },\\n        swipe: {\\n            onTouch: true,\\n            allowPageScroll: \\'vertical\\'\\n        }\\n    });\\n\\n    $(\\'.line-scroll-box\\').each(function (i) {\\n        var color = $(\\'.line-scroll-tab .tab-bar li\\').eq(i).attr(\\'style\\');\\n        $(this).attr(\\'style\\', color);\\n\\n        var carousel = $(this).find(\\'.carousel\\');\\n        var prev = $(this).find(\\'.prev\\');\\n        var next = $(this).find(\\'.next\\');\\n\\n        carousel.carouFredSel({\\n            auto: false,\\n            width: \\'100%\\',\\n            circular: false,\\n            infinite: false,\\n            align: \\'left\\',\\n            prev: prev,\\n            next: next,\\n            //\\t\\t\\tscroll: 1,\\n            swipe: {\\n                onTouch: true,\\n                allowPageScroll: \\'vertical\\'\\n            }\\n        });\\n\\n    });\\n\\n    settit($(\\'.info-box .p1 span\\'));\\n    settit($(\\'.info-box .p1 b\\'));\\n\\n    $(window).on(\\'load\\', function () {\\n        // resizeCarousel($(\\'.focus .carousel_pc\\'));\\n        reConfigCarousel();\\n\\n        setTimeout(function () {\\n            showtt($(\\'.info-box .p1 span\\'), 0);\\n            showtt($(\\'.info-box .p1 b\\'), 0);\\n\\n        }, 10);\\n\\n        //load//\\n    });\\n\\n    $(window).on(\\'resize\\', function () {\\n        fixCover(\\'.focus .carousel_pc li\\', \\'img\\', 1920, 800, 1250, false, true, false);\\n        // resizeCarousel($(\\'.focus .carousel_pc\\'));\\n\\n        reConfigCarousel();\\n\\n        //resize//\\n    });\\n\\n    $(window).on(\\'scroll\\', function () {\\n        var obj = [\\'.home2\\', \\'.svg1\\', \\'.svg2\\', \\'.svg3\\', \\'.home3\\'];\\n        if (scrollPos($(obj[0]), 0) && !$(obj[0]).hasClass(\\'show\\')) {\\n            $(obj[0]).addClass(\\'show\\');\\n            scoreUpdate(\\'.home2 .score\\', 265875, 3);\\n        };\\n\\n        if (scrollPos($(obj[1]), 0) && !$(obj[1]).hasClass(\\'svgAnimated\\')) {\\n            $(obj[1]).addClass(\\'svgAnimated\\');\\n            TweenMax.to($(obj[1]).find(\\'path\\'), 1, { \\'stroke-dashoffset\\': 0 });\\n        };\\n\\n        if (scrollPos($(obj[2]), 0) && !$(obj[2]).hasClass(\\'svgAnimated\\')) {\\n            $(obj[2]).addClass(\\'svgAnimated\\');\\n            TweenMax.to($(obj[2]).find(\\'path\\'), 3, { \\'stroke-dashoffset\\': 0 });\\n        };\\n\\n        if (scrollPos($(obj[3]), 0) && !$(obj[3]).hasClass(\\'svgAnimated\\')) {\\n            $(obj[3]).addClass(\\'svgAnimated\\');\\n            TweenMax.to($(obj[3]).find(\\'path\\'), 5, { \\'stroke-dashoffset\\': 0 });\\n        };\\n\\n        if (scrollPos($(obj[4]), 0) && !$(obj[4]).hasClass(\\'show\\')) {\\n            $(obj[4]).addClass(\\'show\\');\\n        };\\n\\n\\n        //scroll//\\n    });\\n\\n\\n\\n    ///\\t\\n});\\n\\nfunction reConfigCarousel() {\\n    if ($(window).width() > 640) {\\n        $(\\'.home5 .carousel\\').trigger(\\'configuration\\', [\\'items\\', 3]);\\n    } else {\\n        $(\\'.home5 .carousel\\').trigger(\\'configuration\\', [\\'items\\', 2]);\\n    }\\n}\\n\\n//\\t计数器\\nfunction scoreUpdate(ele, num, dur) {\\n    var demo = { score: 0 },\\n        score = $(ele);\\n\\n    TweenLite.to(demo, dur, { score: num, onUpdate: showScore })\\n\\n    function showScore() {\\n        score.text(demo.score.toFixed(0));\\n    }\\n}\\n\\n//  焦点图高度重计算    \\nfunction resizeCarousel(ele) {\\n    var isPc = isPC();\\n    if (isPc) {\\n        var height;\\n        var heights = ele.children().map(function () { return $(this).height(); });\\n        try {\\n            height = Math.max.apply(null, heights);\\n        } catch (err) {\\n            height = Math.max.apply(ele.children().height(), []);\\n        }\\n        $(\\'.focus\\').css(\\'height\\', height + \\'px\\');\\n        ele.css(\\'height\\', height + \\'px\\');\\n    }\\n}\\n\\n//  本地时间    \\nfunction localTime() {\\n    var str, ap;\\n    var today = new Date();\\n    var hh = today.getHours();\\n    if (hh < 10) hh = \\'0\\' + hh;\\n    if (hh > 12) {\\n        hh = hh - 12;\\n        ap = \\'pm\\';\\n    } else {\\n        ap = \\'am\\';\\n    }\\n    var mm = today.getMinutes();\\n    if (mm < 10) mm = \\'0\\' + mm;\\n    var ss = today.getSeconds();\\n    if (ss < 10) ss = \\'0\\' + ss;\\n    str = hh + \":\" + mm + \":\" + ss + \" \" + ap;\\n\\n    $(\\'.info-box .time\\').text(str);\\n    requestAnimationFrame(localTime);\\n    //    window.setTimeout(\"localTime()\", 1000);   \\n}\\n\\n//\\t天气预报\\nfunction getWeather() {\\n    var city = $(\\'.info-box .p1 span\\').text() || \\'成都\\';\\n\\n    //\\t中天气图标更合适，但是要用服务器访问数据解决跨域问题，直接jsonp返回的数据格式有误\\n    //\\t$.ajax({  \\n    //\\t\\ttype: \"get\",  \\n    //\\t\\tasync: false,  \\n    //\\t\\turl: \"http://www.weather.com.cn/data/cityinfo/101270101.html\",  \\n    //\\t\\tdataType: \"jsonp\",  \\n    //\\t\\tsuccess: function(data){  \\n    //\\t\\t\\tconsole.log(data.weatherinfo);\\n    //\\t\\t} \\n    //\\t});\\n\\n    //  百度天气数据\\n    $.get(\\'/search/tq.html\\', function (data) {\\n        data = data.info;\\n        var weather_data = data[0];\\n        var date = weather_data.date;\\n        var html = \\'<img alt=\"\\' + weather_data.dayPictureUrl + \\'\" src=\"\\' + weather_data.dayPictureUrl + \\'\" /> \\' + \\'<img alt=\"\\' + weather_data.nightPictureUrl + \\'\" src=\"\\' + weather_data.nightPictureUrl + \\'\" /> \\' + weather_data.temperature + \\' \\' + weather_data.weather + \\' \\' + weather_data.wind;\\n        $(\\'.info-box .weather\\').attr(\\'title\\', date).html(html);\\n    });\\n\\n}\\n\\n</script>\\n<div id=\"footer\">\\n<div class=\"wrap\">\\n<div class=\"box1\"><a href=\"/job.html#job3\" class=\"link\" target=\"_blank\">\\n<img src=\"/Uploads/Picture/2017/08/01/s59804087ebe03.png\" alt=\"\" class=\"ico animated\">人才招聘</a>\\n<a href=\"http://weibo.com/u/2384889627?refer_flag=1001030101_&amp%3Bis_hot=1\" class=\"link\" target=\"_blank\">\\n<img src=\"/Uploads/Picture/2017/08/01/s59804090ee32f.png\" alt=\"\" class=\"ico animated\">在线交流</a>\\n<a href=\"http://edu.chengdurail.com/\" class=\"link\" target=\"_blank\">\\n<img src=\"/Uploads/Picture/2019/06/06/s5cf8f3c113914.png\" alt=\"\" class=\"ico animated\">院校招生</a>\\n<a href=\"/recruit.html\" class=\"link\">\\n<img src=\"/Uploads/Picture/2017/08/01/s5980409865570.png\" alt=\"\" class=\"ico animated\">志愿者招募</a></div> <ul class=\"box2\"><li>\\n<div class=\"ico\">\\n<img src=\"/Uploads/Picture/2017/08/01/s59804677db5cd.png\" alt=\"\">\\n</div>\\n<span class=\"s\">028-61638000</span>\\n</li>\\n<li>\\n<a href=\"/suggest.html \">\\n<div class=\"ico\">\\n<img src=\"/Uploads/Picture/2017/08/01/s59804681c7f84.png\" alt=\"\">\\n</div>\\n</a>\\n</li>\\n<li>\\n<div class=\"ico\">\\n<img src=\"/Uploads/Picture/2017/08/01/s5980468a8c471.png\" alt=\"\">\\n</div>\\n<div class=\"pop\">\\n<img src=\"/Uploads/Picture/2017/12/04/s5a24c4b525b37.jpg\" alt=\"\" title=\"\">\\n</div>\\n</li>\\n<li>\\n<div class=\"ico\">\\n<img src=\"/Uploads/Picture/2017/08/01/s59804691c6f8f.png\" alt=\"\">\\n</div>\\n<div class=\"pop\">\\n<img src=\"/Uploads/Picture/2017/12/04/s5a24c4df50d03.jpg\" alt=\"\" title=\"\">\\n</div>\\n</li></ul> <div class=\"box3\">\\n<ul class=\"links\"><li><a href=\"/overview.html#anchor1\" target=\"_blank\">关于我们</a></li>\\n<li><a href=\"/ck_sitemap.html\">网站地图</a></li>\\n<li><a href=\"/ck_single_detail/310.html\" target=\"_blank\">法律声明</a></li>\\n<li><a href=\"/survey.html\">在线调查问卷</a></li></ul> <div class=\"copy\">COPYRIGHT RESERVED © 2017 成都轨道交通集团有限公司 版权所有\\u3000 蜀ICP备05027659号</div>\\n<div class=\"gaba\" edit_params=\"width%3D20%26height%3D20%26title1Show%3D1%26title1Max%3D22%26showLink%3D1\"><img src=\"/Uploads/Picture/2017/10/16/s59e41e7012092.png\" title=\"\" alt=\"\" />\\n<a target=\"_blank\" href=\"http://www.beian.gov.cn/portal/registerSystemInfo?recordcode=51010602000540\"><p>川公网安备 51010602000540号</p></a></div>\\n<p class=\"ftbj\"><a href=\"http://www.fractal-technology.com\" target=\"_blank\">网站建设</a>：<a href=\" http://www.fractal-technology.com\" target=\"_blank\">北京分形科技</a></p>\\n</div>\\n</div>\\n</div>\\n<script>\\n// 高亮\\nfunction navgl(){\\n\\n\\tvar category = \"javascript:void(0);\" ;\\n\\n\\tvar now  = ( category != \\'javascript:void(0);\\' ) ? category : window.location.pathname;\\n\\n\\tnow1 = now + location.hash;\\n\\n\\t// 自定义高亮 无关联的单页列表页面\\n\\tvar autol = {\\n\\t\\t\\'/search/result.html\\'\\t:\\'/stroke/Inquire\\' \\t\\t\\t\\t,//站点搜索结果\\n\\t\\t\\'/found_ck.html\\' \\t\\t:\\'/trailer_ck.html#operate4\\'\\t,//失物招领\\n\\t\\t\\'/station/interior.html\\':\\'/stroke/Inquire.html#anchor2\\' ,// 站点内部\\n\\t\\t\\'/station/around.html\\'\\t:\\'/stroke/Inquire.html#anchor2\\' ,// 站点周边\\n\\t\\t\\'/questions_ck.html\\'\\t:\\'/trailer_ck.html#operate5\\' ,// 站点周边\\n\\t} ;\\n\\n\\t// 无关联的详情页 \\n\\tvar categoryD = \"10000\" ;\\n\\tvar detail = {\\n\\t\\t\\'10016\\':\\'trailer_ck.html#operate2\\',// 纪念票\\n\\t\\t\\'10019\\':\\'trailer_ck.html#operate2\\',// 纪念票\\n\\t\\t\\'10023\\':\\'trailer_ck.html#operate2\\' // 纪念票\\n\\t}\\n\\tif ( detail[categoryD] ) {\\n\\t\\tautol[ now1 ] = detail[categoryD] ;\\n\\t}\\n\\n\\tvar href = \\'\\';\\n\\t$(\\'.clear li\\').each(function(index){\\n\\t    var _this = $(this);\\n\\t    var _index = index;\\n\\t    href = _this.children(\\'a\\').attr(\\'href\\');\\n\\n\\t    // 首页\\n\\t    if( now == \\'/index.html\\' || now == \\'/index\\' || now == \\'/\\' ){\\n\\t        _this.children(\\'a\\').css(\\'color\\',\\'#3fd0f9\\');\\n\\t        return false ;\\n\\t    }  \\n\\n\\t    // 一级\\n\\t    try {\\n\\t\\t   \\tif( href.indexOf(now) > -1 ){\\n\\t\\t        _this.children(\\'a\\').css(\\'color\\',\\'#3fd0f9\\');\\n\\t\\t    }\\n\\n\\t    } catch (e) {\\n\\t    }\\n\\n\\t    // 判断二级菜单只能存在一次高亮\\n\\t    var isShow = true ;\\n\\n\\t    // 二级\\n\\t    if(_this.find(\\'.sub-nav a\\').size() > 0){\\n\\t        _this.find(\\'.sub-nav a\\').each(function(i){\\n\\t            href = $(this).attr(\\'href\\');\\n\\t            if( isShow && href.indexOf(now1) > -1 ){\\n\\t                _this.children(\\'a\\').css(\\'color\\',\\'#3fd0f9\\');\\n\\t                $(this).css(\\'color\\',\\'#3fd0f9\\');\\n\\t                isShow = false ;\\n\\t            }else{\\n\\t                $(this).css(\\'color\\',\\'white\\');\\n\\t            }\\n\\n\\t            // 自定义高亮\\n\\t            for(key in autol){\\n\\t\\t            if ( isShow && href.indexOf(autol[key]) > -1 ) {\\n\\t\\t\\t            if ( now == key ) {\\n\\t\\t\\t\\t\\t\\t\\t_this.find(\\'.sub-nav a\\').each(function(i){\\n\\t\\t\\t\\t\\t\\t\\t    $(this).css(\\'color\\',\\'white\\');\\n\\t\\t\\t\\t\\t\\t\\t})\\n\\t\\t\\t                _this.children(\\'a\\').css(\\'color\\',\\'#3fd0f9\\');\\n\\t\\t\\t                $(this).css(\\'color\\',\\'#3fd0f9\\');\\n\\t\\t\\t                isShow = false ;\\n\\t\\t\\t            }\\n\\t\\t            }\\n\\t            }\\n\\n\\t        })\\n\\t    } \\n\\t})\\n\\n}\\nnavgl();\\n\\n// 锚点高亮效果\\n$(\\'.clear li .sub-nav a,.side-bar ul li a\\').on(\\'click\\',function(){\\n\\tsetTimeout(function(){\\n\\t\\tnavgl()\\n\\t},100)\\n});\\n\\n// 返回页面 顶端  fgl\\n$(\\'.gotop\\').on(\\'click\\',function(){\\n\\t//location.hash=\"#header\";\\n\\t$(\\'html,body\\').animate({scrollTop:0},\\'slow\\');\\n});\\n\\n</script>\\n<script>\\n\\t// 统计代码\\n\\tvar _hmt = _hmt || [];\\n\\t(function () {\\n\\t\\tvar hm = document.createElement(\"script\");\\n\\t\\thm.src = \"https://hm.baidu.com/hm.js?1dc9e35ce1912cb4c7a9d9dc67ec4795\";\\n\\t\\tvar s = document.getElementsByTagName(\"script\")[0];\\n\\t\\ts.parentNode.insertBefore(hm, s);\\n\\t})();\\n\\n\\t// 成都地铁\\n\\tvar _hmt = _hmt || [];\\n\\t(function () {\\n\\t\\tvar hm = document.createElement(\"script\");\\n\\t\\thm.src = \"https://hm.baidu.com/hm.js?926fa9b1537117e8599595411a408c85\";\\n\\t\\tvar s = document.getElementsByTagName(\"script\")[0];\\n\\t\\ts.parentNode.insertBefore(hm, s);\\n\\t})();\\n</script>\\n</body>\\n</html>'"
      ]
     },
     "execution_count": 120,
     "metadata": {},
     "output_type": "execute_result"
    }
   ],
   "source": [
    "text"
   ]
  },
  {
   "cell_type": "code",
   "execution_count": 129,
   "metadata": {},
   "outputs": [],
   "source": [
    "# 1号线\n",
    "\n",
    "what_we_want = r'<div class=\"select-tit\">[0-9]号线</div>'\n",
    "pattern = re.compile(what_we_want)\n",
    "line_number = pattern.findall(text)"
   ]
  },
  {
   "cell_type": "code",
   "execution_count": 130,
   "metadata": {},
   "outputs": [
    {
     "data": {
      "text/plain": [
       "['<div class=\"select-tit\">1号线</div>',\n",
       " '<div class=\"select-tit\">2号线</div>',\n",
       " '<div class=\"select-tit\">3号线</div>',\n",
       " '<div class=\"select-tit\">4号线</div>',\n",
       " '<div class=\"select-tit\">7号线</div>',\n",
       " '<div class=\"select-tit\">1号线</div>',\n",
       " '<div class=\"select-tit\">2号线</div>',\n",
       " '<div class=\"select-tit\">3号线</div>',\n",
       " '<div class=\"select-tit\">4号线</div>',\n",
       " '<div class=\"select-tit\">7号线</div>']"
      ]
     },
     "execution_count": 130,
     "metadata": {},
     "output_type": "execute_result"
    }
   ],
   "source": [
    "line_number"
   ]
  },
  {
   "cell_type": "code",
   "execution_count": null,
   "metadata": {},
   "outputs": [],
   "source": [
    "station_pattern = r'<li class=\"select-item\" data-code=\"01[0-9]\">韦家碾</li>'"
   ]
  },
  {
   "cell_type": "code",
   "execution_count": 131,
   "metadata": {},
   "outputs": [
    {
     "ename": "SyntaxError",
     "evalue": "invalid syntax (<ipython-input-131-6d9c8198179f>, line 1)",
     "output_type": "error",
     "traceback": [
      "\u001b[1;36m  File \u001b[1;32m\"<ipython-input-131-6d9c8198179f>\"\u001b[1;36m, line \u001b[1;32m1\u001b[0m\n\u001b[1;33m    <li class=\"select-item\" data-code=\"0120\">韦家碾</li><li class=\"select-item\" data-code=\"0121\">升仙湖</li><li class=\"select-item\" data-code=\"0122\">火车北站</li><li class=\"select-item\" data-code=\"0123\">人民北路</li><li class=\"select-item\" data-code=\"0124\">文殊院</li><li class=\"select-item\" data-code=\"0125\">骡马市</li><li class=\"select-item\" data-code=\"0126\">天府广场</li><li class=\"select-item\" data-code=\"0127\">锦江宾馆</li><li class=\"select-item\" data-code=\"0128\">华西坝</li><li class=\"select-item\" data-code=\"0129\">省体育馆</li><li class=\"select-item\" data-code=\"0130\">倪家桥</li><li class=\"select-item\" data-code=\"0131\">桐梓林</li><li class=\"select-item\" data-code=\"0132\">火车南站</li><li class=\"select-item\" data-code=\"0133\">高新</li><li class=\"select-item\" data-code=\"0134\">金融城</li><li class=\"select-item\" data-code=\"0135\">孵化园</li><li class=\"select-item\" data-code=\"0136\">锦城广场</li><li class=\"select-item\" data-code=\"0137\">世纪城</li><li class=\"select-item\" data-code=\"0138\">天府三街</li><li class=\"select-item\" data-code=\"0139\">天府五街</li><li class=\"select-item\" data-code=\"0140\">华府大道</li><li class=\"select-item\" data-code=\"0141\">四河</li><li class=\"select-item\" data-code=\"0142\">广都</li><li class=\"select-item\" data-code=\"0143\">五根松</li><li class=\"select-item\" data-code=\"0144\">华阳</li><li class=\"select-item\" data-code=\"0145\">海昌路</li><li class=\"select-item\" data-code=\"0146\">广福</li><li class=\"select-item\" data-code=\"0147\">红石公园</li><li class=\"select-item\" data-code=\"0148\">麓湖</li><li class=\"select-item\" data-code=\"0149\">武汉路</li><li class=\"select-item\" data-code=\"0150\">天府公园</li><li class=\"select-item\" data-code=\"0151\">西博城</li><li class=\"select-item\" data-code=\"0152\">广州路</li><li class=\"select-item\" data-code=\"0153\">兴隆湖</li><li class=\"select-item\" data-code=\"0154\">科学城</li> </ul>\u001b[0m\n\u001b[1;37m    ^\u001b[0m\n\u001b[1;31mSyntaxError\u001b[0m\u001b[1;31m:\u001b[0m invalid syntax\n"
     ]
    }
   ],
   "source": [
    "<li class=\"select-item\" data-code=\"0120\">韦家碾</li><li class=\"select-item\" data-code=\"0121\">升仙湖</li><li class=\"select-item\" data-code=\"0122\">火车北站</li><li class=\"select-item\" data-code=\"0123\">人民北路</li><li class=\"select-item\" data-code=\"0124\">文殊院</li><li class=\"select-item\" data-code=\"0125\">骡马市</li><li class=\"select-item\" data-code=\"0126\">天府广场</li><li class=\"select-item\" data-code=\"0127\">锦江宾馆</li><li class=\"select-item\" data-code=\"0128\">华西坝</li><li class=\"select-item\" data-code=\"0129\">省体育馆</li><li class=\"select-item\" data-code=\"0130\">倪家桥</li><li class=\"select-item\" data-code=\"0131\">桐梓林</li><li class=\"select-item\" data-code=\"0132\">火车南站</li><li class=\"select-item\" data-code=\"0133\">高新</li><li class=\"select-item\" data-code=\"0134\">金融城</li><li class=\"select-item\" data-code=\"0135\">孵化园</li><li class=\"select-item\" data-code=\"0136\">锦城广场</li><li class=\"select-item\" data-code=\"0137\">世纪城</li><li class=\"select-item\" data-code=\"0138\">天府三街</li><li class=\"select-item\" data-code=\"0139\">天府五街</li><li class=\"select-item\" data-code=\"0140\">华府大道</li><li class=\"select-item\" data-code=\"0141\">四河</li><li class=\"select-item\" data-code=\"0142\">广都</li><li class=\"select-item\" data-code=\"0143\">五根松</li><li class=\"select-item\" data-code=\"0144\">华阳</li><li class=\"select-item\" data-code=\"0145\">海昌路</li><li class=\"select-item\" data-code=\"0146\">广福</li><li class=\"select-item\" data-code=\"0147\">红石公园</li><li class=\"select-item\" data-code=\"0148\">麓湖</li><li class=\"select-item\" data-code=\"0149\">武汉路</li><li class=\"select-item\" data-code=\"0150\">天府公园</li><li class=\"select-item\" data-code=\"0151\">西博城</li><li class=\"select-item\" data-code=\"0152\">广州路</li><li class=\"select-item\" data-code=\"0153\">兴隆湖</li><li class=\"select-item\" data-code=\"0154\">科学城</li> </ul>"
   ]
  },
  {
   "cell_type": "code",
   "execution_count": null,
   "metadata": {},
   "outputs": [],
   "source": []
  },
  {
   "cell_type": "markdown",
   "metadata": {},
   "source": [
    "## （Optional）Create different policies for transfer system.\n"
   ]
  },
  {
   "cell_type": "markdown",
   "metadata": {},
   "source": [
    "以下部门为可选部分，请酌情完成。 并不要求全部同学完成。"
   ]
  },
  {
   "cell_type": "markdown",
   "metadata": {},
   "source": [
    "As much as you can to use the already implemented search agent. You just need to define the **is_goal()**, **get_successor()**, **strategy()** three functions. \n",
    "\n",
    "> a.\tDefine different policies for transfer system. \n",
    "\n",
    "> b.\tSuch as Shortest Path Priority（路程最短优先）, Minimum Transfer Priority(最少换乘优先), Comprehensive Priority(综合优先)\n",
    "\n",
    "> c.\tImplement Continuous transfer. Based on the Agent you implemented, please add this feature: Besides the @param start and @param destination two stations, add some more stations, we called @param by_way, it means, our path should from the start and end, but also include the  @param by_way stations. \n",
    "\n",
    "e.g \n",
    "```\n",
    "1. Input:  start=A,  destination=B, by_way=[C] \n",
    "    Output: [A, … .., C, …. B]\n",
    "2. Input: start=A, destination=B, by_way=[C, D, E]\n",
    "    Output: [A … C … E … D … B]  \n",
    "    # based on your policy, the E station could be reached firstly. \n",
    "![image.png](attachment:image.png)\n",
    "```"
   ]
  },
  {
   "cell_type": "markdown",
   "metadata": {},
   "source": [
    "##### 5.\tTest your result with commercial applications. \n",
    "\n",
    "将你的结果和高德地图或者百度地图进行比较，如果有不同，请分析原因\n"
   ]
  },
  {
   "cell_type": "markdown",
   "metadata": {},
   "source": [
    "恭喜，完成本次课程，你对常用的人工智能方法以及有一定的了解了。基于规则的，基于概率模型的，基于搜索的，基于机器学习的。 可以说，我们现在通常见到的方法都能够归属到这几类方法中。 这就是**人工智能**，并没有很难是吧？ 继续加油！"
   ]
  },
  {
   "cell_type": "markdown",
   "metadata": {},
   "source": [
    "![](https://timgsa.baidu.com/timg?image&quality=80&size=b9999_10000&sec=1562415163815&di=4b29a2a863a8285212033760f288ed7a&imgtype=0&src=http%3A%2F%2F5b0988e595225.cdn.sohucs.com%2Fimages%2F20180710%2F8704194a1d7f46a383ddc29d40c9bca5.jpeg)"
   ]
  }
 ],
 "metadata": {
  "kernelspec": {
   "display_name": "Python [default]",
   "language": "python",
   "name": "python3"
  },
  "language_info": {
   "codemirror_mode": {
    "name": "ipython",
    "version": 3
   },
   "file_extension": ".py",
   "mimetype": "text/x-python",
   "name": "python",
   "nbconvert_exporter": "python",
   "pygments_lexer": "ipython3",
   "version": "3.6.5"
  }
 },
 "nbformat": 4,
 "nbformat_minor": 2
}
