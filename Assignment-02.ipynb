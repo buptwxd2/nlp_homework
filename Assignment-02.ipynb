{
 "cells": [
  {
   "cell_type": "markdown",
   "metadata": {},
   "source": [
    "## Assignments for Week-02"
   ]
  },
  {
   "cell_type": "markdown",
   "metadata": {},
   "source": [
    "In this course, we learnt what's the search problem and what's the machine leanring. In this assignment, we need you do some more practice."
   ]
  },
  {
   "cell_type": "markdown",
   "metadata": {},
   "source": [
    "### 1. Re-code the house price machine learning\n",
    "\n",
    "###### 1. Random Choose Method to get optimal *k* and *b*\n",
    "###### 2.Supervised Direction to get optimal *k* and *b*\n",
    "###### 3.Gradient Descent to get optimal *k* and *b*\n",
    "###### 4. Try different Loss function and learning rate. \n",
    "\n",
    "For example, you can change the loss function: $Loss = \\frac{1}{n} sum({y_i - \\hat{y_i}})^2$ to $Loss = \\frac{1}{n} sum(|{y_i - \\hat{y_i}}|)$\n",
    "\n",
    "And you can change the learning rate and observe the performance."
   ]
  },
  {
   "cell_type": "markdown",
   "metadata": {},
   "source": [
    "![](https://timgsa.baidu.com/timg?image&quality=80&size=b9999_10000&sec=1562414412237&di=8377c38d7b50c6f8d45b92ccc78dc1e7&imgtype=0&src=http%3A%2F%2Fmmbiz.qpic.cn%2Fmmbiz_jpg%2FlSyiavfm6wPgQDuDYa42IMgSkLOcPJU91RbkMibGy7VHLrhhNVLibTYk1iaLcmXKTdHc4icTDVia59QFXwqpW8cLflaw%2F640%3Fwx_fmt%3Djpeg)"
   ]
  },
  {
   "cell_type": "markdown",
   "metadata": {},
   "source": [
    "## 2. Answer following questions:\n",
    "\n",
    "\n",
    "###### 1. Why do we need machine learning methods instead of creating a complicated formula?\n"
   ]
  },
  {
   "cell_type": "markdown",
   "metadata": {},
   "source": [
    "Ans: Because machine learning could fit the existing dataset and find a reasonable formula/curve for it. Manually creatding a formula is too difficlut and more ofen in reality, maybe the relationshiop between X and Y could be be expressed using a math formula."
   ]
  },
  {
   "cell_type": "markdown",
   "metadata": {},
   "source": [
    "###### 2.  Wha't's the disadvantages of `the 1st Random Choosen` methods in our course? "
   ]
  },
  {
   "cell_type": "markdown",
   "metadata": {},
   "source": [
    "Ans: It's totally random and of course it's not efficient. It just tries a large number of random weights(k,b) and pcik the one which lead to smallest loss."
   ]
  },
  {
   "cell_type": "markdown",
   "metadata": {},
   "source": [
    "###### 3. Is the `2nd method supervised direction` better than 1st one?  What's the disadvantages of `the 2nd supversied directin` method? "
   ]
  },
  {
   "cell_type": "markdown",
   "metadata": {},
   "source": [
    "Ans:Yes. Ofen in reality, there are hundreds of paramerters, or thousands of, or even more. So there would be two many combination of directions, which leads to the algorithm is still not efficient enough."
   ]
  },
  {
   "cell_type": "markdown",
   "metadata": {},
   "source": [
    "###### 4. Why do we use `Derivative / Gredient` to fit a target function? "
   ]
  },
  {
   "cell_type": "markdown",
   "metadata": {},
   "source": [
    "Ans: Because the gradient represents the largest/maximimu direction in which the target increases. So along with the inververse direction, we could find the minmum of the target function most efficiently."
   ]
  },
  {
   "cell_type": "markdown",
   "metadata": {},
   "source": [
    "###### 5. In the words 'Gredient Descent', what's the `Gredient` and what's the `Descent`?"
   ]
  },
  {
   "cell_type": "markdown",
   "metadata": {},
   "source": [
    "Ans: The gradient is a vector(ine one dimension, it's a scalar), with that direction, the target function increases most quickly. Descent means the inverse direction of the gradient, in which direction, the target funcion decreases most quickly. So we use this method to iteratively find the minimum of one function"
   ]
  },
  {
   "cell_type": "markdown",
   "metadata": {},
   "source": [
    "###### 6. What's the advantages of `the 3rd gradient descent method` compared to the previous methods?"
   ]
  },
  {
   "cell_type": "markdown",
   "metadata": {},
   "source": [
    "Ans: It's the most efficient way to find the minmimum of the target function"
   ]
  },
  {
   "cell_type": "markdown",
   "metadata": {},
   "source": [
    "###### 7. Using the simple words to describe: What's the machine leanring."
   ]
  },
  {
   "cell_type": "markdown",
   "metadata": {},
   "source": [
    "Ans: Given a dataset, define a loss function, assume the relationship between X and Y, using the Gradient Descent to find the optimal parameters to minimize the defined loss function."
   ]
  },
  {
   "cell_type": "markdown",
   "metadata": {},
   "source": [
    "## 3. Finish the search problem"
   ]
  },
  {
   "cell_type": "markdown",
   "metadata": {},
   "source": [
    "Please using the search policy to implement an agent. This agent receives two input, one is @param start station and the other is @param destination. Your agent should give the optimal route based on Beijing Subway system. "
   ]
  },
  {
   "cell_type": "markdown",
   "metadata": {},
   "source": [
    "> Deadline: 2019-July-13\n",
    "\n",
    ">Submit: Submit the source code and result to github. \n",
    "\n"
   ]
  },
  {
   "cell_type": "markdown",
   "metadata": {},
   "source": [
    "![](https://timgsa.baidu.com/timg?image&quality=80&size=b9999_10000&sec=1562414356407&di=b57814aafd215bb8b8d9d8cd37c573d6&imgtype=0&src=http%3A%2F%2Fcli.clewm.net%2Ffile%2F2015%2F03%2F24%2F174ed60082b8422ac0636cfd3efb9e7f.jpg)"
   ]
  },
  {
   "cell_type": "markdown",
   "metadata": {},
   "source": [
    "#### Dataflow: "
   ]
  },
  {
   "cell_type": "markdown",
   "metadata": {},
   "source": [
    "##### 1.\tGet data from web page.\n",
    "\n",
    "> a.\tGet web page source from: https://baike.baidu.com/item/%E5%8C%97%E4%BA%AC%E5%9C%B0%E9%93%81/408485\n",
    "\n",
    "> b.\tYou may need @package **requests**[https://2.python-requests.org/en/master/] page to get the response via url\n",
    "\n",
    "> c.\tYou may need save the page source to file system.\n",
    "\n",
    "> d.\tThe target of this step is to get station information of all the subway lines;\n",
    "\n",
    "> e.\tYou may need install @package beautiful soup[https://www.crummy.com/software/BeautifulSoup/bs4/doc/]  to get the url information, or just use > Regular Expression to get the url.  Our recommendation is that using the Regular Expression and BeautiflSoup both. \n",
    "\n",
    "> f.\tYou may need BFS to get all the related page url from one url. \n",
    "Question: Why do we use BFS to traverse web page (or someone said, build a web spider)?  Can DFS do this job? which is better? "
   ]
  },
  {
   "cell_type": "markdown",
   "metadata": {},
   "source": [
    "##### 2.\tPreprocessing data from page source.\n",
    "\n",
    "> a.\tBased on the page source gotten from url. You may need some more preprocessing of the page. \n",
    "\n",
    "> b.\tthe Regular Expression you may need to process the text information.\n",
    "\n",
    "> c.\tYou may need @package networkx, @package matplotlib to visualize data. \n",
    "\n",
    "> d.\tYou should build a dictionary or graph which could represent the connection information of Beijing subway routes. \n",
    "\n",
    "> e.\tYou may need the defaultdict, set data structures to implement this procedure. "
   ]
  },
  {
   "cell_type": "markdown",
   "metadata": {},
   "source": [
    "##### 3. Build the search agent\n",
    "\n",
    "> Build the search agent based on the graph we build.\n",
    "\n",
    "for example, when you run: \n",
    "\n",
    "```python\n",
    ">>> search('奥体中心', '天安门') \n",
    "```\n",
    "you need get the result: \n",
    "\n",
    "奥体中心-> A -> B -> C -> ... -> 天安门\n",
    "\n"
   ]
  },
  {
   "cell_type": "code",
   "execution_count": 2,
   "metadata": {},
   "outputs": [],
   "source": [
    "# 考虑到爬虫本地有点繁琐，这里我将先写出DFS和BFS,以及路径搜索算法，并用老师给出的地图数据进行验证；\n",
    "# 待之后有时间之后，再去爬本市的地铁图，并应用写好的路径搜索算法"
   ]
  },
  {
   "cell_type": "code",
   "execution_count": 4,
   "metadata": {},
   "outputs": [],
   "source": [
    "# bfs algorithm\n",
    "def bfs_search(graph, start):\n",
    "    # we need a queue for bfs search\n",
    "    visited = [start]\n",
    "    \n",
    "    for node in visited:\n",
    "        adjacent_nodes_list = graph[node]\n",
    "        for adjacent_node in adjacent_nodes_list:\n",
    "            if adjacent_node not in visited:\n",
    "                visited.append(adjacent_node)\n",
    "    \n",
    "    return visited"
   ]
  },
  {
   "cell_type": "code",
   "execution_count": 5,
   "metadata": {},
   "outputs": [],
   "source": [
    "number_dict = {\n",
    "    1: [2, 3],\n",
    "    2: [1, 4], \n",
    "    3: [1, 5],\n",
    "    4: [2, 6], \n",
    "    5: [3, 7],\n",
    "    7: [5, 8]\n",
    "}"
   ]
  },
  {
   "cell_type": "code",
   "execution_count": 15,
   "metadata": {},
   "outputs": [],
   "source": [
    "from collections import defaultdict\n",
    "import networkx as nx\n",
    "number_graph = defaultdict(list)\n",
    "\n",
    "number_graph.update(number_dict)"
   ]
  },
  {
   "cell_type": "code",
   "execution_count": 13,
   "metadata": {},
   "outputs": [
    {
     "data": {
      "image/png": "[encoded data removed]",
      "text/plain": [
       "<Figure size 432x288 with 1 Axes>"
      ]
     },
     "metadata": {},
     "output_type": "display_data"
    }
   ],
   "source": [
    "graph = nx.Graph(number_graph)\n",
    "%matplotlib inline\n",
    "import matplotlib.pyplot as plt\n",
    "\n",
    "nx.draw(graph, with_labels=True)"
   ]
  },
  {
   "cell_type": "code",
   "execution_count": 17,
   "metadata": {},
   "outputs": [
    {
     "data": {
      "text/plain": [
       "[1, 2, 3, 4, 5, 6, 7, 8]"
      ]
     },
     "execution_count": 17,
     "metadata": {},
     "output_type": "execute_result"
    }
   ],
   "source": [
    "bfs_search(number_graph, 1)"
   ]
  },
  {
   "cell_type": "code",
   "execution_count": 18,
   "metadata": {},
   "outputs": [],
   "source": [
    "# non recursive version\n",
    "def non_recur_dfs_search(graph, node):\n",
    "    visited = [node]\n",
    "    # we need a stack for dfs search\n",
    "    stack = [node]\n",
    "    \n",
    "    while stack:\n",
    "        node = stack[-1]\n",
    "        if node not in visited:\n",
    "            visited.append(node)\n",
    "        \n",
    "        remove_from_stack = True\n",
    "        for next_n in graph[node]:\n",
    "            if next_n not in visited:\n",
    "                stack.append(next_n)\n",
    "                remove_from_stack = False\n",
    "        \n",
    "        if remove_from_stack:\n",
    "            stack.pop()\n",
    "            \n",
    "    return visited"
   ]
  },
  {
   "cell_type": "code",
   "execution_count": 19,
   "metadata": {},
   "outputs": [
    {
     "data": {
      "text/plain": [
       "[1, 3, 5, 7, 8, 2, 4, 6]"
      ]
     },
     "execution_count": 19,
     "metadata": {},
     "output_type": "execute_result"
    }
   ],
   "source": [
    "non_recur_dfs_search(number_graph, 1)"
   ]
  },
  {
   "cell_type": "code",
   "execution_count": 20,
   "metadata": {},
   "outputs": [],
   "source": [
    "# recursive version\n",
    "def recur_dfs_search(graph, node, visited):\n",
    "    if node not in visited:\n",
    "        visited.append(node)\n",
    "        for next_node in graph[node]:\n",
    "            recur_dfs_search(graph, next_node, visited)\n",
    "    \n",
    "    return visited"
   ]
  },
  {
   "cell_type": "code",
   "execution_count": 21,
   "metadata": {},
   "outputs": [
    {
     "data": {
      "text/plain": [
       "[1, 2, 4, 6, 3, 5, 7, 8]"
      ]
     },
     "execution_count": 21,
     "metadata": {},
     "output_type": "execute_result"
    }
   ],
   "source": [
    "recur_dfs_search(number_graph, 1, [])"
   ]
  },
  {
   "cell_type": "code",
   "execution_count": 71,
   "metadata": {},
   "outputs": [],
   "source": [
    "# search path\n",
    "def move_one_step_forward(path, dest, graph_dict):\n",
    "    tail = path[-1]\n",
    "\n",
    "    stop = False\n",
    "    if not graph_dict[tail]:\n",
    "        stop=True\n",
    "        return [path], stop\n",
    "\n",
    "    if tail == dest:\n",
    "        stop=True\n",
    "        return [path], stop\n",
    "\n",
    "    new_paths = []\n",
    "    for next_n in graph_dict[tail]:\n",
    "        new_path = path.copy()\n",
    "        if next_n not in new_path:\n",
    "            new_path.append(next_n)\n",
    "            new_paths.append(new_path)\n",
    "    \n",
    "    # edge node; need to stop\n",
    "    if not new_paths:\n",
    "        new_paths = [path]\n",
    "        stop = True\n",
    "\n",
    "    return new_paths, stop\n",
    "\n",
    "\n",
    "def search_path(source, dest, graph_dict, sort_candidate=(lambda x: x)):\n",
    "    initial_path = [source]\n",
    "    list_of_path, stop = move_one_step_forward(initial_path, dest, graph_dict)\n",
    "    if stop:\n",
    "        return list_of_path\n",
    "    \n",
    "    all_paths = []\n",
    "    \n",
    "    paths_to_explore = list_of_path\n",
    "    while paths_to_explore:\n",
    "        new_paths_to_explore = []\n",
    "        for path in paths_to_explore:\n",
    "            list_of_path, stop = move_one_step_forward(path, dest, graph_dict)\n",
    "            if stop:\n",
    "                all_paths.extend(list_of_path)\n",
    "            else:\n",
    "                new_paths_to_explore.extend(list_of_path)\n",
    "                \n",
    "        paths_to_explore = new_paths_to_explore\n",
    "    \n",
    "    # print(\"Starting from {}, all paths are {}\".format(source, all_paths))\n",
    "    \n",
    "    all_path_to_dest = [path for path in all_paths if path[-1] == dest]\n",
    "    # print(\"Starting from {} and end at {}, all paths are {}\".format(source, dest, all_path_to_dest))\n",
    "    \n",
    "    # dedupe the same element\n",
    "    final_all_path_to_dest = []\n",
    "    [final_all_path_to_dest.append(path) for path in all_path_to_dest if path not in final_all_path_to_dest]\n",
    "    \n",
    "    \n",
    "    return sort_candidate(final_all_path_to_dest)"
   ]
  },
  {
   "cell_type": "code",
   "execution_count": 72,
   "metadata": {
    "scrolled": true
   },
   "outputs": [
    {
     "data": {
      "text/plain": [
       "[[1, 2, 4, 6]]"
      ]
     },
     "execution_count": 72,
     "metadata": {},
     "output_type": "execute_result"
    }
   ],
   "source": [
    "search_path(1, 6, number_graph)"
   ]
  },
  {
   "cell_type": "code",
   "execution_count": 73,
   "metadata": {},
   "outputs": [],
   "source": [
    "# Verify the functio using the data from the course\n",
    "simple_connection_info_src = {\n",
    "    '北京': ['太原', '沈阳'],\n",
    "    '太原': ['北京', '西安', '郑州'],\n",
    "    '兰州': ['西安'],\n",
    "    '郑州': ['太原'],\n",
    "    '西安': ['兰州', '长沙'],\n",
    "    '长沙': ['福州', '南宁'],\n",
    "    '沈阳': ['北京']\n",
    "}\n",
    "\n",
    "simple_connection_info = defaultdict(list)\n",
    "simple_connection_info.update(simple_connection_info_src)"
   ]
  },
  {
   "cell_type": "code",
   "execution_count": 74,
   "metadata": {},
   "outputs": [
    {
     "data": {
      "text/plain": [
       "defaultdict(list,\n",
       "            {'北京': ['太原', '沈阳'],\n",
       "             '太原': ['北京', '西安', '郑州'],\n",
       "             '兰州': ['西安'],\n",
       "             '郑州': ['太原'],\n",
       "             '西安': ['兰州', '长沙'],\n",
       "             '长沙': ['福州', '南宁'],\n",
       "             '沈阳': ['北京']})"
      ]
     },
     "execution_count": 74,
     "metadata": {},
     "output_type": "execute_result"
    }
   ],
   "source": [
    "simple_connection_info"
   ]
  },
  {
   "cell_type": "code",
   "execution_count": 75,
   "metadata": {},
   "outputs": [
    {
     "data": {
      "text/plain": [
       "[['兰州', '西安', '长沙', '福州']]"
      ]
     },
     "execution_count": 75,
     "metadata": {},
     "output_type": "execute_result"
    }
   ],
   "source": [
    "search_path('兰州', '福州', simple_connection_info)"
   ]
  },
  {
   "cell_type": "code",
   "execution_count": 76,
   "metadata": {},
   "outputs": [
    {
     "data": {
      "text/plain": [
       "[['北京', '太原', '西安', '长沙', '福州']]"
      ]
     },
     "execution_count": 76,
     "metadata": {},
     "output_type": "execute_result"
    }
   ],
   "source": [
    "search_path('北京', '福州', simple_connection_info)"
   ]
  },
  {
   "cell_type": "code",
   "execution_count": 77,
   "metadata": {},
   "outputs": [],
   "source": [
    "# Using the formal map to test the function\n",
    "import re\n",
    "pattern = re.compile(r\"name:'(\\w+)',\\s+geoCoord:\\[(\\d+.\\d+),\\s(\\d+.\\d+)\\]\")\n",
    "coordination_source = \"\"\"\n",
    "{name:'兰州', geoCoord:[103.73, 36.03]},\n",
    "{name:'嘉峪关', geoCoord:[98.17, 39.47]},\n",
    "{name:'西宁', geoCoord:[101.74, 36.56]},\n",
    "{name:'成都', geoCoord:[104.06, 30.67]},\n",
    "{name:'石家庄', geoCoord:[114.48, 38.03]},\n",
    "{name:'拉萨', geoCoord:[102.73, 25.04]},\n",
    "{name:'贵阳', geoCoord:[106.71, 26.57]},\n",
    "{name:'武汉', geoCoord:[114.31, 30.52]},\n",
    "{name:'郑州', geoCoord:[113.65, 34.76]},\n",
    "{name:'济南', geoCoord:[117, 36.65]},\n",
    "{name:'南京', geoCoord:[118.78, 32.04]},\n",
    "{name:'合肥', geoCoord:[117.27, 31.86]},\n",
    "{name:'杭州', geoCoord:[120.19, 30.26]},\n",
    "{name:'南昌', geoCoord:[115.89, 28.68]},\n",
    "{name:'福州', geoCoord:[119.3, 26.08]},\n",
    "{name:'广州', geoCoord:[113.23, 23.16]},\n",
    "{name:'长沙', geoCoord:[113, 28.21]},\n",
    "//{name:'海口', geoCoord:[110.35, 20.02]},\n",
    "{name:'沈阳', geoCoord:[123.38, 41.8]},\n",
    "{name:'长春', geoCoord:[125.35, 43.88]},\n",
    "{name:'哈尔滨', geoCoord:[126.63, 45.75]},\n",
    "{name:'太原', geoCoord:[112.53, 37.87]},\n",
    "{name:'西安', geoCoord:[108.95, 34.27]},\n",
    "//{name:'台湾', geoCoord:[121.30, 25.03]},\n",
    "{name:'北京', geoCoord:[116.46, 39.92]},\n",
    "{name:'上海', geoCoord:[121.48, 31.22]},\n",
    "{name:'重庆', geoCoord:[106.54, 29.59]},\n",
    "{name:'天津', geoCoord:[117.2, 39.13]},\n",
    "{name:'呼和浩特', geoCoord:[111.65, 40.82]},\n",
    "{name:'南宁', geoCoord:[108.33, 22.84]},\n",
    "//{name:'西藏', geoCoord:[91.11, 29.97]},\n",
    "{name:'银川', geoCoord:[106.27, 38.47]},\n",
    "{name:'乌鲁木齐', geoCoord:[87.68, 43.77]},\n",
    "{name:'香港', geoCoord:[114.17, 22.28]},\n",
    "{name:'澳门', geoCoord:[113.54, 22.19]}\n",
    "\"\"\"\n",
    "\n",
    "city_location = {}\n",
    "\n",
    "for line in coordination_source.split('\\n'):\n",
    "    city_info = pattern.findall(line)\n",
    "    if not city_info: continue\n",
    "    \n",
    "    # following: we find the city info\n",
    "    \n",
    "    city, long, lat = city_info[0]\n",
    "    \n",
    "    long, lat = float(long), float(lat)\n",
    "    \n",
    "    city_location[city] = (long, lat)"
   ]
  },
  {
   "cell_type": "code",
   "execution_count": 78,
   "metadata": {},
   "outputs": [
    {
     "data": {
      "text/plain": [
       "{'兰州': (103.73, 36.03),\n",
       " '嘉峪关': (98.17, 39.47),\n",
       " '西宁': (101.74, 36.56),\n",
       " '成都': (104.06, 30.67),\n",
       " '石家庄': (114.48, 38.03),\n",
       " '拉萨': (102.73, 25.04),\n",
       " '贵阳': (106.71, 26.57),\n",
       " '武汉': (114.31, 30.52),\n",
       " '郑州': (113.65, 34.76),\n",
       " '济南': (117.0, 36.65),\n",
       " '南京': (118.78, 32.04),\n",
       " '合肥': (117.27, 31.86),\n",
       " '杭州': (120.19, 30.26),\n",
       " '南昌': (115.89, 28.68),\n",
       " '福州': (119.3, 26.08),\n",
       " '广州': (113.23, 23.16),\n",
       " '长沙': (113.0, 28.21),\n",
       " '海口': (110.35, 20.02),\n",
       " '沈阳': (123.38, 41.8),\n",
       " '长春': (125.35, 43.88),\n",
       " '哈尔滨': (126.63, 45.75),\n",
       " '太原': (112.53, 37.87),\n",
       " '西安': (108.95, 34.27),\n",
       " '台湾': (121.3, 25.03),\n",
       " '北京': (116.46, 39.92),\n",
       " '上海': (121.48, 31.22),\n",
       " '重庆': (106.54, 29.59),\n",
       " '天津': (117.2, 39.13),\n",
       " '呼和浩特': (111.65, 40.82),\n",
       " '南宁': (108.33, 22.84),\n",
       " '西藏': (91.11, 29.97),\n",
       " '银川': (106.27, 38.47),\n",
       " '乌鲁木齐': (87.68, 43.77),\n",
       " '香港': (114.17, 22.28),\n",
       " '澳门': (113.54, 22.19)}"
      ]
     },
     "execution_count": 78,
     "metadata": {},
     "output_type": "execute_result"
    }
   ],
   "source": [
    "city_location"
   ]
  },
  {
   "cell_type": "code",
   "execution_count": 79,
   "metadata": {},
   "outputs": [],
   "source": [
    "import math\n",
    "def geo_distance(origin, destination):\n",
    "    \"\"\"\n",
    "    Calculate the Haversine distance.\n",
    "\n",
    "    Parameters\n",
    "    ----------\n",
    "    origin : tuple of float\n",
    "        (lat, long)\n",
    "    destination : tuple of float\n",
    "        (lat, long)\n",
    "\n",
    "    Returns\n",
    "    -------\n",
    "    distance_in_km : float\n",
    "\n",
    "    Examples\n",
    "    --------\n",
    "    >>> origin = (48.1372, 11.5756)  # Munich\n",
    "    >>> destination = (52.5186, 13.4083)  # Berlin\n",
    "    >>> round(distance(origin, destination), 1)\n",
    "    504.2\n",
    "    \"\"\"\n",
    "    lat1, lon1 = origin\n",
    "    lat2, lon2 = destination\n",
    "    radius = 6371  # km\n",
    "\n",
    "    dlat = math.radians(lat2 - lat1)\n",
    "    dlon = math.radians(lon2 - lon1)\n",
    "    a = (math.sin(dlat / 2) * math.sin(dlat / 2) +\n",
    "         math.cos(math.radians(lat1)) * math.cos(math.radians(lat2)) *\n",
    "         math.sin(dlon / 2) * math.sin(dlon / 2))\n",
    "    c = 2 * math.atan2(math.sqrt(a), math.sqrt(1 - a))\n",
    "    d = radius * c\n",
    "\n",
    "    return d"
   ]
  },
  {
   "cell_type": "code",
   "execution_count": 80,
   "metadata": {},
   "outputs": [],
   "source": [
    "def get_geo_distance(city1, city2):\n",
    "    return geo_distance(city_location[city1], city_location[city2])"
   ]
  },
  {
   "cell_type": "code",
   "execution_count": 81,
   "metadata": {},
   "outputs": [],
   "source": [
    "city_connection = defaultdict(list)"
   ]
  },
  {
   "cell_type": "code",
   "execution_count": 82,
   "metadata": {},
   "outputs": [],
   "source": [
    "threshold = 300\n",
    "for c1 in city_location:\n",
    "    for c2 in city_location:\n",
    "        if c1 == c2: continue\n",
    "        \n",
    "        distance = get_geo_distance(c1, c2)\n",
    "        \n",
    "        if distance < threshold:\n",
    "            city_connection[c1].append(c2)\n",
    "            city_connection[c2].append(c1)"
   ]
  },
  {
   "cell_type": "code",
   "execution_count": 83,
   "metadata": {},
   "outputs": [
    {
     "data": {
      "text/plain": [
       "defaultdict(list,\n",
       "            {'兰州': ['西宁', '成都', '银川', '西宁', '成都', '银川'],\n",
       "             '西宁': ['兰州', '兰州', '成都', '拉萨', '成都', '拉萨'],\n",
       "             '成都': ['兰州', '西宁', '兰州', '西宁', '拉萨', '重庆', '拉萨', '重庆'],\n",
       "             '银川': ['兰州', '重庆', '兰州', '重庆'],\n",
       "             '拉萨': ['西宁', '成都', '西宁', '成都'],\n",
       "             '重庆': ['成都', '贵阳', '成都', '贵阳', '银川', '银川'],\n",
       "             '石家庄': ['郑州', '济南', '太原', '北京', '郑州', '济南', '太原', '北京'],\n",
       "             '郑州': ['石家庄', '武汉', '石家庄', '武汉', '长沙', '太原', '长沙', '太原'],\n",
       "             '济南': ['石家庄', '石家庄', '合肥', '北京', '天津', '合肥', '北京', '天津'],\n",
       "             '太原': ['石家庄', '郑州', '石家庄', '郑州', '呼和浩特', '呼和浩特'],\n",
       "             '北京': ['石家庄', '济南', '石家庄', '济南', '天津', '天津'],\n",
       "             '贵阳': ['重庆', '南宁', '重庆', '南宁'],\n",
       "             '南宁': ['贵阳', '海口', '贵阳', '海口'],\n",
       "             '武汉': ['郑州', '南昌', '长沙', '郑州', '南昌', '长沙'],\n",
       "             '南昌': ['武汉', '合肥', '武汉', '合肥'],\n",
       "             '长沙': ['武汉',\n",
       "              '郑州',\n",
       "              '广州',\n",
       "              '武汉',\n",
       "              '郑州',\n",
       "              '广州',\n",
       "              '香港',\n",
       "              '澳门',\n",
       "              '香港',\n",
       "              '澳门'],\n",
       "             '合肥': ['济南', '南京', '济南', '南京', '南昌', '南昌'],\n",
       "             '天津': ['济南', '北京', '济南', '北京'],\n",
       "             '南京': ['合肥', '杭州', '合肥', '杭州'],\n",
       "             '杭州': ['南京', '南京', '福州', '上海', '福州', '上海'],\n",
       "             '福州': ['杭州', '杭州', '台湾', '台湾'],\n",
       "             '上海': ['杭州', '杭州'],\n",
       "             '台湾': ['福州', '福州'],\n",
       "             '广州': ['长沙', '香港', '澳门', '长沙', '香港', '澳门'],\n",
       "             '香港': ['广州', '长沙', '广州', '长沙', '澳门', '澳门'],\n",
       "             '澳门': ['广州', '长沙', '香港', '广州', '长沙', '香港'],\n",
       "             '海口': ['南宁', '南宁'],\n",
       "             '沈阳': ['长春', '长春'],\n",
       "             '长春': ['沈阳', '沈阳', '哈尔滨', '哈尔滨'],\n",
       "             '哈尔滨': ['长春', '长春'],\n",
       "             '呼和浩特': ['太原', '太原']})"
      ]
     },
     "execution_count": 83,
     "metadata": {},
     "output_type": "execute_result"
    }
   ],
   "source": [
    "city_connection"
   ]
  },
  {
   "cell_type": "code",
   "execution_count": 89,
   "metadata": {},
   "outputs": [],
   "source": [
    "# Verify the function using city_connection\n",
    "\n",
    "def transfer_stations_first(pathes): \n",
    "    return sorted(pathes, key=len)"
   ]
  },
  {
   "cell_type": "code",
   "execution_count": 90,
   "metadata": {},
   "outputs": [],
   "source": [
    "def transfer_as_much_possible(pathes):\n",
    "    return sorted(pathes, key=len, reverse=True)"
   ]
  },
  {
   "cell_type": "code",
   "execution_count": 91,
   "metadata": {},
   "outputs": [],
   "source": [
    "def shortest_path_first(pathes):\n",
    "    \n",
    "    if len(pathes) <= 1: return pathes\n",
    "    \n",
    "    def get_path_distnace(path):\n",
    "        distance = 0\n",
    "        for station in path[:-1]:\n",
    "            distance += get_geo_distance(station, path[-1])\n",
    "            \n",
    "        return distance\n",
    "\n",
    "    return sorted(pathes, key=get_path_distnace)"
   ]
  },
  {
   "cell_type": "code",
   "execution_count": 92,
   "metadata": {},
   "outputs": [
    {
     "data": {
      "text/plain": [
       "[['北京', '济南', '合肥', '南京'],\n",
       " ['北京', '石家庄', '济南', '合肥', '南京'],\n",
       " ['北京', '天津', '济南', '合肥', '南京'],\n",
       " ['北京', '石家庄', '郑州', '武汉', '南昌', '合肥', '南京'],\n",
       " ['北京', '石家庄', '郑州', '长沙', '武汉', '南昌', '合肥', '南京'],\n",
       " ['北京', '石家庄', '太原', '郑州', '武汉', '南昌', '合肥', '南京'],\n",
       " ['北京', '济南', '石家庄', '郑州', '武汉', '南昌', '合肥', '南京'],\n",
       " ['北京', '石家庄', '太原', '郑州', '长沙', '武汉', '南昌', '合肥', '南京'],\n",
       " ['北京', '济南', '石家庄', '郑州', '长沙', '武汉', '南昌', '合肥', '南京'],\n",
       " ['北京', '济南', '石家庄', '太原', '郑州', '武汉', '南昌', '合肥', '南京'],\n",
       " ['北京', '天津', '济南', '石家庄', '郑州', '武汉', '南昌', '合肥', '南京'],\n",
       " ['北京', '济南', '石家庄', '太原', '郑州', '长沙', '武汉', '南昌', '合肥', '南京'],\n",
       " ['北京', '天津', '济南', '石家庄', '郑州', '长沙', '武汉', '南昌', '合肥', '南京'],\n",
       " ['北京', '天津', '济南', '石家庄', '太原', '郑州', '武汉', '南昌', '合肥', '南京'],\n",
       " ['北京', '天津', '济南', '石家庄', '太原', '郑州', '长沙', '武汉', '南昌', '合肥', '南京']]"
      ]
     },
     "execution_count": 92,
     "metadata": {},
     "output_type": "execute_result"
    }
   ],
   "source": [
    "search_path('北京', '南京', city_connection)"
   ]
  },
  {
   "cell_type": "code",
   "execution_count": 93,
   "metadata": {},
   "outputs": [
    {
     "data": {
      "text/plain": [
       "[['北京', '石家庄', '郑州', '长沙'],\n",
       " ['北京', '石家庄', '郑州', '武汉', '长沙'],\n",
       " ['北京', '石家庄', '太原', '郑州', '长沙'],\n",
       " ['北京', '济南', '石家庄', '郑州', '长沙'],\n",
       " ['北京', '石家庄', '太原', '郑州', '武汉', '长沙'],\n",
       " ['北京', '济南', '石家庄', '郑州', '武汉', '长沙'],\n",
       " ['北京', '济南', '石家庄', '太原', '郑州', '长沙'],\n",
       " ['北京', '济南', '合肥', '南昌', '武汉', '长沙'],\n",
       " ['北京', '天津', '济南', '石家庄', '郑州', '长沙'],\n",
       " ['北京', '石家庄', '济南', '合肥', '南昌', '武汉', '长沙'],\n",
       " ['北京', '济南', '石家庄', '太原', '郑州', '武汉', '长沙'],\n",
       " ['北京', '济南', '合肥', '南昌', '武汉', '郑州', '长沙'],\n",
       " ['北京', '天津', '济南', '石家庄', '郑州', '武汉', '长沙'],\n",
       " ['北京', '天津', '济南', '石家庄', '太原', '郑州', '长沙'],\n",
       " ['北京', '天津', '济南', '合肥', '南昌', '武汉', '长沙'],\n",
       " ['北京', '石家庄', '济南', '合肥', '南昌', '武汉', '郑州', '长沙'],\n",
       " ['北京', '天津', '济南', '石家庄', '太原', '郑州', '武汉', '长沙'],\n",
       " ['北京', '天津', '济南', '合肥', '南昌', '武汉', '郑州', '长沙']]"
      ]
     },
     "execution_count": 93,
     "metadata": {},
     "output_type": "execute_result"
    }
   ],
   "source": [
    "search_path('北京', '长沙', city_connection)"
   ]
  },
  {
   "cell_type": "code",
   "execution_count": 96,
   "metadata": {
    "scrolled": false
   },
   "outputs": [
    {
     "data": {
      "text/plain": [
       "['北京', '石家庄', '郑州', '长沙', '广州']"
      ]
     },
     "execution_count": 96,
     "metadata": {},
     "output_type": "execute_result"
    }
   ],
   "source": [
    "search_path('北京', '广州', city_connection, sort_candidate=transfer_stations_first)[0]"
   ]
  },
  {
   "cell_type": "code",
   "execution_count": 100,
   "metadata": {},
   "outputs": [
    {
     "data": {
      "text/plain": [
       "['北京', '石家庄', '济南', '合肥', '南昌', '武汉', '郑州', '长沙', '香港', '澳门', '广州']"
      ]
     },
     "execution_count": 100,
     "metadata": {},
     "output_type": "execute_result"
    }
   ],
   "source": [
    "search_path('北京', '广州', city_connection, sort_candidate=transfer_as_much_possible)[0]\n",
    "#这个值应该是比课上的结果的准确， 课上给的结果是北京🚗->石家庄🚗->郑州🚗->武汉🚗->长沙🚗->广州"
   ]
  },
  {
   "cell_type": "code",
   "execution_count": 102,
   "metadata": {},
   "outputs": [],
   "source": [
    "# chengdu subway url\n",
    "url = \"http://www.chengdurail.com/index.html\""
   ]
  },
  {
   "cell_type": "code",
   "execution_count": 119,
   "metadata": {},
   "outputs": [],
   "source": [
    "import requests\n",
    "\n",
    "response = requests.get(url)\n",
    "response.encoding='utf-8'\n",
    "text = response.text"
   ]
  },
  {
   "cell_type": "code",
   "execution_count": 169,
   "metadata": {},
   "outputs": [],
   "source": [
    "# 1号线\n",
    "\n",
    "what_we_want = r'<div class=\"select-tit\">[0-9]+号线</div>'\n",
    "pattern = re.compile(what_we_want)\n",
    "line_number = pattern.findall(text)"
   ]
  },
  {
   "cell_type": "code",
   "execution_count": 170,
   "metadata": {
    "scrolled": true
   },
   "outputs": [
    {
     "data": {
      "text/plain": [
       "['<div class=\"select-tit\">1号线</div>',\n",
       " '<div class=\"select-tit\">2号线</div>',\n",
       " '<div class=\"select-tit\">3号线</div>',\n",
       " '<div class=\"select-tit\">4号线</div>',\n",
       " '<div class=\"select-tit\">7号线</div>',\n",
       " '<div class=\"select-tit\">10号线</div>',\n",
       " '<div class=\"select-tit\">1号线</div>',\n",
       " '<div class=\"select-tit\">2号线</div>',\n",
       " '<div class=\"select-tit\">3号线</div>',\n",
       " '<div class=\"select-tit\">4号线</div>',\n",
       " '<div class=\"select-tit\">7号线</div>',\n",
       " '<div class=\"select-tit\">10号线</div>']"
      ]
     },
     "execution_count": 170,
     "metadata": {},
     "output_type": "execute_result"
    }
   ],
   "source": [
    "line_number"
   ]
  },
  {
   "cell_type": "code",
   "execution_count": null,
   "metadata": {},
   "outputs": [],
   "source": [
    "line_num = 1"
   ]
  },
  {
   "cell_type": "code",
   "execution_count": 164,
   "metadata": {},
   "outputs": [],
   "source": [
    "station_pattern = r'<li class=\"select-item\" data-code=\"01[0-9]{2}\">(\\w+)</li>'"
   ]
  },
  {
   "cell_type": "code",
   "execution_count": 165,
   "metadata": {},
   "outputs": [],
   "source": [
    "station_pattern = re.compile(station_pattern)"
   ]
  },
  {
   "cell_type": "code",
   "execution_count": 166,
   "metadata": {},
   "outputs": [],
   "source": [
    "stations = station_pattern.findall(text)"
   ]
  },
  {
   "cell_type": "code",
   "execution_count": 167,
   "metadata": {},
   "outputs": [],
   "source": [
    "line_1_stations = []\n",
    "for station in stations:\n",
    "    if station not in line_1_stations:\n",
    "        line_1_stations.append(station)"
   ]
  },
  {
   "cell_type": "code",
   "execution_count": 174,
   "metadata": {},
   "outputs": [],
   "source": [
    "station_patterns = [r'<li class=\"select-item\" data-code=\"01[0-9]+\">(\\w+)</li>',\n",
    "                   r'<li class=\"select-item\" data-code=\"02[0-9]+\">(\\w+)</li>',\n",
    "                   r'<li class=\"select-item\" data-code=\"03[0-9]+\">(\\w+)</li>',\n",
    "                   r'<li class=\"select-item\" data-code=\"04[0-9]+\">(\\w+)</li>',\n",
    "                   r'<li class=\"select-item\" data-code=\"07[0-9]+\">(\\w+)</li>',\n",
    "                   r'<li class=\"select-item\" data-code=\"10[0-9]{2}\">(\\w+)</li>']\n",
    "line_numbers = [1, 2, 3, 4, 7, 10]\n",
    "\n",
    "line_stations_dict = {}\n",
    "for idx, station_pattern in enumerate(station_patterns):\n",
    "    station_pattern = re.compile(station_pattern)\n",
    "    stations = station_pattern.findall(text)\n",
    "    # dedupe the stations\n",
    "    line_stations = []\n",
    "    for station in stations:\n",
    "        if station not in line_stations:\n",
    "            line_stations.append(station)\n",
    "    \n",
    "    line_stations_dict[line_numbers[idx]] = line_stations\n"
   ]
  },
  {
   "cell_type": "code",
   "execution_count": 175,
   "metadata": {},
   "outputs": [
    {
     "data": {
      "text/plain": [
       "{1: ['韦家碾',\n",
       "  '升仙湖',\n",
       "  '火车北站',\n",
       "  '人民北路',\n",
       "  '文殊院',\n",
       "  '骡马市',\n",
       "  '天府广场',\n",
       "  '锦江宾馆',\n",
       "  '华西坝',\n",
       "  '省体育馆',\n",
       "  '倪家桥',\n",
       "  '桐梓林',\n",
       "  '火车南站',\n",
       "  '高新',\n",
       "  '金融城',\n",
       "  '孵化园',\n",
       "  '锦城广场',\n",
       "  '世纪城',\n",
       "  '天府三街',\n",
       "  '天府五街',\n",
       "  '华府大道',\n",
       "  '四河',\n",
       "  '广都',\n",
       "  '五根松',\n",
       "  '华阳',\n",
       "  '海昌路',\n",
       "  '广福',\n",
       "  '红石公园',\n",
       "  '麓湖',\n",
       "  '武汉路',\n",
       "  '天府公园',\n",
       "  '西博城',\n",
       "  '广州路',\n",
       "  '兴隆湖',\n",
       "  '科学城'],\n",
       " 2: ['犀浦',\n",
       "  '天河路',\n",
       "  '百草路',\n",
       "  '金周路',\n",
       "  '金科北路',\n",
       "  '迎宾大道',\n",
       "  '茶店子客运站',\n",
       "  '羊犀立交',\n",
       "  '一品天下',\n",
       "  '蜀汉路东',\n",
       "  '白果林',\n",
       "  '中医大省医院',\n",
       "  '通惠门',\n",
       "  '人民公园',\n",
       "  '天府广场',\n",
       "  '春熙路',\n",
       "  '东门大桥',\n",
       "  '牛王庙',\n",
       "  '牛市口',\n",
       "  '东大路',\n",
       "  '塔子山公园',\n",
       "  '成都东客站',\n",
       "  '成渝立交',\n",
       "  '惠王陵',\n",
       "  '洪河',\n",
       "  '成都行政学院',\n",
       "  '大面铺',\n",
       "  '连山坡',\n",
       "  '界牌',\n",
       "  '书房',\n",
       "  '龙平路',\n",
       "  '龙泉驿'],\n",
       " 3: ['成都医学院',\n",
       "  '石油大学',\n",
       "  '钟楼',\n",
       "  '马超西路',\n",
       "  '团结新区',\n",
       "  '锦水河',\n",
       "  '三河场',\n",
       "  '金华寺东路',\n",
       "  '植物园',\n",
       "  '军区总医院',\n",
       "  '熊猫大道',\n",
       "  '动物园',\n",
       "  '昭觉寺南路',\n",
       "  '驷马桥',\n",
       "  '李家沱',\n",
       "  '前锋路',\n",
       "  '红星桥',\n",
       "  '市二医院',\n",
       "  '春熙路',\n",
       "  '新南门',\n",
       "  '磨子桥',\n",
       "  '省体育馆',\n",
       "  '衣冠庙',\n",
       "  '高升桥',\n",
       "  '红牌楼',\n",
       "  '太平园',\n",
       "  '川藏立交',\n",
       "  '武侯立交',\n",
       "  '武青南路',\n",
       "  '双凤桥',\n",
       "  '龙桥路',\n",
       "  '航都大街',\n",
       "  '迎春桥',\n",
       "  '东升',\n",
       "  '双流广场',\n",
       "  '三里坝',\n",
       "  '双流西站'],\n",
       " 4: ['万盛',\n",
       "  '杨柳河',\n",
       "  '凤溪河',\n",
       "  '南熏大道',\n",
       "  '光华公园',\n",
       "  '涌泉',\n",
       "  '凤凰大街',\n",
       "  '马厂坝',\n",
       "  '非遗博览园',\n",
       "  '蔡桥',\n",
       "  '中坝',\n",
       "  '清江西路',\n",
       "  '文化宫',\n",
       "  '西南财大',\n",
       "  '草堂北路',\n",
       "  '中医大省医院',\n",
       "  '宽窄巷子',\n",
       "  '骡马市',\n",
       "  '太升南路',\n",
       "  '市二医院',\n",
       "  '玉双路',\n",
       "  '双桥路',\n",
       "  '万年场',\n",
       "  '槐树店',\n",
       "  '来龙',\n",
       "  '十陵',\n",
       "  '成都大学',\n",
       "  '明蜀王陵',\n",
       "  '西河'],\n",
       " 7: ['火车北站',\n",
       "  '驷马桥',\n",
       "  '府青路',\n",
       "  '八里庄',\n",
       "  '二仙桥',\n",
       "  '理工大学',\n",
       "  '崔家店',\n",
       "  '双店路',\n",
       "  '槐树店',\n",
       "  '迎晖路',\n",
       "  '成都东客站',\n",
       "  '大观',\n",
       "  '狮子山',\n",
       "  '四川师大',\n",
       "  '琉璃场',\n",
       "  '三瓦窑',\n",
       "  '火车南站',\n",
       "  '神仙树',\n",
       "  '高朋大道',\n",
       "  '太平园',\n",
       "  '武侯大道',\n",
       "  '龙爪堰',\n",
       "  '东坡路',\n",
       "  '文化宫',\n",
       "  '金沙博物馆',\n",
       "  '一品天下',\n",
       "  '茶店子',\n",
       "  '花照壁',\n",
       "  '西南交大',\n",
       "  '九里堤',\n",
       "  '北站西二路'],\n",
       " 10: ['太平园', '簇锦', '华兴', '金花', '双流机场1航站楼', '双流机场2航站楼']}"
      ]
     },
     "execution_count": 175,
     "metadata": {},
     "output_type": "execute_result"
    }
   ],
   "source": [
    "line_stations_dict"
   ]
  },
  {
   "cell_type": "code",
   "execution_count": 180,
   "metadata": {},
   "outputs": [],
   "source": [
    "# covert line_station_dict to station_station connections\n",
    "\n",
    "line_1_stations = line_stations_dict[1]\n",
    "\n",
    "station_connections = {}\n",
    "for idx, station in enumerate(line_1_stations):\n",
    "    if idx == 0:\n",
    "        station_connections[station] = [line_1_stations[idx+1]]\n",
    "        continue\n",
    "    \n",
    "    if idx == len(line_1_stations) -1:\n",
    "        station_connections[station] = [line_1_stations[idx-1]]\n",
    "        continue\n",
    "        \n",
    "    station_connections[station] = [line_1_stations[idx-1], line_1_stations[idx+1]]"
   ]
  },
  {
   "cell_type": "code",
   "execution_count": 192,
   "metadata": {},
   "outputs": [],
   "source": [
    "# Initialize station_connections\n",
    "station_connections = {}\n",
    "for line_stations in line_stations_dict.values():\n",
    "    for station in line_stations:\n",
    "        station_connections[station] = []"
   ]
  },
  {
   "cell_type": "code",
   "execution_count": 193,
   "metadata": {},
   "outputs": [
    {
     "data": {
      "text/plain": [
       "{'韦家碾': [],\n",
       " '升仙湖': [],\n",
       " '火车北站': [],\n",
       " '人民北路': [],\n",
       " '文殊院': [],\n",
       " '骡马市': [],\n",
       " '天府广场': [],\n",
       " '锦江宾馆': [],\n",
       " '华西坝': [],\n",
       " '省体育馆': [],\n",
       " '倪家桥': [],\n",
       " '桐梓林': [],\n",
       " '火车南站': [],\n",
       " '高新': [],\n",
       " '金融城': [],\n",
       " '孵化园': [],\n",
       " '锦城广场': [],\n",
       " '世纪城': [],\n",
       " '天府三街': [],\n",
       " '天府五街': [],\n",
       " '华府大道': [],\n",
       " '四河': [],\n",
       " '广都': [],\n",
       " '五根松': [],\n",
       " '华阳': [],\n",
       " '海昌路': [],\n",
       " '广福': [],\n",
       " '红石公园': [],\n",
       " '麓湖': [],\n",
       " '武汉路': [],\n",
       " '天府公园': [],\n",
       " '西博城': [],\n",
       " '广州路': [],\n",
       " '兴隆湖': [],\n",
       " '科学城': [],\n",
       " '犀浦': [],\n",
       " '天河路': [],\n",
       " '百草路': [],\n",
       " '金周路': [],\n",
       " '金科北路': [],\n",
       " '迎宾大道': [],\n",
       " '茶店子客运站': [],\n",
       " '羊犀立交': [],\n",
       " '一品天下': [],\n",
       " '蜀汉路东': [],\n",
       " '白果林': [],\n",
       " '中医大省医院': [],\n",
       " '通惠门': [],\n",
       " '人民公园': [],\n",
       " '春熙路': [],\n",
       " '东门大桥': [],\n",
       " '牛王庙': [],\n",
       " '牛市口': [],\n",
       " '东大路': [],\n",
       " '塔子山公园': [],\n",
       " '成都东客站': [],\n",
       " '成渝立交': [],\n",
       " '惠王陵': [],\n",
       " '洪河': [],\n",
       " '成都行政学院': [],\n",
       " '大面铺': [],\n",
       " '连山坡': [],\n",
       " '界牌': [],\n",
       " '书房': [],\n",
       " '龙平路': [],\n",
       " '龙泉驿': [],\n",
       " '成都医学院': [],\n",
       " '石油大学': [],\n",
       " '钟楼': [],\n",
       " '马超西路': [],\n",
       " '团结新区': [],\n",
       " '锦水河': [],\n",
       " '三河场': [],\n",
       " '金华寺东路': [],\n",
       " '植物园': [],\n",
       " '军区总医院': [],\n",
       " '熊猫大道': [],\n",
       " '动物园': [],\n",
       " '昭觉寺南路': [],\n",
       " '驷马桥': [],\n",
       " '李家沱': [],\n",
       " '前锋路': [],\n",
       " '红星桥': [],\n",
       " '市二医院': [],\n",
       " '新南门': [],\n",
       " '磨子桥': [],\n",
       " '衣冠庙': [],\n",
       " '高升桥': [],\n",
       " '红牌楼': [],\n",
       " '太平园': [],\n",
       " '川藏立交': [],\n",
       " '武侯立交': [],\n",
       " '武青南路': [],\n",
       " '双凤桥': [],\n",
       " '龙桥路': [],\n",
       " '航都大街': [],\n",
       " '迎春桥': [],\n",
       " '东升': [],\n",
       " '双流广场': [],\n",
       " '三里坝': [],\n",
       " '双流西站': [],\n",
       " '万盛': [],\n",
       " '杨柳河': [],\n",
       " '凤溪河': [],\n",
       " '南熏大道': [],\n",
       " '光华公园': [],\n",
       " '涌泉': [],\n",
       " '凤凰大街': [],\n",
       " '马厂坝': [],\n",
       " '非遗博览园': [],\n",
       " '蔡桥': [],\n",
       " '中坝': [],\n",
       " '清江西路': [],\n",
       " '文化宫': [],\n",
       " '西南财大': [],\n",
       " '草堂北路': [],\n",
       " '宽窄巷子': [],\n",
       " '太升南路': [],\n",
       " '玉双路': [],\n",
       " '双桥路': [],\n",
       " '万年场': [],\n",
       " '槐树店': [],\n",
       " '来龙': [],\n",
       " '十陵': [],\n",
       " '成都大学': [],\n",
       " '明蜀王陵': [],\n",
       " '西河': [],\n",
       " '府青路': [],\n",
       " '八里庄': [],\n",
       " '二仙桥': [],\n",
       " '理工大学': [],\n",
       " '崔家店': [],\n",
       " '双店路': [],\n",
       " '迎晖路': [],\n",
       " '大观': [],\n",
       " '狮子山': [],\n",
       " '四川师大': [],\n",
       " '琉璃场': [],\n",
       " '三瓦窑': [],\n",
       " '神仙树': [],\n",
       " '高朋大道': [],\n",
       " '武侯大道': [],\n",
       " '龙爪堰': [],\n",
       " '东坡路': [],\n",
       " '金沙博物馆': [],\n",
       " '茶店子': [],\n",
       " '花照壁': [],\n",
       " '西南交大': [],\n",
       " '九里堤': [],\n",
       " '北站西二路': [],\n",
       " '簇锦': [],\n",
       " '华兴': [],\n",
       " '金花': [],\n",
       " '双流机场1航站楼': [],\n",
       " '双流机场2航站楼': []}"
      ]
     },
     "execution_count": 193,
     "metadata": {},
     "output_type": "execute_result"
    }
   ],
   "source": [
    "station_connections"
   ]
  },
  {
   "cell_type": "code",
   "execution_count": 195,
   "metadata": {},
   "outputs": [],
   "source": [
    "for line_num, line_stations in line_stations_dict.items():\n",
    "    for idx, station in enumerate(line_stations):\n",
    "        if idx == 0:\n",
    "            if line_stations[idx+1] not in station_connections[station]:\n",
    "                station_connections[station].append(line_stations[idx+1])\n",
    "            continue\n",
    "        \n",
    "        if idx == len(line_stations) - 1:\n",
    "            if line_stations[idx-1] not in station_connections[station]:\n",
    "                station_connections[station].append(line_stations[idx-1])\n",
    "            continue\n",
    "        \n",
    "        if line_stations[idx-1] not in station_connections[station]:\n",
    "            station_connections[station].append(line_stations[idx-1])\n",
    "            \n",
    "        if line_stations[idx+1] not in station_connections[station]:\n",
    "            station_connections[station].append(line_stations[idx+1])"
   ]
  },
  {
   "cell_type": "code",
   "execution_count": 196,
   "metadata": {
    "scrolled": false
   },
   "outputs": [
    {
     "data": {
      "text/plain": [
       "{'韦家碾': ['升仙湖'],\n",
       " '升仙湖': ['韦家碾', '火车北站'],\n",
       " '火车北站': ['升仙湖', '人民北路', '驷马桥'],\n",
       " '人民北路': ['火车北站', '文殊院'],\n",
       " '文殊院': ['人民北路', '骡马市'],\n",
       " '骡马市': ['文殊院', '天府广场', '宽窄巷子', '太升南路'],\n",
       " '天府广场': ['骡马市', '锦江宾馆', '人民公园', '春熙路'],\n",
       " '锦江宾馆': ['天府广场', '华西坝'],\n",
       " '华西坝': ['锦江宾馆', '省体育馆'],\n",
       " '省体育馆': ['华西坝', '倪家桥', '磨子桥', '衣冠庙'],\n",
       " '倪家桥': ['省体育馆', '桐梓林'],\n",
       " '桐梓林': ['倪家桥', '火车南站'],\n",
       " '火车南站': ['桐梓林', '高新', '三瓦窑', '神仙树'],\n",
       " '高新': ['火车南站', '金融城'],\n",
       " '金融城': ['高新', '孵化园'],\n",
       " '孵化园': ['金融城', '锦城广场'],\n",
       " '锦城广场': ['孵化园', '世纪城'],\n",
       " '世纪城': ['锦城广场', '天府三街'],\n",
       " '天府三街': ['世纪城', '天府五街'],\n",
       " '天府五街': ['天府三街', '华府大道'],\n",
       " '华府大道': ['天府五街', '四河'],\n",
       " '四河': ['华府大道', '广都'],\n",
       " '广都': ['四河', '五根松'],\n",
       " '五根松': ['广都', '华阳'],\n",
       " '华阳': ['五根松', '海昌路'],\n",
       " '海昌路': ['华阳', '广福'],\n",
       " '广福': ['海昌路', '红石公园'],\n",
       " '红石公园': ['广福', '麓湖'],\n",
       " '麓湖': ['红石公园', '武汉路'],\n",
       " '武汉路': ['麓湖', '天府公园'],\n",
       " '天府公园': ['武汉路', '西博城'],\n",
       " '西博城': ['天府公园', '广州路'],\n",
       " '广州路': ['西博城', '兴隆湖'],\n",
       " '兴隆湖': ['广州路', '科学城'],\n",
       " '科学城': ['兴隆湖'],\n",
       " '犀浦': ['天河路'],\n",
       " '天河路': ['犀浦', '百草路'],\n",
       " '百草路': ['天河路', '金周路'],\n",
       " '金周路': ['百草路', '金科北路'],\n",
       " '金科北路': ['金周路', '迎宾大道'],\n",
       " '迎宾大道': ['金科北路', '茶店子客运站'],\n",
       " '茶店子客运站': ['迎宾大道', '羊犀立交'],\n",
       " '羊犀立交': ['茶店子客运站', '一品天下'],\n",
       " '一品天下': ['羊犀立交', '蜀汉路东', '金沙博物馆', '茶店子'],\n",
       " '蜀汉路东': ['一品天下', '白果林'],\n",
       " '白果林': ['蜀汉路东', '中医大省医院'],\n",
       " '中医大省医院': ['白果林', '通惠门', '草堂北路', '宽窄巷子'],\n",
       " '通惠门': ['中医大省医院', '人民公园'],\n",
       " '人民公园': ['通惠门', '天府广场'],\n",
       " '春熙路': ['天府广场', '东门大桥', '市二医院', '新南门'],\n",
       " '东门大桥': ['春熙路', '牛王庙'],\n",
       " '牛王庙': ['东门大桥', '牛市口'],\n",
       " '牛市口': ['牛王庙', '东大路'],\n",
       " '东大路': ['牛市口', '塔子山公园'],\n",
       " '塔子山公园': ['东大路', '成都东客站'],\n",
       " '成都东客站': ['塔子山公园', '成渝立交', '迎晖路', '大观'],\n",
       " '成渝立交': ['成都东客站', '惠王陵'],\n",
       " '惠王陵': ['成渝立交', '洪河'],\n",
       " '洪河': ['惠王陵', '成都行政学院'],\n",
       " '成都行政学院': ['洪河', '大面铺'],\n",
       " '大面铺': ['成都行政学院', '连山坡'],\n",
       " '连山坡': ['大面铺', '界牌'],\n",
       " '界牌': ['连山坡', '书房'],\n",
       " '书房': ['界牌', '龙平路'],\n",
       " '龙平路': ['书房', '龙泉驿'],\n",
       " '龙泉驿': ['龙平路'],\n",
       " '成都医学院': ['石油大学'],\n",
       " '石油大学': ['成都医学院', '钟楼'],\n",
       " '钟楼': ['石油大学', '马超西路'],\n",
       " '马超西路': ['钟楼', '团结新区'],\n",
       " '团结新区': ['马超西路', '锦水河'],\n",
       " '锦水河': ['团结新区', '三河场'],\n",
       " '三河场': ['锦水河', '金华寺东路'],\n",
       " '金华寺东路': ['三河场', '植物园'],\n",
       " '植物园': ['金华寺东路', '军区总医院'],\n",
       " '军区总医院': ['植物园', '熊猫大道'],\n",
       " '熊猫大道': ['军区总医院', '动物园'],\n",
       " '动物园': ['熊猫大道', '昭觉寺南路'],\n",
       " '昭觉寺南路': ['动物园', '驷马桥'],\n",
       " '驷马桥': ['昭觉寺南路', '李家沱', '火车北站', '府青路'],\n",
       " '李家沱': ['驷马桥', '前锋路'],\n",
       " '前锋路': ['李家沱', '红星桥'],\n",
       " '红星桥': ['前锋路', '市二医院'],\n",
       " '市二医院': ['红星桥', '春熙路', '太升南路', '玉双路'],\n",
       " '新南门': ['春熙路', '磨子桥'],\n",
       " '磨子桥': ['新南门', '省体育馆'],\n",
       " '衣冠庙': ['省体育馆', '高升桥'],\n",
       " '高升桥': ['衣冠庙', '红牌楼'],\n",
       " '红牌楼': ['高升桥', '太平园'],\n",
       " '太平园': ['红牌楼', '川藏立交', '高朋大道', '武侯大道', '簇锦'],\n",
       " '川藏立交': ['太平园', '武侯立交'],\n",
       " '武侯立交': ['川藏立交', '武青南路'],\n",
       " '武青南路': ['武侯立交', '双凤桥'],\n",
       " '双凤桥': ['武青南路', '龙桥路'],\n",
       " '龙桥路': ['双凤桥', '航都大街'],\n",
       " '航都大街': ['龙桥路', '迎春桥'],\n",
       " '迎春桥': ['航都大街', '东升'],\n",
       " '东升': ['迎春桥', '双流广场'],\n",
       " '双流广场': ['东升', '三里坝'],\n",
       " '三里坝': ['双流广场', '双流西站'],\n",
       " '双流西站': ['三里坝'],\n",
       " '万盛': ['杨柳河'],\n",
       " '杨柳河': ['万盛', '凤溪河'],\n",
       " '凤溪河': ['杨柳河', '南熏大道'],\n",
       " '南熏大道': ['凤溪河', '光华公园'],\n",
       " '光华公园': ['南熏大道', '涌泉'],\n",
       " '涌泉': ['光华公园', '凤凰大街'],\n",
       " '凤凰大街': ['涌泉', '马厂坝'],\n",
       " '马厂坝': ['凤凰大街', '非遗博览园'],\n",
       " '非遗博览园': ['马厂坝', '蔡桥'],\n",
       " '蔡桥': ['非遗博览园', '中坝'],\n",
       " '中坝': ['蔡桥', '清江西路'],\n",
       " '清江西路': ['中坝', '文化宫'],\n",
       " '文化宫': ['清江西路', '西南财大', '东坡路', '金沙博物馆'],\n",
       " '西南财大': ['文化宫', '草堂北路'],\n",
       " '草堂北路': ['西南财大', '中医大省医院'],\n",
       " '宽窄巷子': ['中医大省医院', '骡马市'],\n",
       " '太升南路': ['骡马市', '市二医院'],\n",
       " '玉双路': ['市二医院', '双桥路'],\n",
       " '双桥路': ['玉双路', '万年场'],\n",
       " '万年场': ['双桥路', '槐树店'],\n",
       " '槐树店': ['万年场', '来龙', '双店路', '迎晖路'],\n",
       " '来龙': ['槐树店', '十陵'],\n",
       " '十陵': ['来龙', '成都大学'],\n",
       " '成都大学': ['十陵', '明蜀王陵'],\n",
       " '明蜀王陵': ['成都大学', '西河'],\n",
       " '西河': ['明蜀王陵'],\n",
       " '府青路': ['驷马桥', '八里庄'],\n",
       " '八里庄': ['府青路', '二仙桥'],\n",
       " '二仙桥': ['八里庄', '理工大学'],\n",
       " '理工大学': ['二仙桥', '崔家店'],\n",
       " '崔家店': ['理工大学', '双店路'],\n",
       " '双店路': ['崔家店', '槐树店'],\n",
       " '迎晖路': ['槐树店', '成都东客站'],\n",
       " '大观': ['成都东客站', '狮子山'],\n",
       " '狮子山': ['大观', '四川师大'],\n",
       " '四川师大': ['狮子山', '琉璃场'],\n",
       " '琉璃场': ['四川师大', '三瓦窑'],\n",
       " '三瓦窑': ['琉璃场', '火车南站'],\n",
       " '神仙树': ['火车南站', '高朋大道'],\n",
       " '高朋大道': ['神仙树', '太平园'],\n",
       " '武侯大道': ['太平园', '龙爪堰'],\n",
       " '龙爪堰': ['武侯大道', '东坡路'],\n",
       " '东坡路': ['龙爪堰', '文化宫'],\n",
       " '金沙博物馆': ['文化宫', '一品天下'],\n",
       " '茶店子': ['一品天下', '花照壁'],\n",
       " '花照壁': ['茶店子', '西南交大'],\n",
       " '西南交大': ['花照壁', '九里堤'],\n",
       " '九里堤': ['西南交大', '北站西二路'],\n",
       " '北站西二路': ['九里堤'],\n",
       " '簇锦': ['太平园', '华兴'],\n",
       " '华兴': ['簇锦', '金花'],\n",
       " '金花': ['华兴', '双流机场1航站楼'],\n",
       " '双流机场1航站楼': ['金花', '双流机场2航站楼'],\n",
       " '双流机场2航站楼': ['双流机场1航站楼']}"
      ]
     },
     "execution_count": 196,
     "metadata": {},
     "output_type": "execute_result"
    }
   ],
   "source": [
    "station_connections"
   ]
  },
  {
   "cell_type": "code",
   "execution_count": 197,
   "metadata": {},
   "outputs": [
    {
     "data": {
      "image/png": "[encoded data removed]",
      "text/plain": [
       "<Figure size 432x288 with 1 Axes>"
      ]
     },
     "metadata": {},
     "output_type": "display_data"
    }
   ],
   "source": [
    "station_network = nx.Graph(station_connections)\n",
    "%matplotlib inline\n",
    "import matplotlib.pyplot as plt\n",
    "\n",
    "nx.draw(station_network, with_labels=True)"
   ]
  },
  {
   "cell_type": "code",
   "execution_count": 181,
   "metadata": {},
   "outputs": [
    {
     "data": {
      "text/plain": [
       "['韦家碾',\n",
       " '升仙湖',\n",
       " '火车北站',\n",
       " '人民北路',\n",
       " '文殊院',\n",
       " '骡马市',\n",
       " '天府广场',\n",
       " '锦江宾馆',\n",
       " '华西坝',\n",
       " '省体育馆',\n",
       " '倪家桥',\n",
       " '桐梓林',\n",
       " '火车南站',\n",
       " '高新',\n",
       " '金融城',\n",
       " '孵化园',\n",
       " '锦城广场',\n",
       " '世纪城',\n",
       " '天府三街',\n",
       " '天府五街',\n",
       " '华府大道',\n",
       " '四河',\n",
       " '广都',\n",
       " '五根松',\n",
       " '华阳',\n",
       " '海昌路',\n",
       " '广福',\n",
       " '红石公园',\n",
       " '麓湖',\n",
       " '武汉路',\n",
       " '天府公园',\n",
       " '西博城',\n",
       " '广州路',\n",
       " '兴隆湖',\n",
       " '科学城']"
      ]
     },
     "execution_count": 181,
     "metadata": {},
     "output_type": "execute_result"
    }
   ],
   "source": [
    "line_1_stations"
   ]
  },
  {
   "cell_type": "code",
   "execution_count": 205,
   "metadata": {},
   "outputs": [
    {
     "data": {
      "text/plain": [
       "['华府大道',\n",
       " '天府五街',\n",
       " '天府三街',\n",
       " '世纪城',\n",
       " '锦城广场',\n",
       " '孵化园',\n",
       " '金融城',\n",
       " '高新',\n",
       " '火车南站',\n",
       " '神仙树',\n",
       " '高朋大道']"
      ]
     },
     "execution_count": 205,
     "metadata": {},
     "output_type": "execute_result"
    }
   ],
   "source": [
    "search_path('华府大道', '高朋大道', station_connections, transfer_stations_first)[0]"
   ]
  },
  {
   "cell_type": "code",
   "execution_count": 206,
   "metadata": {},
   "outputs": [
    {
     "data": {
      "text/plain": [
       "['华府大道',\n",
       " '天府五街',\n",
       " '天府三街',\n",
       " '世纪城',\n",
       " '锦城广场',\n",
       " '孵化园',\n",
       " '金融城',\n",
       " '高新',\n",
       " '火车南站',\n",
       " '神仙树',\n",
       " '高朋大道',\n",
       " '太平园',\n",
       " '武侯大道',\n",
       " '龙爪堰',\n",
       " '东坡路',\n",
       " '文化宫',\n",
       " '金沙博物馆',\n",
       " '一品天下',\n",
       " '羊犀立交',\n",
       " '茶店子客运站',\n",
       " '迎宾大道',\n",
       " '金科北路',\n",
       " '金周路',\n",
       " '百草路',\n",
       " '天河路',\n",
       " '犀浦']"
      ]
     },
     "execution_count": 206,
     "metadata": {},
     "output_type": "execute_result"
    }
   ],
   "source": [
    "search_path('华府大道', '犀浦', station_connections, transfer_stations_first)[0]"
   ]
  },
  {
   "cell_type": "code",
   "execution_count": 207,
   "metadata": {
    "scrolled": true
   },
   "outputs": [
    {
     "data": {
      "text/plain": [
       "['双流西站',\n",
       " '三里坝',\n",
       " '双流广场',\n",
       " '东升',\n",
       " '迎春桥',\n",
       " '航都大街',\n",
       " '龙桥路',\n",
       " '双凤桥',\n",
       " '武青南路',\n",
       " '武侯立交',\n",
       " '川藏立交',\n",
       " '太平园',\n",
       " '红牌楼',\n",
       " '高升桥',\n",
       " '衣冠庙',\n",
       " '省体育馆',\n",
       " '华西坝',\n",
       " '锦江宾馆',\n",
       " '天府广场',\n",
       " '骡马市',\n",
       " '文殊院',\n",
       " '人民北路',\n",
       " '火车北站',\n",
       " '驷马桥',\n",
       " '昭觉寺南路',\n",
       " '动物园']"
      ]
     },
     "execution_count": 207,
     "metadata": {},
     "output_type": "execute_result"
    }
   ],
   "source": [
    "search_path('双流西站', '动物园', station_connections, transfer_stations_first)[0]"
   ]
  },
  {
   "cell_type": "code",
   "execution_count": 208,
   "metadata": {},
   "outputs": [
    {
     "data": {
      "text/plain": [
       "['双流西站',\n",
       " '三里坝',\n",
       " '双流广场',\n",
       " '东升',\n",
       " '迎春桥',\n",
       " '航都大街',\n",
       " '龙桥路',\n",
       " '双凤桥',\n",
       " '武青南路',\n",
       " '武侯立交',\n",
       " '川藏立交',\n",
       " '太平园',\n",
       " '高朋大道',\n",
       " '神仙树',\n",
       " '火车南站',\n",
       " '三瓦窑',\n",
       " '琉璃场',\n",
       " '四川师大',\n",
       " '狮子山',\n",
       " '大观',\n",
       " '成都东客站',\n",
       " '成渝立交',\n",
       " '惠王陵',\n",
       " '洪河']"
      ]
     },
     "execution_count": 208,
     "metadata": {},
     "output_type": "execute_result"
    }
   ],
   "source": [
    "search_path('双流西站', '洪河', station_connections, transfer_stations_first)[0]"
   ]
  },
  {
   "cell_type": "markdown",
   "metadata": {},
   "source": [
    "## （Optional）Create different policies for transfer system.\n"
   ]
  },
  {
   "cell_type": "markdown",
   "metadata": {},
   "source": [
    "以下部门为可选部分，请酌情完成。 并不要求全部同学完成。"
   ]
  },
  {
   "cell_type": "markdown",
   "metadata": {},
   "source": [
    "As much as you can to use the already implemented search agent. You just need to define the **is_goal()**, **get_successor()**, **strategy()** three functions. \n",
    "\n",
    "> a.\tDefine different policies for transfer system. \n",
    "\n",
    "> b.\tSuch as Shortest Path Priority（路程最短优先）, Minimum Transfer Priority(最少换乘优先), Comprehensive Priority(综合优先)\n",
    "\n",
    "> c.\tImplement Continuous transfer. Based on the Agent you implemented, please add this feature: Besides the @param start and @param destination two stations, add some more stations, we called @param by_way, it means, our path should from the start and end, but also include the  @param by_way stations. \n",
    "\n",
    "e.g \n",
    "```\n",
    "1. Input:  start=A,  destination=B, by_way=[C] \n",
    "    Output: [A, … .., C, …. B]\n",
    "2. Input: start=A, destination=B, by_way=[C, D, E]\n",
    "    Output: [A … C … E … D … B]  \n",
    "    # based on your policy, the E station could be reached firstly. \n",
    "![image.png](attachment:image.png)\n",
    "```"
   ]
  },
  {
   "cell_type": "markdown",
   "metadata": {},
   "source": [
    "##### 5.\tTest your result with commercial applications. \n",
    "\n",
    "将你的结果和高德地图或者百度地图进行比较，如果有不同，请分析原因\n"
   ]
  },
  {
   "cell_type": "markdown",
   "metadata": {},
   "source": [
    "恭喜，完成本次课程，你对常用的人工智能方法以及有一定的了解了。基于规则的，基于概率模型的，基于搜索的，基于机器学习的。 可以说，我们现在通常见到的方法都能够归属到这几类方法中。 这就是**人工智能**，并没有很难是吧？ 继续加油！"
   ]
  },
  {
   "cell_type": "markdown",
   "metadata": {},
   "source": [
    "![](https://timgsa.baidu.com/timg?image&quality=80&size=b9999_10000&sec=1562415163815&di=4b29a2a863a8285212033760f288ed7a&imgtype=0&src=http%3A%2F%2F5b0988e595225.cdn.sohucs.com%2Fimages%2F20180710%2F8704194a1d7f46a383ddc29d40c9bca5.jpeg)"
   ]
  }
 ],
 "metadata": {
  "kernelspec": {
   "display_name": "Python [default]",
   "language": "python",
   "name": "python3"
  },
  "language_info": {
   "codemirror_mode": {
    "name": "ipython",
    "version": 3
   },
   "file_extension": ".py",
   "mimetype": "text/x-python",
   "name": "python",
   "nbconvert_exporter": "python",
   "pygments_lexer": "ipython3",
   "version": "3.6.5"
  }
 },
 "nbformat": 4,
 "nbformat_minor": 2
}
