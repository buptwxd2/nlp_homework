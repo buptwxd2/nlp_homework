{
 "cells": [
  {
   "cell_type": "markdown",
   "metadata": {},
   "source": [
    "## Lecture-03 Gradient Descent and Dymanic Programming"
   ]
  },
  {
   "cell_type": "markdown",
   "metadata": {},
   "source": [
    "In this week, we need complete following tasks:\n",
    "+ Re-review the course online programming; \n",
    "+ Choose 1 - 2 books which you interested and keep reading; \n",
    "+ Answer the review questions\n",
    "+ Prepare the basic requirement of our 1st project. "
   ]
  },
  {
   "cell_type": "markdown",
   "metadata": {},
   "source": [
    "### Part I Review the online programming. "
   ]
  },
  {
   "cell_type": "markdown",
   "metadata": {},
   "source": [
    "#### Dynamic Programming "
   ]
  },
  {
   "cell_type": "code",
   "execution_count": 3,
   "metadata": {},
   "outputs": [],
   "source": [
    "original_price = [1, 5, 8, 9, 10, 17, 17, 20, 24, 30]"
   ]
  },
  {
   "cell_type": "code",
   "execution_count": 4,
   "metadata": {},
   "outputs": [
    {
     "data": {
      "text/plain": [
       "10"
      ]
     },
     "execution_count": 4,
     "metadata": {},
     "output_type": "execute_result"
    }
   ],
   "source": [
    "len(original_price)"
   ]
  },
  {
   "cell_type": "code",
   "execution_count": 5,
   "metadata": {},
   "outputs": [],
   "source": [
    "from collections import defaultdict\n",
    "price = defaultdict(int)"
   ]
  },
  {
   "cell_type": "code",
   "execution_count": 6,
   "metadata": {},
   "outputs": [],
   "source": [
    "for i, p in enumerate(original_price):\n",
    "    price[i+1] = p"
   ]
  },
  {
   "cell_type": "code",
   "execution_count": 7,
   "metadata": {},
   "outputs": [
    {
     "data": {
      "text/plain": [
       "defaultdict(int,\n",
       "            {1: 1,\n",
       "             2: 5,\n",
       "             3: 8,\n",
       "             4: 9,\n",
       "             5: 10,\n",
       "             6: 17,\n",
       "             7: 17,\n",
       "             8: 20,\n",
       "             9: 24,\n",
       "             10: 30})"
      ]
     },
     "execution_count": 7,
     "metadata": {},
     "output_type": "execute_result"
    }
   ],
   "source": [
    "price"
   ]
  },
  {
   "cell_type": "markdown",
   "metadata": {},
   "source": [
    "#### Get the splitting to maximize the price"
   ]
  },
  {
   "cell_type": "code",
   "execution_count": 11,
   "metadata": {
    "scrolled": true
   },
   "outputs": [],
   "source": [
    "call_time_with_arg = defaultdict(int)"
   ]
  },
  {
   "cell_type": "code",
   "execution_count": 12,
   "metadata": {},
   "outputs": [],
   "source": [
    "def r(n):\n",
    "    \"\"\"\n",
    "    Args: n is the iron length\n",
    "    Return: the max revenue \n",
    "    \"\"\"\n",
    "    \n",
    "#     fname = r.__name__\n",
    "#     call_time_with_arg[(fname, n)] += 1\n",
    "    \n",
    "    return max(\n",
    "        [price[n]] + [r(i) + r(n-i) for i in range(1, n)]\n",
    "    )"
   ]
  },
  {
   "cell_type": "code",
   "execution_count": 13,
   "metadata": {},
   "outputs": [
    {
     "data": {
      "text/plain": [
       "43"
      ]
     },
     "execution_count": 13,
     "metadata": {},
     "output_type": "execute_result"
    }
   ],
   "source": [
    "r(15)"
   ]
  },
  {
   "cell_type": "code",
   "execution_count": 15,
   "metadata": {},
   "outputs": [
    {
     "data": {
      "text/plain": [
       "[(('r', 1), 3188646),\n",
       " (('r', 2), 1062882),\n",
       " (('r', 3), 354294),\n",
       " (('r', 4), 118098),\n",
       " (('r', 5), 39366),\n",
       " (('r', 6), 13122),\n",
       " (('r', 7), 4374),\n",
       " (('r', 8), 1458),\n",
       " (('r', 9), 486),\n",
       " (('r', 10), 162),\n",
       " (('r', 11), 54),\n",
       " (('r', 12), 18),\n",
       " (('r', 13), 6),\n",
       " (('r', 14), 2),\n",
       " (('r', 15), 1)]"
      ]
     },
     "execution_count": 15,
     "metadata": {},
     "output_type": "execute_result"
    }
   ],
   "source": [
    "from collections import Counter\n",
    "Counter(call_time_with_arg).most_common()"
   ]
  },
  {
   "cell_type": "code",
   "execution_count": 27,
   "metadata": {},
   "outputs": [
    {
     "data": {
      "text/plain": [
       "30"
      ]
     },
     "execution_count": 27,
     "metadata": {},
     "output_type": "execute_result"
    }
   ],
   "source": [
    "r(10)"
   ]
  },
  {
   "cell_type": "code",
   "execution_count": 33,
   "metadata": {},
   "outputs": [
    {
     "data": {
      "text/plain": [
       "43"
      ]
     },
     "execution_count": 33,
     "metadata": {},
     "output_type": "execute_result"
    }
   ],
   "source": [
    "r(15)"
   ]
  },
  {
   "cell_type": "code",
   "execution_count": 38,
   "metadata": {
    "scrolled": true
   },
   "outputs": [
    {
     "data": {
      "text/plain": [
       "43"
      ]
     },
     "execution_count": 38,
     "metadata": {},
     "output_type": "execute_result"
    }
   ],
   "source": [
    "r(15)"
   ]
  },
  {
   "cell_type": "code",
   "execution_count": 79,
   "metadata": {},
   "outputs": [],
   "source": [
    "called_time_with_arg = defaultdict(int)  # initialize to zero"
   ]
  },
  {
   "cell_type": "code",
   "execution_count": 75,
   "metadata": {},
   "outputs": [],
   "source": [
    "# import decorator to count the function called times\n",
    "\n",
    "def count_func_called_times(func):\n",
    "    \n",
    "    def wrapper(n):\n",
    "        # This is the function after wrapped; Here only decorating it with count ability\n",
    "        result = func(n)\n",
    "        called_time_with_arg[(func.__name__, n)] += 1\n",
    "        return result\n",
    "    \n",
    "    return wrapper"
   ]
  },
  {
   "cell_type": "code",
   "execution_count": 76,
   "metadata": {},
   "outputs": [],
   "source": [
    "@count_func_called_times\n",
    "def r(n):\n",
    "    \"\"\"\n",
    "    Args: n is the iron length\n",
    "    Return: the max revenue \n",
    "    \"\"\"\n",
    "    \n",
    "    return max(\n",
    "        [price[n]] + [r(i) + r(n-i) for i in range(1, n)]\n",
    "    )"
   ]
  },
  {
   "cell_type": "code",
   "execution_count": 77,
   "metadata": {},
   "outputs": [
    {
     "data": {
      "text/plain": [
       "43"
      ]
     },
     "execution_count": 77,
     "metadata": {},
     "output_type": "execute_result"
    }
   ],
   "source": [
    "r(15)"
   ]
  },
  {
   "cell_type": "code",
   "execution_count": 78,
   "metadata": {
    "scrolled": true
   },
   "outputs": [
    {
     "data": {
      "text/plain": [
       "defaultdict(int,\n",
       "            {('r', 1): 3188646,\n",
       "             ('r', 2): 1062882,\n",
       "             ('r', 3): 354294,\n",
       "             ('r', 4): 118098,\n",
       "             ('r', 5): 39366,\n",
       "             ('r', 6): 13122,\n",
       "             ('r', 7): 4374,\n",
       "             ('r', 8): 1458,\n",
       "             ('r', 9): 486,\n",
       "             ('r', 10): 162,\n",
       "             ('r', 11): 54,\n",
       "             ('r', 12): 18,\n",
       "             ('r', 13): 6,\n",
       "             ('r', 14): 2,\n",
       "             ('r', 15): 1})"
      ]
     },
     "execution_count": 78,
     "metadata": {},
     "output_type": "execute_result"
    }
   ],
   "source": [
    "called_time_with_arg"
   ]
  },
  {
   "cell_type": "code",
   "execution_count": 71,
   "metadata": {
    "scrolled": true
   },
   "outputs": [
    {
     "data": {
      "text/plain": [
       "<function __main__.count_func_called_times.<locals>.wrapper(n)>"
      ]
     },
     "execution_count": 71,
     "metadata": {},
     "output_type": "execute_result"
    }
   ],
   "source": [
    "r"
   ]
  },
  {
   "cell_type": "code",
   "execution_count": 81,
   "metadata": {},
   "outputs": [],
   "source": [
    "# add another decorator to try cache first to save time\n",
    "\n",
    "def use_cache(func):\n",
    "    \n",
    "    use_cache.already_computed = {}\n",
    "    \n",
    "    def wrapper(n):\n",
    "        if n in use_cache.already_computed:\n",
    "            result = use_cache.already_computed[n]\n",
    "        else:\n",
    "            result = func(n)\n",
    "            use_cache.already_computed[n] = result\n",
    "    \n",
    "        return result\n",
    "    \n",
    "    return wrapper\n",
    "    "
   ]
  },
  {
   "cell_type": "code",
   "execution_count": 82,
   "metadata": {},
   "outputs": [],
   "source": [
    "@count_func_called_times\n",
    "@use_cache\n",
    "def r(n):\n",
    "    \"\"\"\n",
    "    Args: n is the iron length\n",
    "    Return: the max revenue \n",
    "    \"\"\"\n",
    "    \n",
    "    return max(\n",
    "        [price[n]] + [r(i) + r(n-i) for i in range(1, n)]\n",
    "    )"
   ]
  },
  {
   "cell_type": "code",
   "execution_count": 87,
   "metadata": {},
   "outputs": [
    {
     "data": {
      "text/plain": [
       "700"
      ]
     },
     "execution_count": 87,
     "metadata": {},
     "output_type": "execute_result"
    }
   ],
   "source": [
    "r(234)"
   ]
  },
  {
   "cell_type": "code",
   "execution_count": 88,
   "metadata": {},
   "outputs": [
    {
     "data": {
      "text/plain": [
       "defaultdict(int,\n",
       "            {('wrapper', 1): 466,\n",
       "             ('wrapper', 2): 464,\n",
       "             ('wrapper', 3): 462,\n",
       "             ('wrapper', 4): 460,\n",
       "             ('wrapper', 5): 458,\n",
       "             ('wrapper', 6): 456,\n",
       "             ('wrapper', 7): 454,\n",
       "             ('wrapper', 8): 452,\n",
       "             ('wrapper', 9): 450,\n",
       "             ('wrapper', 10): 449,\n",
       "             ('wrapper', 11): 446,\n",
       "             ('wrapper', 12): 444,\n",
       "             ('wrapper', 13): 442,\n",
       "             ('wrapper', 14): 440,\n",
       "             ('wrapper', 15): 438,\n",
       "             ('wrapper', 16): 436,\n",
       "             ('wrapper', 17): 434,\n",
       "             ('wrapper', 18): 432,\n",
       "             ('wrapper', 19): 430,\n",
       "             ('wrapper', 20): 429,\n",
       "             ('wrapper', 21): 426,\n",
       "             ('wrapper', 22): 424,\n",
       "             ('wrapper', 23): 422,\n",
       "             ('wrapper', 24): 420,\n",
       "             ('wrapper', 25): 418,\n",
       "             ('wrapper', 26): 416,\n",
       "             ('wrapper', 27): 414,\n",
       "             ('wrapper', 28): 412,\n",
       "             ('wrapper', 29): 410,\n",
       "             ('wrapper', 30): 408,\n",
       "             ('wrapper', 31): 406,\n",
       "             ('wrapper', 32): 404,\n",
       "             ('wrapper', 33): 402,\n",
       "             ('wrapper', 34): 400,\n",
       "             ('wrapper', 35): 398,\n",
       "             ('wrapper', 36): 396,\n",
       "             ('wrapper', 37): 394,\n",
       "             ('wrapper', 38): 392,\n",
       "             ('wrapper', 39): 390,\n",
       "             ('wrapper', 40): 388,\n",
       "             ('wrapper', 41): 386,\n",
       "             ('wrapper', 42): 384,\n",
       "             ('wrapper', 43): 382,\n",
       "             ('wrapper', 44): 380,\n",
       "             ('wrapper', 45): 378,\n",
       "             ('wrapper', 46): 376,\n",
       "             ('wrapper', 47): 374,\n",
       "             ('wrapper', 48): 372,\n",
       "             ('wrapper', 49): 370,\n",
       "             ('wrapper', 50): 368,\n",
       "             ('wrapper', 51): 366,\n",
       "             ('wrapper', 52): 364,\n",
       "             ('wrapper', 53): 362,\n",
       "             ('wrapper', 54): 360,\n",
       "             ('wrapper', 55): 358,\n",
       "             ('wrapper', 56): 356,\n",
       "             ('wrapper', 57): 354,\n",
       "             ('wrapper', 58): 352,\n",
       "             ('wrapper', 59): 350,\n",
       "             ('wrapper', 60): 348,\n",
       "             ('wrapper', 61): 346,\n",
       "             ('wrapper', 62): 344,\n",
       "             ('wrapper', 63): 342,\n",
       "             ('wrapper', 64): 340,\n",
       "             ('wrapper', 65): 338,\n",
       "             ('wrapper', 66): 336,\n",
       "             ('wrapper', 67): 334,\n",
       "             ('wrapper', 68): 332,\n",
       "             ('wrapper', 69): 330,\n",
       "             ('wrapper', 70): 328,\n",
       "             ('wrapper', 71): 326,\n",
       "             ('wrapper', 72): 324,\n",
       "             ('wrapper', 73): 322,\n",
       "             ('wrapper', 74): 320,\n",
       "             ('wrapper', 75): 318,\n",
       "             ('wrapper', 76): 316,\n",
       "             ('wrapper', 77): 314,\n",
       "             ('wrapper', 78): 312,\n",
       "             ('wrapper', 79): 310,\n",
       "             ('wrapper', 80): 308,\n",
       "             ('wrapper', 81): 306,\n",
       "             ('wrapper', 82): 304,\n",
       "             ('wrapper', 83): 302,\n",
       "             ('wrapper', 84): 300,\n",
       "             ('wrapper', 85): 298,\n",
       "             ('wrapper', 86): 296,\n",
       "             ('wrapper', 87): 294,\n",
       "             ('wrapper', 88): 292,\n",
       "             ('wrapper', 89): 290,\n",
       "             ('wrapper', 90): 288,\n",
       "             ('wrapper', 91): 286,\n",
       "             ('wrapper', 92): 284,\n",
       "             ('wrapper', 93): 282,\n",
       "             ('wrapper', 94): 280,\n",
       "             ('wrapper', 95): 278,\n",
       "             ('wrapper', 96): 276,\n",
       "             ('wrapper', 97): 274,\n",
       "             ('wrapper', 98): 272,\n",
       "             ('wrapper', 99): 270,\n",
       "             ('wrapper', 100): 268,\n",
       "             ('wrapper', 101): 266,\n",
       "             ('wrapper', 102): 264,\n",
       "             ('wrapper', 103): 262,\n",
       "             ('wrapper', 104): 260,\n",
       "             ('wrapper', 105): 258,\n",
       "             ('wrapper', 106): 256,\n",
       "             ('wrapper', 107): 254,\n",
       "             ('wrapper', 108): 252,\n",
       "             ('wrapper', 109): 250,\n",
       "             ('wrapper', 110): 248,\n",
       "             ('wrapper', 111): 246,\n",
       "             ('wrapper', 112): 244,\n",
       "             ('wrapper', 113): 242,\n",
       "             ('wrapper', 114): 240,\n",
       "             ('wrapper', 115): 238,\n",
       "             ('wrapper', 116): 236,\n",
       "             ('wrapper', 117): 234,\n",
       "             ('wrapper', 118): 232,\n",
       "             ('wrapper', 119): 230,\n",
       "             ('wrapper', 120): 228,\n",
       "             ('wrapper', 121): 226,\n",
       "             ('wrapper', 122): 224,\n",
       "             ('wrapper', 123): 222,\n",
       "             ('wrapper', 124): 220,\n",
       "             ('wrapper', 125): 218,\n",
       "             ('wrapper', 126): 216,\n",
       "             ('wrapper', 127): 214,\n",
       "             ('wrapper', 128): 212,\n",
       "             ('wrapper', 129): 210,\n",
       "             ('wrapper', 130): 208,\n",
       "             ('wrapper', 131): 206,\n",
       "             ('wrapper', 132): 204,\n",
       "             ('wrapper', 133): 202,\n",
       "             ('wrapper', 134): 200,\n",
       "             ('wrapper', 135): 198,\n",
       "             ('wrapper', 136): 196,\n",
       "             ('wrapper', 137): 194,\n",
       "             ('wrapper', 138): 192,\n",
       "             ('wrapper', 139): 190,\n",
       "             ('wrapper', 140): 188,\n",
       "             ('wrapper', 141): 186,\n",
       "             ('wrapper', 142): 184,\n",
       "             ('wrapper', 143): 182,\n",
       "             ('wrapper', 144): 180,\n",
       "             ('wrapper', 145): 178,\n",
       "             ('wrapper', 146): 176,\n",
       "             ('wrapper', 147): 174,\n",
       "             ('wrapper', 148): 172,\n",
       "             ('wrapper', 149): 170,\n",
       "             ('wrapper', 150): 168,\n",
       "             ('wrapper', 151): 166,\n",
       "             ('wrapper', 152): 164,\n",
       "             ('wrapper', 153): 162,\n",
       "             ('wrapper', 154): 160,\n",
       "             ('wrapper', 155): 158,\n",
       "             ('wrapper', 156): 156,\n",
       "             ('wrapper', 157): 154,\n",
       "             ('wrapper', 158): 152,\n",
       "             ('wrapper', 159): 150,\n",
       "             ('wrapper', 160): 148,\n",
       "             ('wrapper', 161): 146,\n",
       "             ('wrapper', 162): 144,\n",
       "             ('wrapper', 163): 142,\n",
       "             ('wrapper', 164): 140,\n",
       "             ('wrapper', 165): 138,\n",
       "             ('wrapper', 166): 136,\n",
       "             ('wrapper', 167): 134,\n",
       "             ('wrapper', 168): 132,\n",
       "             ('wrapper', 169): 130,\n",
       "             ('wrapper', 170): 128,\n",
       "             ('wrapper', 171): 126,\n",
       "             ('wrapper', 172): 124,\n",
       "             ('wrapper', 173): 122,\n",
       "             ('wrapper', 174): 120,\n",
       "             ('wrapper', 175): 118,\n",
       "             ('wrapper', 176): 116,\n",
       "             ('wrapper', 177): 114,\n",
       "             ('wrapper', 178): 112,\n",
       "             ('wrapper', 179): 110,\n",
       "             ('wrapper', 180): 108,\n",
       "             ('wrapper', 181): 106,\n",
       "             ('wrapper', 182): 104,\n",
       "             ('wrapper', 183): 102,\n",
       "             ('wrapper', 184): 100,\n",
       "             ('wrapper', 185): 98,\n",
       "             ('wrapper', 186): 96,\n",
       "             ('wrapper', 187): 94,\n",
       "             ('wrapper', 188): 92,\n",
       "             ('wrapper', 189): 90,\n",
       "             ('wrapper', 190): 88,\n",
       "             ('wrapper', 191): 86,\n",
       "             ('wrapper', 192): 84,\n",
       "             ('wrapper', 193): 82,\n",
       "             ('wrapper', 194): 80,\n",
       "             ('wrapper', 195): 78,\n",
       "             ('wrapper', 196): 76,\n",
       "             ('wrapper', 197): 74,\n",
       "             ('wrapper', 198): 72,\n",
       "             ('wrapper', 199): 70,\n",
       "             ('wrapper', 200): 68,\n",
       "             ('wrapper', 201): 66,\n",
       "             ('wrapper', 202): 64,\n",
       "             ('wrapper', 203): 62,\n",
       "             ('wrapper', 204): 60,\n",
       "             ('wrapper', 205): 58,\n",
       "             ('wrapper', 206): 56,\n",
       "             ('wrapper', 207): 54,\n",
       "             ('wrapper', 208): 52,\n",
       "             ('wrapper', 209): 50,\n",
       "             ('wrapper', 210): 48,\n",
       "             ('wrapper', 211): 46,\n",
       "             ('wrapper', 212): 44,\n",
       "             ('wrapper', 213): 42,\n",
       "             ('wrapper', 214): 40,\n",
       "             ('wrapper', 215): 38,\n",
       "             ('wrapper', 216): 36,\n",
       "             ('wrapper', 217): 34,\n",
       "             ('wrapper', 218): 32,\n",
       "             ('wrapper', 219): 30,\n",
       "             ('wrapper', 220): 28,\n",
       "             ('wrapper', 221): 26,\n",
       "             ('wrapper', 222): 24,\n",
       "             ('wrapper', 223): 22,\n",
       "             ('wrapper', 224): 20,\n",
       "             ('wrapper', 225): 18,\n",
       "             ('wrapper', 226): 16,\n",
       "             ('wrapper', 227): 14,\n",
       "             ('wrapper', 228): 12,\n",
       "             ('wrapper', 229): 10,\n",
       "             ('wrapper', 230): 8,\n",
       "             ('wrapper', 231): 6,\n",
       "             ('wrapper', 232): 4,\n",
       "             ('wrapper', 233): 2,\n",
       "             ('wrapper', 234): 1})"
      ]
     },
     "execution_count": 88,
     "metadata": {},
     "output_type": "execute_result"
    }
   ],
   "source": [
    "called_time_with_arg"
   ]
  },
  {
   "cell_type": "markdown",
   "metadata": {},
   "source": [
    "#### Suppot optimal split"
   ]
  },
  {
   "cell_type": "code",
   "execution_count": 94,
   "metadata": {},
   "outputs": [],
   "source": [
    "solution = {}"
   ]
  },
  {
   "cell_type": "code",
   "execution_count": 95,
   "metadata": {},
   "outputs": [],
   "source": [
    "@count_func_called_times\n",
    "@use_cache\n",
    "def r(n):\n",
    "    \"\"\"\n",
    "    Args: n is the iron length\n",
    "    Return: the max revenue \n",
    "    \"\"\"\n",
    "    \n",
    "    max_price, max_split = max(\n",
    "        [(price[n], 0)] + [(r(i) + r(n-i), i) for i in range(1, n)], key=lambda x: x[0]\n",
    "    )\n",
    "    \n",
    "    solution[n] = (n - max_split, max_split)\n",
    "    \n",
    "    return max_price"
   ]
  },
  {
   "cell_type": "code",
   "execution_count": 98,
   "metadata": {},
   "outputs": [
    {
     "data": {
      "text/plain": [
       "112"
      ]
     },
     "execution_count": 98,
     "metadata": {},
     "output_type": "execute_result"
    }
   ],
   "source": [
    "r(38)"
   ]
  },
  {
   "cell_type": "code",
   "execution_count": 99,
   "metadata": {},
   "outputs": [
    {
     "data": {
      "text/plain": [
       "{1: (1, 0),\n",
       " 2: (2, 0),\n",
       " 3: (3, 0),\n",
       " 4: (2, 2),\n",
       " 5: (3, 2),\n",
       " 6: (6, 0),\n",
       " 7: (6, 1),\n",
       " 8: (6, 2),\n",
       " 9: (6, 3),\n",
       " 10: (10, 0),\n",
       " 11: (10, 1),\n",
       " 12: (10, 2),\n",
       " 13: (10, 3),\n",
       " 14: (12, 2),\n",
       " 15: (13, 2),\n",
       " 16: (10, 6),\n",
       " 17: (16, 1),\n",
       " 18: (16, 2),\n",
       " 19: (16, 3),\n",
       " 20: (10, 10),\n",
       " 21: (20, 1),\n",
       " 22: (20, 2),\n",
       " 23: (20, 3),\n",
       " 24: (22, 2),\n",
       " 25: (23, 2),\n",
       " 26: (20, 6),\n",
       " 27: (26, 1),\n",
       " 28: (26, 2),\n",
       " 29: (26, 3),\n",
       " 30: (20, 10),\n",
       " 31: (30, 1),\n",
       " 32: (30, 2),\n",
       " 33: (30, 3),\n",
       " 34: (32, 2),\n",
       " 35: (33, 2),\n",
       " 36: (30, 6),\n",
       " 37: (36, 1),\n",
       " 38: (36, 2)}"
      ]
     },
     "execution_count": 99,
     "metadata": {},
     "output_type": "execute_result"
    }
   ],
   "source": [
    "solution"
   ]
  },
  {
   "cell_type": "code",
   "execution_count": 111,
   "metadata": {},
   "outputs": [],
   "source": [
    "parse_solution = 2"
   ]
  },
  {
   "cell_type": "code",
   "execution_count": 120,
   "metadata": {},
   "outputs": [],
   "source": [
    "def parse_solution(n):\n",
    "    left_split, right_split = solution[n]\n",
    "    \n",
    "    if right_split == 0: return [left_split]\n",
    "    \n",
    "    return parse_solution(left_split) + parse_solution(right_split)"
   ]
  },
  {
   "cell_type": "code",
   "execution_count": 123,
   "metadata": {
    "scrolled": true
   },
   "outputs": [
    {
     "data": {
      "text/plain": [
       "[10, 10, 10, 6, 2]"
      ]
     },
     "execution_count": 123,
     "metadata": {},
     "output_type": "execute_result"
    }
   ],
   "source": [
    "parse_solution(38)"
   ]
  },
  {
   "cell_type": "markdown",
   "metadata": {},
   "source": [
    "#### Machine Learning and Gradient Descent"
   ]
  },
  {
   "cell_type": "code",
   "execution_count": 124,
   "metadata": {},
   "outputs": [],
   "source": [
    "from sklearn.datasets import load_boston"
   ]
  },
  {
   "cell_type": "code",
   "execution_count": 152,
   "metadata": {},
   "outputs": [],
   "source": [
    "data = load_boston()"
   ]
  },
  {
   "cell_type": "code",
   "execution_count": null,
   "metadata": {},
   "outputs": [],
   "source": [
    "data = load_boston"
   ]
  },
  {
   "cell_type": "code",
   "execution_count": 132,
   "metadata": {},
   "outputs": [],
   "source": [
    "X, Y = data['data'], data['target']"
   ]
  },
  {
   "cell_type": "code",
   "execution_count": 134,
   "metadata": {},
   "outputs": [
    {
     "data": {
      "text/plain": [
       "(506, 13)"
      ]
     },
     "execution_count": 134,
     "metadata": {},
     "output_type": "execute_result"
    }
   ],
   "source": [
    "X.shape"
   ]
  },
  {
   "cell_type": "code",
   "execution_count": 135,
   "metadata": {},
   "outputs": [
    {
     "data": {
      "text/plain": [
       "(506,)"
      ]
     },
     "execution_count": 135,
     "metadata": {},
     "output_type": "execute_result"
    }
   ],
   "source": [
    "Y.shape"
   ]
  },
  {
   "cell_type": "code",
   "execution_count": 139,
   "metadata": {},
   "outputs": [
    {
     "data": {
      "text/plain": [
       "numpy.ndarray"
      ]
     },
     "execution_count": 139,
     "metadata": {},
     "output_type": "execute_result"
    }
   ],
   "source": [
    "type(X)"
   ]
  },
  {
   "cell_type": "code",
   "execution_count": 150,
   "metadata": {},
   "outputs": [],
   "source": [
    "X?"
   ]
  },
  {
   "cell_type": "code",
   "execution_count": 153,
   "metadata": {},
   "outputs": [],
   "source": [
    "%matplotlib inline\n",
    "import matplotlib.pyplot as plt\n",
    "def draw_rm_and_price():\n",
    "    plt.scatter(X[:, 5], y)"
   ]
  },
  {
   "cell_type": "code",
   "execution_count": 154,
   "metadata": {},
   "outputs": [
    {
     "data": {
      "image/png": "[encoded data removed]",
      "text/plain": [
       "<Figure size 432x288 with 1 Axes>"
      ]
     },
     "metadata": {},
     "output_type": "display_data"
    }
   ],
   "source": [
    "draw_rm_and_price()"
   ]
  },
  {
   "cell_type": "code",
   "execution_count": null,
   "metadata": {},
   "outputs": [],
   "source": []
  },
  {
   "cell_type": "code",
   "execution_count": null,
   "metadata": {},
   "outputs": [],
   "source": []
  },
  {
   "cell_type": "code",
   "execution_count": null,
   "metadata": {},
   "outputs": [],
   "source": []
  },
  {
   "cell_type": "code",
   "execution_count": null,
   "metadata": {},
   "outputs": [],
   "source": []
  },
  {
   "cell_type": "code",
   "execution_count": null,
   "metadata": {},
   "outputs": [],
   "source": []
  },
  {
   "cell_type": "markdown",
   "metadata": {},
   "source": [
    "### Part 2: change loss function from $loss = \\frac{1}{n}\\sum{(y_i - \\hat(y_i))^2}$ to $loss = \\frac{1}{n}\\sum{|y_i - \\hat{y_i}|}$, and using your mathmatical knowledge to get the right partial formual. Implemen the gradient descent code."
   ]
  },
  {
   "cell_type": "code",
   "execution_count": 162,
   "metadata": {},
   "outputs": [],
   "source": [
    "def loss(Y, Y_hat):\n",
    "    return sum(abs( Y - Y_hat)) / len(Y)"
   ]
  },
  {
   "cell_type": "code",
   "execution_count": 160,
   "metadata": {},
   "outputs": [],
   "source": [
    "# Calcualte the gradient of loss function\n",
    "def partial_k(Y, Y_hat):\n",
    "    # when y > y_hat, derivative to y_hat is -1\n",
    "    # when y < y_hat, derivative to y_hat is 1\n",
    "    # when y == y_hat, math derivative does not exist, here we specify it as zero\n",
    "    "
   ]
  },
  {
   "cell_type": "code",
   "execution_count": null,
   "metadata": {},
   "outputs": [],
   "source": []
  },
  {
   "cell_type": "markdown",
   "metadata": {},
   "source": [
    "### Part 3: Finish the Solution Parse Part of Edit-Distance"
   ]
  },
  {
   "cell_type": "markdown",
   "metadata": {},
   "source": [
    "### Part 4 Choose 1 - 2 books to keep reading: \n",
    "\n",
    "+ SICP, Structure and Interpretation of Computer Programming. \n",
    "+ Introduction to Algorithms \n",
    "+ Artificial Intelligence A Modern Approach (3rd Edition) \n",
    "+ Code Complete 2 \n",
    "+ Programming Pearls \n",
    "+ Deep Learning\n",
    "+ 黑客与画家\n",
    "+ 数学之美\n",
    "+ Fluent Python\n",
    "+ Hands on Tensorflow\n",
    "+ Conference: NIPS_ ICML_ ICLR_ ACL_ AAAI\n",
    "\n",
    "> most books you may find in our github: https://github.com/Computing-Intelligence/References"
   ]
  },
  {
   "cell_type": "markdown",
   "metadata": {},
   "source": [
    "## Part 5-1: review machine learning"
   ]
  },
  {
   "cell_type": "markdown",
   "metadata": {},
   "source": [
    "1. Why do we use Derivative / Gredient to fit a target function?¶"
   ]
  },
  {
   "cell_type": "markdown",
   "metadata": {},
   "source": [
    "Ans:"
   ]
  },
  {
   "cell_type": "markdown",
   "metadata": {},
   "source": [
    "2. In the words 'Gredient Descent', what's the Gredient and what's the Descent?¶"
   ]
  },
  {
   "cell_type": "markdown",
   "metadata": {},
   "source": [
    "Ans:"
   ]
  },
  {
   "cell_type": "markdown",
   "metadata": {},
   "source": [
    "\n",
    "3. What's the advantages of the 3rd gradient descent method compared to the previous methods?"
   ]
  },
  {
   "cell_type": "markdown",
   "metadata": {},
   "source": [
    "Ans:"
   ]
  },
  {
   "cell_type": "markdown",
   "metadata": {},
   "source": [
    "4. Using the simple words to describe: What's the machine leanring.¶"
   ]
  },
  {
   "cell_type": "markdown",
   "metadata": {},
   "source": [
    "Ans:"
   ]
  },
  {
   "cell_type": "markdown",
   "metadata": {},
   "source": [
    "### Part 5: Answer following questions: "
   ]
  },
  {
   "cell_type": "markdown",
   "metadata": {},
   "source": [
    "1. Why do we need dynamic programming? What's the difference of dynamic programming and previous talked `search` problme? "
   ]
  },
  {
   "cell_type": "markdown",
   "metadata": {},
   "source": [
    "2. Why do we still need dynamic programming? Why not we train a machine learning to fit a function which could get the `right` answer based on inputs?"
   ]
  },
  {
   "cell_type": "markdown",
   "metadata": {},
   "source": [
    "3. Can you catch up at least 3 problems which could solved by Dynamic Programming? "
   ]
  },
  {
   "cell_type": "markdown",
   "metadata": {},
   "source": [
    "4. Can you catch up at least 3 problems wich could sloved by Edit Distance? "
   ]
  },
  {
   "cell_type": "markdown",
   "metadata": {},
   "source": [
    "5. Please summarize the three main features of Dynamic Programming, and make a concise explain for each feature. "
   ]
  },
  {
   "cell_type": "markdown",
   "metadata": {},
   "source": [
    "6. What's the disadvantages of Dynamic Programming? (You may need search by yourself in Internet)"
   ]
  },
  {
   "cell_type": "markdown",
   "metadata": {},
   "source": [
    "## Part 6 Preparation of Project-01"
   ]
  },
  {
   "cell_type": "markdown",
   "metadata": {},
   "source": [
    "1. Using python Flask or Bottle to finish your first simple web app:\n",
    "> https://bottlepy.org/\n",
    "\n",
    "2. Learn what's the SQL, and try some simple SQL operations:\n",
    "> https://www.w3schools.com/sql/sql_intro.asp\n",
    "\n",
    "3. Learn what's the HTML ( *ONLY* need to know the basic things)\n",
    "> https://getbootstrap.com/; https://www.w3schools.com/html/"
   ]
  },
  {
   "cell_type": "markdown",
   "metadata": {},
   "source": [
    "### (Optinal) Finish the k-person-salesman problem:"
   ]
  },
  {
   "cell_type": "code",
   "execution_count": 7,
   "metadata": {},
   "outputs": [],
   "source": [
    "import random\n",
    "import matplotlib.pylab as plt"
   ]
  },
  {
   "cell_type": "code",
   "execution_count": 8,
   "metadata": {},
   "outputs": [],
   "source": [
    "latitudes = [random.randint(-100, 100) for _ in range(20)]\n",
    "longitude = [random.randint(-100, 100) for _ in range(20)]"
   ]
  },
  {
   "cell_type": "code",
   "execution_count": 9,
   "metadata": {},
   "outputs": [
    {
     "data": {
      "text/plain": [
       "<matplotlib.collections.PathCollection at 0x11da1c588>"
      ]
     },
     "execution_count": 9,
     "metadata": {},
     "output_type": "execute_result"
    },
    {
     "data": {
      "image/png": "[encoded data removed]",
      "text/plain": [
       "<Figure size 432x288 with 1 Axes>"
      ]
     },
     "metadata": {
      "needs_background": "light"
     },
     "output_type": "display_data"
    }
   ],
   "source": [
    "plt.scatter(latitudes, longitude)"
   ]
  },
  {
   "cell_type": "markdown",
   "metadata": {},
   "source": [
    "给定一个初始点 𝑃, 已经 𝑘个车辆，如何从该点出发，经这 k 个车辆经过所以的点全部一次，而且所走过的路程最短?\n",
    "\n",
    "例如："
   ]
  },
  {
   "cell_type": "code",
   "execution_count": 14,
   "metadata": {},
   "outputs": [],
   "source": [
    "chosen_p = (-50, 10)\n",
    "chosen_p2 = (1, 30)\n",
    "chosen_p3 = (99, 15)"
   ]
  },
  {
   "cell_type": "code",
   "execution_count": 4,
   "metadata": {},
   "outputs": [],
   "source": [
    "import matplotlib.pyplot as plt"
   ]
  },
  {
   "cell_type": "code",
   "execution_count": 15,
   "metadata": {
    "scrolled": true
   },
   "outputs": [
    {
     "data": {
      "text/plain": [
       "<matplotlib.collections.PathCollection at 0x11dbbd470>"
      ]
     },
     "execution_count": 15,
     "metadata": {},
     "output_type": "execute_result"
    },
    {
     "data": {
      "image/png": "[encoded data removed]",
      "text/plain": [
       "<Figure size 432x288 with 1 Axes>"
      ]
     },
     "metadata": {
      "needs_background": "light"
     },
     "output_type": "display_data"
    }
   ],
   "source": [
    "plt.scatter(latitudes, longitude)\n",
    "plt.scatter([chosen_p[0]], [chosen_p[1]], color='r')\n",
    "plt.scatter([chosen_p2[0]], [chosen_p2[1]], color='r')\n",
    "plt.scatter([chosen_p3[0]], [chosen_p3[1]], color='r')"
   ]
  },
  {
   "cell_type": "markdown",
   "metadata": {},
   "source": [
    "shuro"
   ]
  }
 ],
 "metadata": {
  "kernelspec": {
   "display_name": "Python [conda env:cs231n]",
   "language": "python",
   "name": "conda-env-cs231n-py"
  },
  "language_info": {
   "codemirror_mode": {
    "name": "ipython",
    "version": 3
   },
   "file_extension": ".py",
   "mimetype": "text/x-python",
   "name": "python",
   "nbconvert_exporter": "python",
   "pygments_lexer": "ipython3",
   "version": "3.6.5"
  }
 },
 "nbformat": 4,
 "nbformat_minor": 2
}
