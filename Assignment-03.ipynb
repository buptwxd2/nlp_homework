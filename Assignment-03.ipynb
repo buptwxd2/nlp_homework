{
 "cells": [
  {
   "cell_type": "markdown",
   "metadata": {},
   "source": [
    "## Lecture-03 Gradient Descent and Dymanic Programming"
   ]
  },
  {
   "cell_type": "markdown",
   "metadata": {},
   "source": [
    "In this week, we need complete following tasks:\n",
    "+ Re-review the course online programming; \n",
    "+ Choose 1 - 2 books which you interested and keep reading; \n",
    "+ Answer the review questions\n",
    "+ Prepare the basic requirement of our 1st project. "
   ]
  },
  {
   "cell_type": "markdown",
   "metadata": {},
   "source": [
    "### Part I Review the online programming. "
   ]
  },
  {
   "cell_type": "markdown",
   "metadata": {},
   "source": [
    "#### Dynamic Programming "
   ]
  },
  {
   "cell_type": "code",
   "execution_count": 3,
   "metadata": {},
   "outputs": [],
   "source": [
    "original_price = [1, 5, 8, 9, 10, 17, 17, 20, 24, 30]"
   ]
  },
  {
   "cell_type": "code",
   "execution_count": 4,
   "metadata": {},
   "outputs": [
    {
     "data": {
      "text/plain": [
       "10"
      ]
     },
     "execution_count": 4,
     "metadata": {},
     "output_type": "execute_result"
    }
   ],
   "source": [
    "len(original_price)"
   ]
  },
  {
   "cell_type": "code",
   "execution_count": 5,
   "metadata": {},
   "outputs": [],
   "source": [
    "from collections import defaultdict\n",
    "price = defaultdict(int)"
   ]
  },
  {
   "cell_type": "code",
   "execution_count": 6,
   "metadata": {},
   "outputs": [],
   "source": [
    "for i, p in enumerate(original_price):\n",
    "    price[i+1] = p"
   ]
  },
  {
   "cell_type": "code",
   "execution_count": 7,
   "metadata": {},
   "outputs": [
    {
     "data": {
      "text/plain": [
       "defaultdict(int,\n",
       "            {1: 1,\n",
       "             2: 5,\n",
       "             3: 8,\n",
       "             4: 9,\n",
       "             5: 10,\n",
       "             6: 17,\n",
       "             7: 17,\n",
       "             8: 20,\n",
       "             9: 24,\n",
       "             10: 30})"
      ]
     },
     "execution_count": 7,
     "metadata": {},
     "output_type": "execute_result"
    }
   ],
   "source": [
    "price"
   ]
  },
  {
   "cell_type": "markdown",
   "metadata": {},
   "source": [
    "#### Get the splitting to maximize the price"
   ]
  },
  {
   "cell_type": "code",
   "execution_count": 11,
   "metadata": {
    "scrolled": true
   },
   "outputs": [],
   "source": [
    "call_time_with_arg = defaultdict(int)"
   ]
  },
  {
   "cell_type": "code",
   "execution_count": 12,
   "metadata": {},
   "outputs": [],
   "source": [
    "def r(n):\n",
    "    \"\"\"\n",
    "    Args: n is the iron length\n",
    "    Return: the max revenue \n",
    "    \"\"\"\n",
    "    \n",
    "#     fname = r.__name__\n",
    "#     call_time_with_arg[(fname, n)] += 1\n",
    "    \n",
    "    return max(\n",
    "        [price[n]] + [r(i) + r(n-i) for i in range(1, n)]\n",
    "    )"
   ]
  },
  {
   "cell_type": "code",
   "execution_count": 13,
   "metadata": {},
   "outputs": [
    {
     "data": {
      "text/plain": [
       "43"
      ]
     },
     "execution_count": 13,
     "metadata": {},
     "output_type": "execute_result"
    }
   ],
   "source": [
    "r(15)"
   ]
  },
  {
   "cell_type": "code",
   "execution_count": 15,
   "metadata": {},
   "outputs": [
    {
     "data": {
      "text/plain": [
       "[(('r', 1), 3188646),\n",
       " (('r', 2), 1062882),\n",
       " (('r', 3), 354294),\n",
       " (('r', 4), 118098),\n",
       " (('r', 5), 39366),\n",
       " (('r', 6), 13122),\n",
       " (('r', 7), 4374),\n",
       " (('r', 8), 1458),\n",
       " (('r', 9), 486),\n",
       " (('r', 10), 162),\n",
       " (('r', 11), 54),\n",
       " (('r', 12), 18),\n",
       " (('r', 13), 6),\n",
       " (('r', 14), 2),\n",
       " (('r', 15), 1)]"
      ]
     },
     "execution_count": 15,
     "metadata": {},
     "output_type": "execute_result"
    }
   ],
   "source": [
    "from collections import Counter\n",
    "Counter(call_time_with_arg).most_common()"
   ]
  },
  {
   "cell_type": "code",
   "execution_count": 27,
   "metadata": {},
   "outputs": [
    {
     "data": {
      "text/plain": [
       "30"
      ]
     },
     "execution_count": 27,
     "metadata": {},
     "output_type": "execute_result"
    }
   ],
   "source": [
    "r(10)"
   ]
  },
  {
   "cell_type": "code",
   "execution_count": 33,
   "metadata": {},
   "outputs": [
    {
     "data": {
      "text/plain": [
       "43"
      ]
     },
     "execution_count": 33,
     "metadata": {},
     "output_type": "execute_result"
    }
   ],
   "source": [
    "r(15)"
   ]
  },
  {
   "cell_type": "code",
   "execution_count": 38,
   "metadata": {
    "scrolled": true
   },
   "outputs": [
    {
     "data": {
      "text/plain": [
       "43"
      ]
     },
     "execution_count": 38,
     "metadata": {},
     "output_type": "execute_result"
    }
   ],
   "source": [
    "r(15)"
   ]
  },
  {
   "cell_type": "code",
   "execution_count": 79,
   "metadata": {},
   "outputs": [],
   "source": [
    "called_time_with_arg = defaultdict(int)  # initialize to zero"
   ]
  },
  {
   "cell_type": "code",
   "execution_count": 75,
   "metadata": {},
   "outputs": [],
   "source": [
    "# import decorator to count the function called times\n",
    "\n",
    "def count_func_called_times(func):\n",
    "    \n",
    "    def wrapper(n):\n",
    "        # This is the function after wrapped; Here only decorating it with count ability\n",
    "        result = func(n)\n",
    "        called_time_with_arg[(func.__name__, n)] += 1\n",
    "        return result\n",
    "    \n",
    "    return wrapper"
   ]
  },
  {
   "cell_type": "code",
   "execution_count": 76,
   "metadata": {},
   "outputs": [],
   "source": [
    "@count_func_called_times\n",
    "def r(n):\n",
    "    \"\"\"\n",
    "    Args: n is the iron length\n",
    "    Return: the max revenue \n",
    "    \"\"\"\n",
    "    \n",
    "    return max(\n",
    "        [price[n]] + [r(i) + r(n-i) for i in range(1, n)]\n",
    "    )"
   ]
  },
  {
   "cell_type": "code",
   "execution_count": 77,
   "metadata": {},
   "outputs": [
    {
     "data": {
      "text/plain": [
       "43"
      ]
     },
     "execution_count": 77,
     "metadata": {},
     "output_type": "execute_result"
    }
   ],
   "source": [
    "r(15)"
   ]
  },
  {
   "cell_type": "code",
   "execution_count": 78,
   "metadata": {
    "scrolled": true
   },
   "outputs": [
    {
     "data": {
      "text/plain": [
       "defaultdict(int,\n",
       "            {('r', 1): 3188646,\n",
       "             ('r', 2): 1062882,\n",
       "             ('r', 3): 354294,\n",
       "             ('r', 4): 118098,\n",
       "             ('r', 5): 39366,\n",
       "             ('r', 6): 13122,\n",
       "             ('r', 7): 4374,\n",
       "             ('r', 8): 1458,\n",
       "             ('r', 9): 486,\n",
       "             ('r', 10): 162,\n",
       "             ('r', 11): 54,\n",
       "             ('r', 12): 18,\n",
       "             ('r', 13): 6,\n",
       "             ('r', 14): 2,\n",
       "             ('r', 15): 1})"
      ]
     },
     "execution_count": 78,
     "metadata": {},
     "output_type": "execute_result"
    }
   ],
   "source": [
    "called_time_with_arg"
   ]
  },
  {
   "cell_type": "code",
   "execution_count": 71,
   "metadata": {
    "scrolled": true
   },
   "outputs": [
    {
     "data": {
      "text/plain": [
       "<function __main__.count_func_called_times.<locals>.wrapper(n)>"
      ]
     },
     "execution_count": 71,
     "metadata": {},
     "output_type": "execute_result"
    }
   ],
   "source": [
    "r"
   ]
  },
  {
   "cell_type": "code",
   "execution_count": 81,
   "metadata": {},
   "outputs": [],
   "source": [
    "# add another decorator to try cache first to save time\n",
    "\n",
    "def use_cache(func):\n",
    "    \n",
    "    use_cache.already_computed = {}\n",
    "    \n",
    "    def wrapper(n):\n",
    "        if n in use_cache.already_computed:\n",
    "            result = use_cache.already_computed[n]\n",
    "        else:\n",
    "            result = func(n)\n",
    "            use_cache.already_computed[n] = result\n",
    "    \n",
    "        return result\n",
    "    \n",
    "    return wrapper\n",
    "    "
   ]
  },
  {
   "cell_type": "code",
   "execution_count": 82,
   "metadata": {},
   "outputs": [],
   "source": [
    "@count_func_called_times\n",
    "@use_cache\n",
    "def r(n):\n",
    "    \"\"\"\n",
    "    Args: n is the iron length\n",
    "    Return: the max revenue \n",
    "    \"\"\"\n",
    "    \n",
    "    return max(\n",
    "        [price[n]] + [r(i) + r(n-i) for i in range(1, n)]\n",
    "    )"
   ]
  },
  {
   "cell_type": "code",
   "execution_count": 87,
   "metadata": {},
   "outputs": [
    {
     "data": {
      "text/plain": [
       "700"
      ]
     },
     "execution_count": 87,
     "metadata": {},
     "output_type": "execute_result"
    }
   ],
   "source": [
    "r(234)"
   ]
  },
  {
   "cell_type": "code",
   "execution_count": 88,
   "metadata": {},
   "outputs": [
    {
     "data": {
      "text/plain": [
       "defaultdict(int,\n",
       "            {('wrapper', 1): 466,\n",
       "             ('wrapper', 2): 464,\n",
       "             ('wrapper', 3): 462,\n",
       "             ('wrapper', 4): 460,\n",
       "             ('wrapper', 5): 458,\n",
       "             ('wrapper', 6): 456,\n",
       "             ('wrapper', 7): 454,\n",
       "             ('wrapper', 8): 452,\n",
       "             ('wrapper', 9): 450,\n",
       "             ('wrapper', 10): 449,\n",
       "             ('wrapper', 11): 446,\n",
       "             ('wrapper', 12): 444,\n",
       "             ('wrapper', 13): 442,\n",
       "             ('wrapper', 14): 440,\n",
       "             ('wrapper', 15): 438,\n",
       "             ('wrapper', 16): 436,\n",
       "             ('wrapper', 17): 434,\n",
       "             ('wrapper', 18): 432,\n",
       "             ('wrapper', 19): 430,\n",
       "             ('wrapper', 20): 429,\n",
       "             ('wrapper', 21): 426,\n",
       "             ('wrapper', 22): 424,\n",
       "             ('wrapper', 23): 422,\n",
       "             ('wrapper', 24): 420,\n",
       "             ('wrapper', 25): 418,\n",
       "             ('wrapper', 26): 416,\n",
       "             ('wrapper', 27): 414,\n",
       "             ('wrapper', 28): 412,\n",
       "             ('wrapper', 29): 410,\n",
       "             ('wrapper', 30): 408,\n",
       "             ('wrapper', 31): 406,\n",
       "             ('wrapper', 32): 404,\n",
       "             ('wrapper', 33): 402,\n",
       "             ('wrapper', 34): 400,\n",
       "             ('wrapper', 35): 398,\n",
       "             ('wrapper', 36): 396,\n",
       "             ('wrapper', 37): 394,\n",
       "             ('wrapper', 38): 392,\n",
       "             ('wrapper', 39): 390,\n",
       "             ('wrapper', 40): 388,\n",
       "             ('wrapper', 41): 386,\n",
       "             ('wrapper', 42): 384,\n",
       "             ('wrapper', 43): 382,\n",
       "             ('wrapper', 44): 380,\n",
       "             ('wrapper', 45): 378,\n",
       "             ('wrapper', 46): 376,\n",
       "             ('wrapper', 47): 374,\n",
       "             ('wrapper', 48): 372,\n",
       "             ('wrapper', 49): 370,\n",
       "             ('wrapper', 50): 368,\n",
       "             ('wrapper', 51): 366,\n",
       "             ('wrapper', 52): 364,\n",
       "             ('wrapper', 53): 362,\n",
       "             ('wrapper', 54): 360,\n",
       "             ('wrapper', 55): 358,\n",
       "             ('wrapper', 56): 356,\n",
       "             ('wrapper', 57): 354,\n",
       "             ('wrapper', 58): 352,\n",
       "             ('wrapper', 59): 350,\n",
       "             ('wrapper', 60): 348,\n",
       "             ('wrapper', 61): 346,\n",
       "             ('wrapper', 62): 344,\n",
       "             ('wrapper', 63): 342,\n",
       "             ('wrapper', 64): 340,\n",
       "             ('wrapper', 65): 338,\n",
       "             ('wrapper', 66): 336,\n",
       "             ('wrapper', 67): 334,\n",
       "             ('wrapper', 68): 332,\n",
       "             ('wrapper', 69): 330,\n",
       "             ('wrapper', 70): 328,\n",
       "             ('wrapper', 71): 326,\n",
       "             ('wrapper', 72): 324,\n",
       "             ('wrapper', 73): 322,\n",
       "             ('wrapper', 74): 320,\n",
       "             ('wrapper', 75): 318,\n",
       "             ('wrapper', 76): 316,\n",
       "             ('wrapper', 77): 314,\n",
       "             ('wrapper', 78): 312,\n",
       "             ('wrapper', 79): 310,\n",
       "             ('wrapper', 80): 308,\n",
       "             ('wrapper', 81): 306,\n",
       "             ('wrapper', 82): 304,\n",
       "             ('wrapper', 83): 302,\n",
       "             ('wrapper', 84): 300,\n",
       "             ('wrapper', 85): 298,\n",
       "             ('wrapper', 86): 296,\n",
       "             ('wrapper', 87): 294,\n",
       "             ('wrapper', 88): 292,\n",
       "             ('wrapper', 89): 290,\n",
       "             ('wrapper', 90): 288,\n",
       "             ('wrapper', 91): 286,\n",
       "             ('wrapper', 92): 284,\n",
       "             ('wrapper', 93): 282,\n",
       "             ('wrapper', 94): 280,\n",
       "             ('wrapper', 95): 278,\n",
       "             ('wrapper', 96): 276,\n",
       "             ('wrapper', 97): 274,\n",
       "             ('wrapper', 98): 272,\n",
       "             ('wrapper', 99): 270,\n",
       "             ('wrapper', 100): 268,\n",
       "             ('wrapper', 101): 266,\n",
       "             ('wrapper', 102): 264,\n",
       "             ('wrapper', 103): 262,\n",
       "             ('wrapper', 104): 260,\n",
       "             ('wrapper', 105): 258,\n",
       "             ('wrapper', 106): 256,\n",
       "             ('wrapper', 107): 254,\n",
       "             ('wrapper', 108): 252,\n",
       "             ('wrapper', 109): 250,\n",
       "             ('wrapper', 110): 248,\n",
       "             ('wrapper', 111): 246,\n",
       "             ('wrapper', 112): 244,\n",
       "             ('wrapper', 113): 242,\n",
       "             ('wrapper', 114): 240,\n",
       "             ('wrapper', 115): 238,\n",
       "             ('wrapper', 116): 236,\n",
       "             ('wrapper', 117): 234,\n",
       "             ('wrapper', 118): 232,\n",
       "             ('wrapper', 119): 230,\n",
       "             ('wrapper', 120): 228,\n",
       "             ('wrapper', 121): 226,\n",
       "             ('wrapper', 122): 224,\n",
       "             ('wrapper', 123): 222,\n",
       "             ('wrapper', 124): 220,\n",
       "             ('wrapper', 125): 218,\n",
       "             ('wrapper', 126): 216,\n",
       "             ('wrapper', 127): 214,\n",
       "             ('wrapper', 128): 212,\n",
       "             ('wrapper', 129): 210,\n",
       "             ('wrapper', 130): 208,\n",
       "             ('wrapper', 131): 206,\n",
       "             ('wrapper', 132): 204,\n",
       "             ('wrapper', 133): 202,\n",
       "             ('wrapper', 134): 200,\n",
       "             ('wrapper', 135): 198,\n",
       "             ('wrapper', 136): 196,\n",
       "             ('wrapper', 137): 194,\n",
       "             ('wrapper', 138): 192,\n",
       "             ('wrapper', 139): 190,\n",
       "             ('wrapper', 140): 188,\n",
       "             ('wrapper', 141): 186,\n",
       "             ('wrapper', 142): 184,\n",
       "             ('wrapper', 143): 182,\n",
       "             ('wrapper', 144): 180,\n",
       "             ('wrapper', 145): 178,\n",
       "             ('wrapper', 146): 176,\n",
       "             ('wrapper', 147): 174,\n",
       "             ('wrapper', 148): 172,\n",
       "             ('wrapper', 149): 170,\n",
       "             ('wrapper', 150): 168,\n",
       "             ('wrapper', 151): 166,\n",
       "             ('wrapper', 152): 164,\n",
       "             ('wrapper', 153): 162,\n",
       "             ('wrapper', 154): 160,\n",
       "             ('wrapper', 155): 158,\n",
       "             ('wrapper', 156): 156,\n",
       "             ('wrapper', 157): 154,\n",
       "             ('wrapper', 158): 152,\n",
       "             ('wrapper', 159): 150,\n",
       "             ('wrapper', 160): 148,\n",
       "             ('wrapper', 161): 146,\n",
       "             ('wrapper', 162): 144,\n",
       "             ('wrapper', 163): 142,\n",
       "             ('wrapper', 164): 140,\n",
       "             ('wrapper', 165): 138,\n",
       "             ('wrapper', 166): 136,\n",
       "             ('wrapper', 167): 134,\n",
       "             ('wrapper', 168): 132,\n",
       "             ('wrapper', 169): 130,\n",
       "             ('wrapper', 170): 128,\n",
       "             ('wrapper', 171): 126,\n",
       "             ('wrapper', 172): 124,\n",
       "             ('wrapper', 173): 122,\n",
       "             ('wrapper', 174): 120,\n",
       "             ('wrapper', 175): 118,\n",
       "             ('wrapper', 176): 116,\n",
       "             ('wrapper', 177): 114,\n",
       "             ('wrapper', 178): 112,\n",
       "             ('wrapper', 179): 110,\n",
       "             ('wrapper', 180): 108,\n",
       "             ('wrapper', 181): 106,\n",
       "             ('wrapper', 182): 104,\n",
       "             ('wrapper', 183): 102,\n",
       "             ('wrapper', 184): 100,\n",
       "             ('wrapper', 185): 98,\n",
       "             ('wrapper', 186): 96,\n",
       "             ('wrapper', 187): 94,\n",
       "             ('wrapper', 188): 92,\n",
       "             ('wrapper', 189): 90,\n",
       "             ('wrapper', 190): 88,\n",
       "             ('wrapper', 191): 86,\n",
       "             ('wrapper', 192): 84,\n",
       "             ('wrapper', 193): 82,\n",
       "             ('wrapper', 194): 80,\n",
       "             ('wrapper', 195): 78,\n",
       "             ('wrapper', 196): 76,\n",
       "             ('wrapper', 197): 74,\n",
       "             ('wrapper', 198): 72,\n",
       "             ('wrapper', 199): 70,\n",
       "             ('wrapper', 200): 68,\n",
       "             ('wrapper', 201): 66,\n",
       "             ('wrapper', 202): 64,\n",
       "             ('wrapper', 203): 62,\n",
       "             ('wrapper', 204): 60,\n",
       "             ('wrapper', 205): 58,\n",
       "             ('wrapper', 206): 56,\n",
       "             ('wrapper', 207): 54,\n",
       "             ('wrapper', 208): 52,\n",
       "             ('wrapper', 209): 50,\n",
       "             ('wrapper', 210): 48,\n",
       "             ('wrapper', 211): 46,\n",
       "             ('wrapper', 212): 44,\n",
       "             ('wrapper', 213): 42,\n",
       "             ('wrapper', 214): 40,\n",
       "             ('wrapper', 215): 38,\n",
       "             ('wrapper', 216): 36,\n",
       "             ('wrapper', 217): 34,\n",
       "             ('wrapper', 218): 32,\n",
       "             ('wrapper', 219): 30,\n",
       "             ('wrapper', 220): 28,\n",
       "             ('wrapper', 221): 26,\n",
       "             ('wrapper', 222): 24,\n",
       "             ('wrapper', 223): 22,\n",
       "             ('wrapper', 224): 20,\n",
       "             ('wrapper', 225): 18,\n",
       "             ('wrapper', 226): 16,\n",
       "             ('wrapper', 227): 14,\n",
       "             ('wrapper', 228): 12,\n",
       "             ('wrapper', 229): 10,\n",
       "             ('wrapper', 230): 8,\n",
       "             ('wrapper', 231): 6,\n",
       "             ('wrapper', 232): 4,\n",
       "             ('wrapper', 233): 2,\n",
       "             ('wrapper', 234): 1})"
      ]
     },
     "execution_count": 88,
     "metadata": {},
     "output_type": "execute_result"
    }
   ],
   "source": [
    "called_time_with_arg"
   ]
  },
  {
   "cell_type": "markdown",
   "metadata": {},
   "source": [
    "#### Suppot optimal split"
   ]
  },
  {
   "cell_type": "code",
   "execution_count": 94,
   "metadata": {},
   "outputs": [],
   "source": [
    "solution = {}"
   ]
  },
  {
   "cell_type": "code",
   "execution_count": 95,
   "metadata": {},
   "outputs": [],
   "source": [
    "@count_func_called_times\n",
    "@use_cache\n",
    "def r(n):\n",
    "    \"\"\"\n",
    "    Args: n is the iron length\n",
    "    Return: the max revenue \n",
    "    \"\"\"\n",
    "    \n",
    "    max_price, max_split = max(\n",
    "        [(price[n], 0)] + [(r(i) + r(n-i), i) for i in range(1, n)], key=lambda x: x[0]\n",
    "    )\n",
    "    \n",
    "    solution[n] = (n - max_split, max_split)\n",
    "    \n",
    "    return max_price"
   ]
  },
  {
   "cell_type": "code",
   "execution_count": 98,
   "metadata": {},
   "outputs": [
    {
     "data": {
      "text/plain": [
       "112"
      ]
     },
     "execution_count": 98,
     "metadata": {},
     "output_type": "execute_result"
    }
   ],
   "source": [
    "r(38)"
   ]
  },
  {
   "cell_type": "code",
   "execution_count": 99,
   "metadata": {},
   "outputs": [
    {
     "data": {
      "text/plain": [
       "{1: (1, 0),\n",
       " 2: (2, 0),\n",
       " 3: (3, 0),\n",
       " 4: (2, 2),\n",
       " 5: (3, 2),\n",
       " 6: (6, 0),\n",
       " 7: (6, 1),\n",
       " 8: (6, 2),\n",
       " 9: (6, 3),\n",
       " 10: (10, 0),\n",
       " 11: (10, 1),\n",
       " 12: (10, 2),\n",
       " 13: (10, 3),\n",
       " 14: (12, 2),\n",
       " 15: (13, 2),\n",
       " 16: (10, 6),\n",
       " 17: (16, 1),\n",
       " 18: (16, 2),\n",
       " 19: (16, 3),\n",
       " 20: (10, 10),\n",
       " 21: (20, 1),\n",
       " 22: (20, 2),\n",
       " 23: (20, 3),\n",
       " 24: (22, 2),\n",
       " 25: (23, 2),\n",
       " 26: (20, 6),\n",
       " 27: (26, 1),\n",
       " 28: (26, 2),\n",
       " 29: (26, 3),\n",
       " 30: (20, 10),\n",
       " 31: (30, 1),\n",
       " 32: (30, 2),\n",
       " 33: (30, 3),\n",
       " 34: (32, 2),\n",
       " 35: (33, 2),\n",
       " 36: (30, 6),\n",
       " 37: (36, 1),\n",
       " 38: (36, 2)}"
      ]
     },
     "execution_count": 99,
     "metadata": {},
     "output_type": "execute_result"
    }
   ],
   "source": [
    "solution"
   ]
  },
  {
   "cell_type": "code",
   "execution_count": 111,
   "metadata": {},
   "outputs": [],
   "source": [
    "parse_solution = 2"
   ]
  },
  {
   "cell_type": "code",
   "execution_count": 120,
   "metadata": {},
   "outputs": [],
   "source": [
    "def parse_solution(n):\n",
    "    left_split, right_split = solution[n]\n",
    "    \n",
    "    if right_split == 0: return [left_split]\n",
    "    \n",
    "    return parse_solution(left_split) + parse_solution(right_split)"
   ]
  },
  {
   "cell_type": "code",
   "execution_count": 123,
   "metadata": {
    "scrolled": true
   },
   "outputs": [
    {
     "data": {
      "text/plain": [
       "[10, 10, 10, 6, 2]"
      ]
     },
     "execution_count": 123,
     "metadata": {},
     "output_type": "execute_result"
    }
   ],
   "source": [
    "parse_solution(38)"
   ]
  },
  {
   "cell_type": "markdown",
   "metadata": {},
   "source": [
    "#### Machine Learning and Gradient Descent"
   ]
  },
  {
   "cell_type": "code",
   "execution_count": 124,
   "metadata": {},
   "outputs": [],
   "source": [
    "from sklearn.datasets import load_boston"
   ]
  },
  {
   "cell_type": "code",
   "execution_count": 152,
   "metadata": {},
   "outputs": [],
   "source": [
    "data = load_boston()"
   ]
  },
  {
   "cell_type": "code",
   "execution_count": null,
   "metadata": {},
   "outputs": [],
   "source": [
    "data = load_boston"
   ]
  },
  {
   "cell_type": "code",
   "execution_count": 132,
   "metadata": {},
   "outputs": [],
   "source": [
    "X, Y = data['data'], data['target']"
   ]
  },
  {
   "cell_type": "code",
   "execution_count": 134,
   "metadata": {},
   "outputs": [
    {
     "data": {
      "text/plain": [
       "(506, 13)"
      ]
     },
     "execution_count": 134,
     "metadata": {},
     "output_type": "execute_result"
    }
   ],
   "source": [
    "X.shape"
   ]
  },
  {
   "cell_type": "code",
   "execution_count": 135,
   "metadata": {},
   "outputs": [
    {
     "data": {
      "text/plain": [
       "(506,)"
      ]
     },
     "execution_count": 135,
     "metadata": {},
     "output_type": "execute_result"
    }
   ],
   "source": [
    "Y.shape"
   ]
  },
  {
   "cell_type": "code",
   "execution_count": 139,
   "metadata": {},
   "outputs": [
    {
     "data": {
      "text/plain": [
       "numpy.ndarray"
      ]
     },
     "execution_count": 139,
     "metadata": {},
     "output_type": "execute_result"
    }
   ],
   "source": [
    "type(X)"
   ]
  },
  {
   "cell_type": "code",
   "execution_count": 150,
   "metadata": {},
   "outputs": [],
   "source": [
    "X?"
   ]
  },
  {
   "cell_type": "code",
   "execution_count": 153,
   "metadata": {},
   "outputs": [],
   "source": [
    "%matplotlib inline\n",
    "import matplotlib.pyplot as plt\n",
    "def draw_rm_and_price():\n",
    "    plt.scatter(X[:, 5], y)"
   ]
  },
  {
   "cell_type": "code",
   "execution_count": 154,
   "metadata": {},
   "outputs": [
    {
     "data": {
      "image/png": "[encoded data removed]",
      "text/plain": [
       "<Figure size 432x288 with 1 Axes>"
      ]
     },
     "metadata": {},
     "output_type": "display_data"
    }
   ],
   "source": [
    "draw_rm_and_price()"
   ]
  },
  {
   "cell_type": "markdown",
   "metadata": {},
   "source": [
    "### Part 2: change loss function from $loss = \\frac{1}{n}\\sum{(y_i - \\hat(y_i))^2}$ to $loss = \\frac{1}{n}\\sum{|y_i - \\hat{y_i}|}$, and using your mathmatical knowledge to get the right partial formual. Implemen the gradient descent code."
   ]
  },
  {
   "cell_type": "code",
   "execution_count": 162,
   "metadata": {},
   "outputs": [],
   "source": [
    "def loss(Y, Y_hat):\n",
    "    return sum(abs( Y - Y_hat)) / len(Y)"
   ]
  },
  {
   "cell_type": "code",
   "execution_count": 174,
   "metadata": {},
   "outputs": [],
   "source": [
    "import numpy as np"
   ]
  },
  {
   "cell_type": "code",
   "execution_count": 194,
   "metadata": {},
   "outputs": [],
   "source": [
    "# Calcualte the gradient of loss function\n",
    "def partial_k(X, Y, Y_hat):\n",
    "    # when y > y_hat, derivative to y_hat is -1\n",
    "    # when y < y_hat, derivative to y_hat is 1\n",
    "    # when y == y_hat, math derivative does not exist, here we specify it as zero\n",
    "    \n",
    "    # Here use numpy to do vector operations directly\n",
    "    gradient = -1 * np.dot(np.sign(Y - Y_hat), X)/ len(Y)\n",
    "    return gradient\n",
    "\n",
    "\n",
    "def partial_b(X, Y, Y_hat):\n",
    "    gradient = -1 * np.dot(np.sign(Y - Y_hat), X) / len(Y)\n",
    "    \n",
    "    return gradient "
   ]
  },
  {
   "cell_type": "code",
   "execution_count": 221,
   "metadata": {},
   "outputs": [
    {
     "name": "stdout",
     "output_type": "stream",
     "text": [
      "Epoch 0: Loss is 19.12245555715206\n",
      "Epoch 100: Loss is 14.626515327958664\n",
      "Epoch 200: Loss is 10.758536645909297\n",
      "Epoch 300: Loss is 8.12641787185117\n",
      "Epoch 400: Loss is 6.63334907220613\n",
      "Epoch 500: Loss is 5.869424761150876\n",
      "Epoch 600: Loss is 5.631542716950256\n",
      "Epoch 700: Loss is 5.5767848755080855\n",
      "Epoch 800: Loss is 5.569832790674129\n",
      "Epoch 900: Loss is 5.56933758455964\n",
      "Epoch 1000: Loss is 5.569167232911223\n",
      "Epoch 1100: Loss is 5.569165156379661\n",
      "Epoch 1200: Loss is 5.569193480284024\n",
      "Epoch 1300: Loss is 5.5691932281950205\n",
      "Epoch 1400: Loss is 5.569194186719485\n",
      "Epoch 1500: Loss is 5.569193934630469\n",
      "Epoch 1600: Loss is 5.569193682541475\n",
      "Epoch 1700: Loss is 5.569193430452472\n",
      "Epoch 1800: Loss is 5.569193205224587\n",
      "Epoch 1900: Loss is 5.569194136887938\n",
      "Epoch 2000: Loss is 5.569193884798929\n",
      "Epoch 2100: Loss is 5.569193632709925\n",
      "Epoch 2200: Loss is 5.569193380620925\n",
      "Epoch 2300: Loss is 5.569193184056582\n",
      "Epoch 2400: Loss is 5.569194087056385\n",
      "Epoch 2500: Loss is 5.569193834967381\n",
      "Epoch 2600: Loss is 5.569193582878375\n",
      "Epoch 2700: Loss is 5.569193330789375\n",
      "Epoch 2800: Loss is 5.569194289313835\n",
      "Epoch 2900: Loss is 5.569194037224833\n",
      "Epoch 3000: Loss is 5.569193785135824\n",
      "Epoch 3100: Loss is 5.569193533046822\n",
      "Epoch 3200: Loss is 5.5691932809578235\n",
      "Epoch 3300: Loss is 5.569194239482284\n",
      "Epoch 3400: Loss is 5.569193987393282\n",
      "Epoch 3500: Loss is 5.569193735304278\n",
      "Epoch 3600: Loss is 5.569193483215275\n",
      "Epoch 3700: Loss is 5.5691932311262695\n",
      "Epoch 3800: Loss is 5.569194189650742\n",
      "Epoch 3900: Loss is 5.569193937561738\n",
      "Epoch 4000: Loss is 5.569193685472729\n",
      "Epoch 4100: Loss is 5.569193433383721\n",
      "Epoch 4200: Loss is 5.5691932064697625\n",
      "Epoch 4300: Loss is 5.569194139819182\n",
      "Epoch 4400: Loss is 5.5691938877301785\n",
      "Epoch 4500: Loss is 5.569193635641179\n",
      "Epoch 4600: Loss is 5.569193383552177\n",
      "Epoch 4700: Loss is 5.569193185301757\n",
      "Epoch 4800: Loss is 5.569194089987636\n",
      "Epoch 4900: Loss is 5.56919383789863\n",
      "Epoch 5000: Loss is 5.569193585809629\n",
      "Epoch 5100: Loss is 5.569193333720622\n",
      "Epoch 5200: Loss is 5.5691942922450925\n",
      "Epoch 5300: Loss is 5.569194040156088\n",
      "Epoch 5400: Loss is 5.569193788067083\n",
      "Epoch 5500: Loss is 5.569193535978078\n",
      "Epoch 5600: Loss is 5.569193283889067\n",
      "Epoch 5700: Loss is 5.5691942424135314\n",
      "Epoch 5800: Loss is 5.569193990324537\n",
      "Epoch 5900: Loss is 5.56919373823553\n",
      "Epoch 6000: Loss is 5.569193486146522\n",
      "Epoch 6100: Loss is 5.569193234057528\n",
      "Epoch 6200: Loss is 5.569194192581992\n",
      "Epoch 6300: Loss is 5.5691939404929816\n",
      "Epoch 6400: Loss is 5.56919368840398\n",
      "Epoch 6500: Loss is 5.569193436314977\n",
      "Epoch 6600: Loss is 5.5691932077149255\n",
      "Epoch 6700: Loss is 5.56919414275044\n",
      "Epoch 6800: Loss is 5.56919389066143\n",
      "Epoch 6900: Loss is 5.569193638572429\n",
      "Epoch 7000: Loss is 5.569193386483429\n",
      "Epoch 7100: Loss is 5.569193186546928\n",
      "Epoch 7200: Loss is 5.569194092918886\n",
      "Epoch 7300: Loss is 5.569193840829886\n",
      "Epoch 7400: Loss is 5.569193588740881\n",
      "Epoch 7500: Loss is 5.569193336651881\n",
      "Epoch 7600: Loss is 5.56919429517634\n",
      "Epoch 7700: Loss is 5.569194043087342\n",
      "Epoch 7800: Loss is 5.569193790998335\n",
      "Epoch 7900: Loss is 5.5691935389093254\n",
      "Epoch 8000: Loss is 5.569193286820325\n",
      "Epoch 8100: Loss is 5.569194245344792\n",
      "Epoch 8200: Loss is 5.569193993255785\n",
      "Epoch 8300: Loss is 5.569193741166783\n",
      "Epoch 8400: Loss is 5.569193489077784\n",
      "Epoch 8500: Loss is 5.569193236988778\n",
      "Epoch 8600: Loss is 5.569194195513243\n",
      "Epoch 8700: Loss is 5.569193943424243\n",
      "Epoch 8800: Loss is 5.569193691335237\n",
      "Epoch 8900: Loss is 5.569193439246234\n",
      "Epoch 9000: Loss is 5.5691932089600975\n",
      "Epoch 9100: Loss is 5.569194145681687\n",
      "Epoch 9200: Loss is 5.5691938935926855\n",
      "Epoch 9300: Loss is 5.569193641503687\n",
      "Epoch 9400: Loss is 5.5691933894146715\n",
      "Epoch 9500: Loss is 5.569193187792097\n",
      "Epoch 9600: Loss is 5.569194095850141\n",
      "Epoch 9700: Loss is 5.569193843761139\n",
      "Epoch 9800: Loss is 5.569193591672133\n",
      "Epoch 9900: Loss is 5.56919333958313\n",
      "Final k and b are 2.9810543802545912, 3.232524272405158\n"
     ]
    }
   ],
   "source": [
    "epoch = 10000\n",
    "\n",
    "# Initialize k and b\n",
    "k = random.random()\n",
    "b = random.random()\n",
    "\n",
    "X_rm = X[:, 5]\n",
    "\n",
    "learning_rate = 0.001\n",
    "\n",
    "for i in range(epoch):\n",
    "    Y_hat = k * X_rm + b\n",
    "    current_loss = loss(Y, Y_hat)\n",
    "    if i % 100 == 0:\n",
    "        print (\"Epoch {}: Loss is {}\".format(i, current_loss))\n",
    "    \n",
    "    # gradient descent\n",
    "    current_partial_k = partial_k(X_rm, Y, Y_hat)\n",
    "    current_partial_b = partial_b(X_rm, Y, Y_hat)\n",
    "    \n",
    "    #update k and b\n",
    "    k = k - learning_rate * current_partial_k\n",
    "    b = b - learning_rate * current_partial_b\n",
    "\n",
    "print (\"Final k and b are {}, {}\".format(k, b))"
   ]
  },
  {
   "cell_type": "code",
   "execution_count": 222,
   "metadata": {},
   "outputs": [
    {
     "data": {
      "text/plain": [
       "<matplotlib.collections.PathCollection at 0x1776cd50860>"
      ]
     },
     "execution_count": 222,
     "metadata": {},
     "output_type": "execute_result"
    },
    {
     "data": {
      "image/png": "[encoded data removed]",
      "text/plain": [
       "<Figure size 432x288 with 1 Axes>"
      ]
     },
     "metadata": {},
     "output_type": "display_data"
    }
   ],
   "source": [
    "X_rm = X[:, 5]\n",
    "Y_hat = k * X_rm + b\n",
    "\n",
    "draw_rm_and_price()\n",
    "plt.scatter(X_rm, Y_hat)"
   ]
  },
  {
   "cell_type": "markdown",
   "metadata": {},
   "source": [
    "### Part 3: Finish the Solution Parse Part of Edit-Distance"
   ]
  },
  {
   "cell_type": "code",
   "execution_count": 29,
   "metadata": {},
   "outputs": [],
   "source": [
    "solution = {}"
   ]
  },
  {
   "cell_type": "code",
   "execution_count": 69,
   "metadata": {},
   "outputs": [],
   "source": [
    "def edit_distance(str1, str2):\n",
    "    if len(str1) == 0:\n",
    "        if str2:\n",
    "            operation = 'ADD {}'.format(str2[-1])\n",
    "            solution[(str1, str2)] = operation\n",
    "        else:\n",
    "            solution[(str1, str2)] = ''\n",
    "        return len(str2)\n",
    "    \n",
    "    if len(str2) == 0:\n",
    "        if str1:\n",
    "            operation = \"DEL {}\".format(str1[-1])\n",
    "            solution[(str1, str2)] = operation\n",
    "        else:\n",
    "            solution[(str1, str2)] = ''\n",
    "        return len(str1)\n",
    "    \n",
    "    if str1[-1] == str2[-1]:\n",
    "        operation = ''  # operation is empty\n",
    "        solution[(str1, str2)] = operation\n",
    "        return (edit_distance(str1[:-1], str2[:-1])) \n",
    "    else:\n",
    "        distance, operation = min([(edit_distance(str1[:-1], str2[:-1]) + 1, 'SUB {}=>{}'.format(str1[-1], str2[-1])),\n",
    "                                  (edit_distance(str1[:-1], str2) + 1, \"DEL {}\".format(str1[-1])), \n",
    "                                  (edit_distance(str1, str2[:-1]) + 1, \"ADD {}\".format(str2[-1]))], \n",
    "                                  key=lambda x: x[0]\n",
    "                                 )\n",
    "        solution[(str1, str2)] = operation\n",
    "        return distance"
   ]
  },
  {
   "cell_type": "code",
   "execution_count": 87,
   "metadata": {},
   "outputs": [],
   "source": [
    "def parse_solution(str1, str2):\n",
    "    partial_solution = solution[(str1, str2)]\n",
    "    \n",
    "    if (not str1) and (not str2):\n",
    "        return [partial_solution]\n",
    "    \n",
    "    if partial_solution == '':\n",
    "        return [partial_solution] + parse_solution(str1[:-1], str2[:-1])\n",
    "    \n",
    "    elif 'SUB' in partial_solution:\n",
    "        return [partial_solution] + parse_solution(str1[:-1], str2[:-1])\n",
    "    \n",
    "    elif 'DEL' in partial_solution:\n",
    "        return [partial_solution] + parse_solution(str1[:-1], str2)\n",
    "        \n",
    "    elif 'ADD' in partial_solution:\n",
    "        return [partial_solution] + parse_solution(str1, str2[:-1])\n",
    "    \n",
    "def pretty_parse_solution(str1, str2):\n",
    "    solutions = parse_solution(str1, str2)\n",
    "    neat_solutions = []\n",
    "    for solution in solutions:\n",
    "        if solution and (solution not in neat_solutions):\n",
    "            neat_solutions.append(solution)\n",
    "    \n",
    "    return neat_solutions"
   ]
  },
  {
   "cell_type": "code",
   "execution_count": 82,
   "metadata": {},
   "outputs": [
    {
     "data": {
      "text/plain": [
       "2"
      ]
     },
     "execution_count": 82,
     "metadata": {},
     "output_type": "execute_result"
    }
   ],
   "source": [
    "edit_distance('ABCDE', 'ABCCEF')"
   ]
  },
  {
   "cell_type": "code",
   "execution_count": 83,
   "metadata": {
    "scrolled": true
   },
   "outputs": [
    {
     "data": {
      "text/plain": [
       "{('', 'b'): 'ADD b',\n",
       " ('', 'bc'): 'ADD c',\n",
       " ('', ''): '',\n",
       " ('a', ''): 'DEL a',\n",
       " ('a', 'b'): 'SUB a=>b',\n",
       " ('a', 'bc'): 'SUB a=>c',\n",
       " ('ABC', 'ABCC'): '',\n",
       " ('', 'A'): 'ADD A',\n",
       " ('', 'AB'): 'ADD B',\n",
       " ('A', 'A'): '',\n",
       " ('A', 'AB'): 'ADD B',\n",
       " ('', 'ABC'): 'ADD C',\n",
       " ('A', 'ABC'): 'ADD C',\n",
       " ('AB', 'AB'): '',\n",
       " ('AB', 'ABC'): 'ADD C',\n",
       " ('', 'ABCC'): 'ADD C',\n",
       " ('A', 'ABCC'): 'ADD C',\n",
       " ('AB', 'ABCC'): 'ADD C',\n",
       " ('', 'ABCCE'): 'ADD E',\n",
       " ('A', 'ABCCE'): 'ADD E',\n",
       " ('AB', 'ABCCE'): 'ADD E',\n",
       " ('ABC', 'ABCCE'): 'ADD E',\n",
       " ('ABC', 'ABC'): '',\n",
       " ('A', ''): 'DEL A',\n",
       " ('AB', ''): 'DEL B',\n",
       " ('AB', 'A'): 'DEL B',\n",
       " ('ABC', ''): 'DEL C',\n",
       " ('ABC', 'A'): 'DEL C',\n",
       " ('ABC', 'AB'): 'DEL C',\n",
       " ('ABCD', ''): 'DEL D',\n",
       " ('ABCD', 'A'): 'DEL D',\n",
       " ('ABCD', 'AB'): 'DEL D',\n",
       " ('ABCD', 'ABC'): 'DEL D',\n",
       " ('ABCD', 'ABCC'): 'SUB D=>C',\n",
       " ('ABCD', 'ABCCE'): 'SUB D=>E',\n",
       " ('', 'ABCCEF'): 'ADD F',\n",
       " ('A', 'ABCCEF'): 'ADD F',\n",
       " ('AB', 'ABCCEF'): 'ADD F',\n",
       " ('ABC', 'ABCCEF'): 'ADD F',\n",
       " ('ABCD', 'ABCCEF'): 'SUB D=>F',\n",
       " ('ABCDE', 'ABCCE'): '',\n",
       " ('ABCDE', 'ABCCEF'): 'ADD F'}"
      ]
     },
     "execution_count": 83,
     "metadata": {},
     "output_type": "execute_result"
    }
   ],
   "source": [
    "solution"
   ]
  },
  {
   "cell_type": "code",
   "execution_count": 88,
   "metadata": {},
   "outputs": [
    {
     "data": {
      "text/plain": [
       "['ADD F', 'SUB D=>C']"
      ]
     },
     "execution_count": 88,
     "metadata": {},
     "output_type": "execute_result"
    }
   ],
   "source": [
    "pretty_parse_solution('ABCDE', 'ABCCEF')"
   ]
  },
  {
   "cell_type": "code",
   "execution_count": 90,
   "metadata": {
    "scrolled": true
   },
   "outputs": [
    {
     "data": {
      "text/plain": [
       "{('abcde', 'azce'): '',\n",
       " ('a', ''): 'DEL a',\n",
       " ('a', 'a'): '',\n",
       " ('', ''): '',\n",
       " ('ab', ''): 'DEL b',\n",
       " ('ab', 'a'): 'DEL b',\n",
       " ('', 'a'): 'ADD a',\n",
       " ('', 'az'): 'ADD z',\n",
       " ('a', 'az'): 'ADD z',\n",
       " ('ab', 'az'): 'SUB b=>z',\n",
       " ('abc', ''): 'DEL c',\n",
       " ('abc', 'a'): 'DEL c',\n",
       " ('abc', 'az'): 'SUB c=>z',\n",
       " ('abc', 'azc'): '',\n",
       " ('abcd', ''): 'DEL d',\n",
       " ('abcd', 'a'): 'DEL d',\n",
       " ('abcd', 'az'): 'SUB d=>z',\n",
       " ('abcd', 'azc'): 'DEL d',\n",
       " ('', 'azc'): 'ADD c',\n",
       " ('a', 'azc'): 'ADD c',\n",
       " ('ab', 'azc'): 'SUB b=>c',\n",
       " ('', 'azce'): 'ADD e',\n",
       " ('a', 'azce'): 'ADD e',\n",
       " ('ab', 'azce'): 'SUB b=>e',\n",
       " ('abc', 'azce'): 'ADD e',\n",
       " ('abcd', 'azce'): 'SUB d=>e',\n",
       " ('abcd', 'azced'): '',\n",
       " ('abcde', 'azced'): 'SUB e=>d',\n",
       " ('abcde', ''): 'DEL e',\n",
       " ('abcde', 'a'): 'DEL e',\n",
       " ('abcde', 'az'): 'SUB e=>z',\n",
       " ('abcde', 'azc'): 'DEL e',\n",
       " ('abcdef', ''): 'DEL f',\n",
       " ('abcdef', 'a'): 'DEL f',\n",
       " ('abcdef', 'az'): 'SUB f=>z',\n",
       " ('abcdef', 'azc'): 'DEL f',\n",
       " ('abcdef', 'azce'): 'DEL f',\n",
       " ('abcdef', 'azced'): 'SUB f=>d'}"
      ]
     },
     "execution_count": 90,
     "metadata": {},
     "output_type": "execute_result"
    }
   ],
   "source": [
    "solution = {}\n",
    "edit_distance('abcdef', 'azced')\n",
    "solution"
   ]
  },
  {
   "cell_type": "code",
   "execution_count": 91,
   "metadata": {
    "scrolled": true
   },
   "outputs": [
    {
     "data": {
      "text/plain": [
       "['SUB f=>d', 'DEL d', 'SUB b=>z']"
      ]
     },
     "execution_count": 91,
     "metadata": {},
     "output_type": "execute_result"
    }
   ],
   "source": [
    "pretty_parse_solution('abcdef', 'azced')"
   ]
  },
  {
   "cell_type": "code",
   "execution_count": 92,
   "metadata": {},
   "outputs": [
    {
     "data": {
      "text/plain": [
       "2"
      ]
     },
     "execution_count": 92,
     "metadata": {},
     "output_type": "execute_result"
    }
   ],
   "source": [
    "solution = {}\n",
    "edit_distance('a', 'bc')"
   ]
  },
  {
   "cell_type": "code",
   "execution_count": 93,
   "metadata": {},
   "outputs": [
    {
     "data": {
      "text/plain": [
       "{('', 'b'): 'ADD b',\n",
       " ('', 'bc'): 'ADD c',\n",
       " ('', ''): '',\n",
       " ('a', ''): 'DEL a',\n",
       " ('a', 'b'): 'SUB a=>b',\n",
       " ('a', 'bc'): 'SUB a=>c'}"
      ]
     },
     "execution_count": 93,
     "metadata": {},
     "output_type": "execute_result"
    }
   ],
   "source": [
    "solution"
   ]
  },
  {
   "cell_type": "code",
   "execution_count": 95,
   "metadata": {},
   "outputs": [
    {
     "data": {
      "text/plain": [
       "['SUB a=>c', 'ADD b']"
      ]
     },
     "execution_count": 95,
     "metadata": {},
     "output_type": "execute_result"
    }
   ],
   "source": [
    "pretty_parse_solution('a', 'bc')"
   ]
  },
  {
   "cell_type": "markdown",
   "metadata": {},
   "source": [
    "### Part 4 Choose 1 - 2 books to keep reading: \n",
    "\n",
    "+ SICP, Structure and Interpretation of Computer Programming. \n",
    "+ Introduction to Algorithms \n",
    "+ Artificial Intelligence A Modern Approach (3rd Edition) \n",
    "+ Code Complete 2 \n",
    "+ Programming Pearls \n",
    "+ Deep Learning\n",
    "+ 黑客与画家\n",
    "+ 数学之美\n",
    "+ Fluent Python\n",
    "+ Hands on Tensorflow\n",
    "+ Conference: NIPS_ ICML_ ICLR_ ACL_ AAAI\n",
    "\n",
    "> most books you may find in our github: https://github.com/Computing-Intelligence/References"
   ]
  },
  {
   "cell_type": "code",
   "execution_count": 3,
   "metadata": {},
   "outputs": [],
   "source": [
    "# Choose \"Fluent Python\" since i just bought the book."
   ]
  },
  {
   "cell_type": "markdown",
   "metadata": {},
   "source": [
    "## Part 5-1: review machine learning"
   ]
  },
  {
   "cell_type": "code",
   "execution_count": 1,
   "metadata": {},
   "outputs": [],
   "source": [
    "# Since the questions are covered in Assignment-02, copy the answers here"
   ]
  },
  {
   "cell_type": "markdown",
   "metadata": {},
   "source": [
    "1. Why do we use Derivative / Gredient to fit a target function?¶"
   ]
  },
  {
   "cell_type": "markdown",
   "metadata": {},
   "source": [
    "Ans: Because the gradient represents the largest/maximum direction in which the target increases. So along with the inververse direction, we could find the minmum of the target function most efficiently."
   ]
  },
  {
   "cell_type": "markdown",
   "metadata": {},
   "source": [
    "2. In the words 'Gredient Descent', what's the Gredient and what's the Descent?¶"
   ]
  },
  {
   "cell_type": "markdown",
   "metadata": {},
   "source": [
    "Ans: The gradient is a vector(ine one dimension, it's a scalar), with that direction, the target function increases most quickly. Descent means the inverse direction of the gradient, in which direction, the target funcion decreases most quickly. So we use this method to iteratively find the minimum of one function"
   ]
  },
  {
   "cell_type": "markdown",
   "metadata": {},
   "source": [
    "\n",
    "3. What's the advantages of the 3rd gradient descent method compared to the previous methods?"
   ]
  },
  {
   "cell_type": "markdown",
   "metadata": {},
   "source": [
    " Ans: It's the most efficient way to find the minmimum of the target function"
   ]
  },
  {
   "cell_type": "markdown",
   "metadata": {},
   "source": [
    "4. Using the simple words to describe: What's the machine leanring.¶"
   ]
  },
  {
   "cell_type": "markdown",
   "metadata": {},
   "source": [
    "Ans: Given a dataset, define a loss function, assume the relationship between X and Y, using the Gradient Descent to find the optimal parameters to minimize the defined loss function."
   ]
  },
  {
   "cell_type": "markdown",
   "metadata": {},
   "source": [
    "### Part 5: Answer following questions: "
   ]
  },
  {
   "cell_type": "markdown",
   "metadata": {},
   "source": [
    "1. Why do we need dynamic programming? What's the difference of dynamic programming and previous talked `search` problme? "
   ]
  },
  {
   "cell_type": "markdown",
   "metadata": {},
   "source": [
    "Ans: Because dynamic programming could solve complex problems by breaking it into smaller simple subproblems by recursive way. I think the difference is that DP is greedy search, while the optimal solution of search problem is not greedy."
   ]
  },
  {
   "cell_type": "markdown",
   "metadata": {},
   "source": [
    "2. Why do we still need dynamic programming? Why not we train a machine learning to fit a function which could get the `right` answer based on inputs?"
   ]
  },
  {
   "cell_type": "markdown",
   "metadata": {},
   "source": [
    "Ans: Because using the cache to store the intermediate results, DP could slove complex problem using a relatively efficient way. I didn't try using ML to solve DP problems, but i think it's going to be interesting to try it. A problem which comes to my mind is that it's difficult to collect a big enought dataset to train such a model. But i think we could at leat try RNN a bit."
   ]
  },
  {
   "cell_type": "markdown",
   "metadata": {},
   "source": [
    "3. Can you catch up at least 3 problems which could solved by Dynamic Programming? "
   ]
  },
  {
   "cell_type": "markdown",
   "metadata": {},
   "source": [
    "Ans: Shortest path problem; Fibonacci sequence; Edit distance;Rob Cutting Problem"
   ]
  },
  {
   "cell_type": "markdown",
   "metadata": {},
   "source": [
    "4. Can you catch up at least 3 problems wich could sloved by Edit Distance? "
   ]
  },
  {
   "cell_type": "markdown",
   "metadata": {},
   "source": [
    "Ans: Automatical spelling correction; In bioinformatics, it can be used to quantify the similarity of DNA sequences; Evaluating Machine Translation and speech recognition"
   ]
  },
  {
   "cell_type": "markdown",
   "metadata": {},
   "source": [
    "5. Please summarize the three main features of Dynamic Programming, and make a concise explain for each feature. "
   ]
  },
  {
   "cell_type": "markdown",
   "metadata": {},
   "source": [
    "Ans: 1. Overlapping subproblems 2.Overlapping computing saved in a table 3. Parse solution"
   ]
  },
  {
   "cell_type": "markdown",
   "metadata": {},
   "source": [
    "6. What's the disadvantages of Dynamic Programming? (You may need search by yourself in Internet)"
   ]
  },
  {
   "cell_type": "markdown",
   "metadata": {},
   "source": [
    "Ans: I guess the problem is that the stack could not be very deep, so DP could not slove very big problem."
   ]
  },
  {
   "cell_type": "markdown",
   "metadata": {},
   "source": [
    "## Part 6 Preparation of Project-01"
   ]
  },
  {
   "cell_type": "markdown",
   "metadata": {},
   "source": [
    "1. Using python Flask or Bottle to finish your first simple web app:\n",
    "> https://bottlepy.org/\n",
    "\n",
    "2. Learn what's the SQL, and try some simple SQL operations:\n",
    "> https://www.w3schools.com/sql/sql_intro.asp\n",
    "\n",
    "3. Learn what's the HTML ( *ONLY* need to know the basic things)\n",
    "> https://getbootstrap.com/; https://www.w3schools.com/html/"
   ]
  },
  {
   "cell_type": "markdown",
   "metadata": {},
   "source": [
    "### (Optinal) Finish the k-person-salesman problem:"
   ]
  },
  {
   "cell_type": "code",
   "execution_count": 7,
   "metadata": {},
   "outputs": [],
   "source": [
    "import random\n",
    "import matplotlib.pylab as plt"
   ]
  },
  {
   "cell_type": "code",
   "execution_count": 8,
   "metadata": {},
   "outputs": [],
   "source": [
    "latitudes = [random.randint(-100, 100) for _ in range(20)]\n",
    "longitude = [random.randint(-100, 100) for _ in range(20)]"
   ]
  },
  {
   "cell_type": "code",
   "execution_count": 9,
   "metadata": {},
   "outputs": [
    {
     "data": {
      "text/plain": [
       "<matplotlib.collections.PathCollection at 0x11da1c588>"
      ]
     },
     "execution_count": 9,
     "metadata": {},
     "output_type": "execute_result"
    },
    {
     "data": {
      "image/png": "[encoded data removed]",
      "text/plain": [
       "<Figure size 432x288 with 1 Axes>"
      ]
     },
     "metadata": {
      "needs_background": "light"
     },
     "output_type": "display_data"
    }
   ],
   "source": [
    "plt.scatter(latitudes, longitude)"
   ]
  },
  {
   "cell_type": "markdown",
   "metadata": {},
   "source": [
    "给定一个初始点 𝑃, 已经 𝑘个车辆，如何从该点出发，经这 k 个车辆经过所以的点全部一次，而且所走过的路程最短?\n",
    "\n",
    "例如："
   ]
  },
  {
   "cell_type": "code",
   "execution_count": 14,
   "metadata": {},
   "outputs": [],
   "source": [
    "chosen_p = (-50, 10)\n",
    "chosen_p2 = (1, 30)\n",
    "chosen_p3 = (99, 15)"
   ]
  },
  {
   "cell_type": "code",
   "execution_count": 4,
   "metadata": {},
   "outputs": [],
   "source": [
    "import matplotlib.pyplot as plt"
   ]
  },
  {
   "cell_type": "code",
   "execution_count": 15,
   "metadata": {
    "scrolled": true
   },
   "outputs": [
    {
     "data": {
      "text/plain": [
       "<matplotlib.collections.PathCollection at 0x11dbbd470>"
      ]
     },
     "execution_count": 15,
     "metadata": {},
     "output_type": "execute_result"
    },
    {
     "data": {
      "image/png": "[encoded data removed]",
      "text/plain": [
       "<Figure size 432x288 with 1 Axes>"
      ]
     },
     "metadata": {
      "needs_background": "light"
     },
     "output_type": "display_data"
    }
   ],
   "source": [
    "plt.scatter(latitudes, longitude)\n",
    "plt.scatter([chosen_p[0]], [chosen_p[1]], color='r')\n",
    "plt.scatter([chosen_p2[0]], [chosen_p2[1]], color='r')\n",
    "plt.scatter([chosen_p3[0]], [chosen_p3[1]], color='r')"
   ]
  }
 ],
 "metadata": {
  "kernelspec": {
   "display_name": "Python [conda env:cs231n]",
   "language": "python",
   "name": "conda-env-cs231n-py"
  },
  "language_info": {
   "codemirror_mode": {
    "name": "ipython",
    "version": 3
   },
   "file_extension": ".py",
   "mimetype": "text/x-python",
   "name": "python",
   "nbconvert_exporter": "python",
   "pygments_lexer": "ipython3",
   "version": "3.6.5"
  }
 },
 "nbformat": 4,
 "nbformat_minor": 2
}
